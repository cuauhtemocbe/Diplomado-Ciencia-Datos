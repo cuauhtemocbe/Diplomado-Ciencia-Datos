{
 "cells": [
  {
   "cell_type": "code",
   "execution_count": 1,
   "metadata": {},
   "outputs": [],
   "source": [
    "import sys\n",
    "import os\n",
    "\n",
    "project_root = os.path.abspath(\"..\")\n",
    "src_path = os.path.join(project_root, \"src\")\n",
    "\n",
    "if src_path not in sys.path:\n",
    "    sys.path.append(src_path)\n",
    "\n",
    "\n",
    "import pandas as pd\n",
    "import unidecode\n",
    "from sklearn.preprocessing import MinMaxScaler\n",
    "from sklearn.linear_model import LinearRegression\n",
    "from sklearn.model_selection import cross_val_score, train_test_split\n",
    "from sklearn.metrics import r2_score, mean_absolute_error, mean_absolute_percentage_error\n",
    "\n",
    "from data_analysis_octopus import (DataViz, detect_outliers_iqr, transform_outliers,\n",
    "    get_varclushi, get_pca, get_kbest, get_information_value)\n",
    "\n",
    "\n",
    "def count_percentage(df, columna):\n",
    "    # Realizar el conteo de valores en la columna especificada\n",
    "    conteo = df[columna].value_counts().reset_index()\n",
    "    conteo.columns = [columna, 'conteo']\n",
    "    \n",
    "    # Calcular los porcentajes\n",
    "    total = conteo['conteo'].sum()\n",
    "    conteo['porcentaje'] = round((conteo['conteo'] / total) * 100, 2)\n",
    "    \n",
    "    return conteo\n",
    "\n",
    "\n",
    "def create_feature_dataframe(data, column):\n",
    "    feature = data.columns[0]\n",
    "    category = data.at[0, column]\n",
    "    conteo = data.at[0, 'conteo']\n",
    "    porcentaje = data.at[0, 'porcentaje']\n",
    "    \n",
    "    # Constructing the final dictionary\n",
    "    variable = {\n",
    "        'feature': feature, \n",
    "        'category': category,\n",
    "        'conteo': conteo,\n",
    "        'porcentaje': porcentaje\n",
    "    }\n",
    "    \n",
    "    # Converting the dictionary to a DataFrame\n",
    "    return pd.DataFrame([variable])\n",
    "\n",
    "\n",
    "def freq_discrete(df, features):\n",
    "    for feature in features:\n",
    "        print(f\"Feature: {feature}\")\n",
    "        abs_ = df[feature].value_counts(dropna=False).to_frame().rename(columns={\"count\": \"Absolute frequency\"})\n",
    "        rel_ = df[feature].value_counts(dropna=False, normalize= True).to_frame().rename(columns={\"proportion\": \"Relative frequency\"})\n",
    "        freq = abs_.join(rel_)\n",
    "        freq[\"Accumulated frequency\"] = freq[\"Absolute frequency\"].cumsum()\n",
    "        freq[\"Accumulated %\"] = freq[\"Relative frequency\"].cumsum()\n",
    "        freq[\"Absolute frequency\"] = freq[\"Absolute frequency\"].map(lambda x: \"{:,.0f}\".format(x))\n",
    "        freq[\"Relative frequency\"] = freq[\"Relative frequency\"].map(lambda x: \"{:,.2%}\".format(x))\n",
    "        freq[\"Accumulated frequency\"] = freq[\"Accumulated frequency\"].map(lambda x: \"{:,.0f}\".format(x))\n",
    "        freq[\"Accumulated %\"] = freq[\"Accumulated %\"].map(lambda x: \"{:,.2%}\".format(x))\n",
    "        display(freq)\n",
    "\n",
    "\n",
    "def clean_name_columns(columns):\n",
    "    cleaned_columns_dict = {}\n",
    "    for col in columns:\n",
    "        \n",
    "        processed_col = unidecode.unidecode(\n",
    "            col.lower()\n",
    "               .replace(\"¿\", \"\")\n",
    "               .replace(\"?\", \"\")\n",
    "               .replace(\" (numérica)\", \"\")\n",
    "               .replace(\" (numérico)\", \"\")\n",
    "               .replace(\" \", \"_\")\n",
    "        )\n",
    "\n",
    "        cleaned_columns_dict[col] = processed_col\n",
    "\n",
    "    return cleaned_columns_dict\n",
    "\n",
    "\n",
    "def classify_colors(color):\n",
    "\n",
    "    if color != \"azul\":\n",
    "        return \"no es azul\"\n",
    "    \n",
    "    return color\n",
    "\n",
    "\n",
    "def classify_pets(pet):\n",
    "\n",
    "    if pet in [\"perrro\", \"perro\", \"perros\"]:\n",
    "        return \"perro\"\n",
    "    \n",
    "    if pet in [\"gato\"]:\n",
    "        return \"gato\"\n",
    "    \n",
    "    return \"otro\"\n",
    "\n",
    "\n",
    "def classify_tattoos(n_tattoos):\n",
    "    if n_tattoos <= 0:\n",
    "        return \"sin tatuajes\"\n",
    "    \n",
    "    if n_tattoos > 0:\n",
    "        return \"con tatuajes\"\n",
    "    \n",
    "    return float('nan')\n",
    "\n",
    "\n",
    "def classify_siblings(siblings):\n",
    "\n",
    "    if color != \"azul\":\n",
    "        return \"no es azul\"\n",
    "    \n",
    "    return color\n",
    "\n",
    "\n",
    "\n",
    "def clean_text(text):\n",
    "    text = unidecode.unidecode(text.lower())\n",
    "    return text"
   ]
  },
  {
   "cell_type": "markdown",
   "metadata": {},
   "source": [
    "# Regresión lineal"
   ]
  },
  {
   "cell_type": "markdown",
   "metadata": {},
   "source": [
    "## Lectura de los datos"
   ]
  },
  {
   "cell_type": "code",
   "execution_count": 2,
   "metadata": {},
   "outputs": [
    {
     "data": {
      "text/html": [
       "<div>\n",
       "<style scoped>\n",
       "    .dataframe tbody tr th:only-of-type {\n",
       "        vertical-align: middle;\n",
       "    }\n",
       "\n",
       "    .dataframe tbody tr th {\n",
       "        vertical-align: top;\n",
       "    }\n",
       "\n",
       "    .dataframe thead th {\n",
       "        text-align: right;\n",
       "    }\n",
       "</style>\n",
       "<table border=\"1\" class=\"dataframe\">\n",
       "  <thead>\n",
       "    <tr style=\"text-align: right;\">\n",
       "      <th></th>\n",
       "      <th>color_primario_favorito</th>\n",
       "      <th>edad_en_anos</th>\n",
       "      <th>estatura_en_metros</th>\n",
       "      <th>tipo_de_personalidad</th>\n",
       "      <th>numero_de_vasos_de_agua_que_tomas_al_dia</th>\n",
       "      <th>dia_o_noche</th>\n",
       "      <th>actividad_fisica</th>\n",
       "      <th>mascota_favorita</th>\n",
       "      <th>chile_del_que_pica_o_del_que_no_pica</th>\n",
       "      <th>numero_de_hermanos</th>\n",
       "      <th>las_quesadillas_van_con_queso</th>\n",
       "      <th>numero_de_tatuajes</th>\n",
       "      <th>team_frio_o_team_calor</th>\n",
       "    </tr>\n",
       "  </thead>\n",
       "  <tbody>\n",
       "    <tr>\n",
       "      <th>0</th>\n",
       "      <td>Azul</td>\n",
       "      <td>29</td>\n",
       "      <td>1.92</td>\n",
       "      <td>Introvertido</td>\n",
       "      <td>6</td>\n",
       "      <td>Noche</td>\n",
       "      <td>¿Qué es eso?</td>\n",
       "      <td>Perrro</td>\n",
       "      <td>Del que pica</td>\n",
       "      <td>2</td>\n",
       "      <td>Con queso</td>\n",
       "      <td>0</td>\n",
       "      <td>NaN</td>\n",
       "    </tr>\n",
       "    <tr>\n",
       "      <th>1</th>\n",
       "      <td>Azul</td>\n",
       "      <td>26</td>\n",
       "      <td>1.57</td>\n",
       "      <td>Introvertido</td>\n",
       "      <td>5</td>\n",
       "      <td>Noche</td>\n",
       "      <td>¿Qué es eso?</td>\n",
       "      <td>Perrro</td>\n",
       "      <td>Del que pica</td>\n",
       "      <td>0</td>\n",
       "      <td>Con queso</td>\n",
       "      <td>0</td>\n",
       "      <td>NaN</td>\n",
       "    </tr>\n",
       "    <tr>\n",
       "      <th>2</th>\n",
       "      <td>Azul</td>\n",
       "      <td>25</td>\n",
       "      <td>1.71</td>\n",
       "      <td>Introvertido</td>\n",
       "      <td>3</td>\n",
       "      <td>Noche</td>\n",
       "      <td>Si</td>\n",
       "      <td>Perrro</td>\n",
       "      <td>Del que pica</td>\n",
       "      <td>1</td>\n",
       "      <td>Con queso</td>\n",
       "      <td>0</td>\n",
       "      <td>NaN</td>\n",
       "    </tr>\n",
       "    <tr>\n",
       "      <th>3</th>\n",
       "      <td>Rojo</td>\n",
       "      <td>27</td>\n",
       "      <td>1.78</td>\n",
       "      <td>Introvertido</td>\n",
       "      <td>4</td>\n",
       "      <td>Noche</td>\n",
       "      <td>¿Qué es eso?</td>\n",
       "      <td>Perrro</td>\n",
       "      <td>Del que pica</td>\n",
       "      <td>1</td>\n",
       "      <td>Sin queso</td>\n",
       "      <td>0</td>\n",
       "      <td>NaN</td>\n",
       "    </tr>\n",
       "    <tr>\n",
       "      <th>4</th>\n",
       "      <td>Azul</td>\n",
       "      <td>23</td>\n",
       "      <td>1.7</td>\n",
       "      <td>Introvertido</td>\n",
       "      <td>4</td>\n",
       "      <td>Noche</td>\n",
       "      <td>Si</td>\n",
       "      <td>Gato</td>\n",
       "      <td>Del que no pica</td>\n",
       "      <td>2</td>\n",
       "      <td>Con queso</td>\n",
       "      <td>0</td>\n",
       "      <td>NaN</td>\n",
       "    </tr>\n",
       "  </tbody>\n",
       "</table>\n",
       "</div>"
      ],
      "text/plain": [
       "  color_primario_favorito edad_en_anos estatura_en_metros  \\\n",
       "0                    Azul           29               1.92   \n",
       "1                    Azul           26               1.57   \n",
       "2                    Azul           25               1.71   \n",
       "3                    Rojo           27               1.78   \n",
       "4                    Azul           23                1.7   \n",
       "\n",
       "  tipo_de_personalidad numero_de_vasos_de_agua_que_tomas_al_dia dia_o_noche  \\\n",
       "0         Introvertido                                        6       Noche   \n",
       "1         Introvertido                                        5       Noche   \n",
       "2         Introvertido                                        3       Noche   \n",
       "3         Introvertido                                        4       Noche   \n",
       "4         Introvertido                                        4       Noche   \n",
       "\n",
       "  actividad_fisica mascota_favorita chile_del_que_pica_o_del_que_no_pica  \\\n",
       "0     ¿Qué es eso?           Perrro                         Del que pica   \n",
       "1     ¿Qué es eso?           Perrro                         Del que pica   \n",
       "2               Si           Perrro                         Del que pica   \n",
       "3     ¿Qué es eso?           Perrro                         Del que pica   \n",
       "4               Si             Gato                      Del que no pica   \n",
       "\n",
       "  numero_de_hermanos las_quesadillas_van_con_queso numero_de_tatuajes  \\\n",
       "0                  2                     Con queso                  0   \n",
       "1                  0                     Con queso                  0   \n",
       "2                  1                     Con queso                  0   \n",
       "3                  1                     Sin queso                  0   \n",
       "4                  2                     Con queso                  0   \n",
       "\n",
       "  team_frio_o_team_calor  \n",
       "0                    NaN  \n",
       "1                    NaN  \n",
       "2                    NaN  \n",
       "3                    NaN  \n",
       "4                    NaN  "
      ]
     },
     "execution_count": 2,
     "metadata": {},
     "output_type": "execute_result"
    }
   ],
   "source": [
    "filename = \"/workspace/data/Team-calor- o-team-frío.csv\"\n",
    "raw_df = pd.read_csv(filename).drop(columns=\"Marca temporal\")\n",
    "\n",
    "new_name_columns = clean_name_columns(raw_df.columns)\n",
    "raw_df = raw_df.rename(columns=new_name_columns)\n",
    "raw_df.head()"
   ]
  },
  {
   "cell_type": "markdown",
   "metadata": {},
   "source": [
    "## Preprocesamiento"
   ]
  },
  {
   "cell_type": "code",
   "execution_count": 3,
   "metadata": {},
   "outputs": [],
   "source": [
    "categoricas = [\n",
    "    \"color_primario_favorito\",\n",
    "    \"tipo_de_personalidad\",\n",
    "    \"dia_o_noche\",\n",
    "    \"actividad_fisica\",\n",
    "    \"mascota_favorita\",\n",
    "    \"chile_del_que_pica_o_del_que_no_pica\",\n",
    "    \"las_quesadillas_van_con_queso\",\n",
    "    \"team_frio_o_team_calor\"\n",
    "]\n",
    "\n",
    "numericas = [\n",
    "    \"edad_en_anos\",\n",
    "    \"numero_de_hermanos\",\n",
    "    \"estatura_en_metros\",\n",
    "    \"numero_de_vasos_de_agua_que_tomas_al_dia\",\n",
    "    \"numero_de_tatuajes\"\n",
    "]"
   ]
  },
  {
   "cell_type": "code",
   "execution_count": 4,
   "metadata": {},
   "outputs": [
    {
     "name": "stderr",
     "output_type": "stream",
     "text": [
      "/tmp/ipykernel_111807/2966697770.py:4: FutureWarning: DataFrame.applymap has been deprecated. Use DataFrame.map instead.\n",
      "  processed_df = processed_df.applymap(lambda value: value.strip())\n",
      "/tmp/ipykernel_111807/2966697770.py:5: FutureWarning: DataFrame.applymap has been deprecated. Use DataFrame.map instead.\n",
      "  processed_df[categoricas] = processed_df[categoricas].applymap(clean_text)\n"
     ]
    }
   ],
   "source": [
    "processed_df = raw_df.copy()\n",
    "\n",
    "processed_df[categoricas] = processed_df[categoricas].fillna(\"\")\n",
    "processed_df = processed_df.applymap(lambda value: value.strip())\n",
    "processed_df[categoricas] = processed_df[categoricas].applymap(clean_text)\n",
    "\n",
    "# Reclasificaicón de categorías\n",
    "processed_df[\"color_primario_favorito\"] = processed_df[\"color_primario_favorito\"].apply(classify_colors)\n",
    "processed_df[\"mascota_favorita\"] = processed_df[\"mascota_favorita\"].apply(classify_pets)\n",
    "# Se transforman a con tatuajes o sin tatuajes, ya que, al detectar outliers, \n",
    "# mediante IQR, aquellos con valores mayoes a 0, son valores atípicos, \n",
    "# para conservar la información se recategoriza en: 'con tatuajes' & 'sin tatuajes\n",
    "processed_df[\"tatuajes\"] = processed_df[\"numero_de_tatuajes\"].apply(pd.to_numeric, errors='coerce').apply(classify_tattoos)\n",
    "# processed_df[\"hermanos\"] = processed_df[\"numero_de_tatuajes\"].apply(pd.to_numeric, errors='coerce').apply(classify_tattoos)\n"
   ]
  },
  {
   "cell_type": "code",
   "execution_count": 5,
   "metadata": {},
   "outputs": [],
   "source": [
    "categoricas.append(\"tatuajes\")"
   ]
  },
  {
   "cell_type": "code",
   "execution_count": 6,
   "metadata": {},
   "outputs": [
    {
     "name": "stdout",
     "output_type": "stream",
     "text": [
      "Feature: color_primario_favorito\n"
     ]
    },
    {
     "data": {
      "text/html": [
       "<div>\n",
       "<style scoped>\n",
       "    .dataframe tbody tr th:only-of-type {\n",
       "        vertical-align: middle;\n",
       "    }\n",
       "\n",
       "    .dataframe tbody tr th {\n",
       "        vertical-align: top;\n",
       "    }\n",
       "\n",
       "    .dataframe thead th {\n",
       "        text-align: right;\n",
       "    }\n",
       "</style>\n",
       "<table border=\"1\" class=\"dataframe\">\n",
       "  <thead>\n",
       "    <tr style=\"text-align: right;\">\n",
       "      <th></th>\n",
       "      <th>Absolute frequency</th>\n",
       "      <th>Relative frequency</th>\n",
       "      <th>Accumulated frequency</th>\n",
       "      <th>Accumulated %</th>\n",
       "    </tr>\n",
       "    <tr>\n",
       "      <th>color_primario_favorito</th>\n",
       "      <th></th>\n",
       "      <th></th>\n",
       "      <th></th>\n",
       "      <th></th>\n",
       "    </tr>\n",
       "  </thead>\n",
       "  <tbody>\n",
       "    <tr>\n",
       "      <th>azul</th>\n",
       "      <td>69</td>\n",
       "      <td>57.98%</td>\n",
       "      <td>69</td>\n",
       "      <td>57.98%</td>\n",
       "    </tr>\n",
       "    <tr>\n",
       "      <th>no es azul</th>\n",
       "      <td>50</td>\n",
       "      <td>42.02%</td>\n",
       "      <td>119</td>\n",
       "      <td>100.00%</td>\n",
       "    </tr>\n",
       "  </tbody>\n",
       "</table>\n",
       "</div>"
      ],
      "text/plain": [
       "                        Absolute frequency Relative frequency  \\\n",
       "color_primario_favorito                                         \n",
       "azul                                    69             57.98%   \n",
       "no es azul                              50             42.02%   \n",
       "\n",
       "                        Accumulated frequency Accumulated %  \n",
       "color_primario_favorito                                      \n",
       "azul                                       69        57.98%  \n",
       "no es azul                                119       100.00%  "
      ]
     },
     "metadata": {},
     "output_type": "display_data"
    },
    {
     "name": "stdout",
     "output_type": "stream",
     "text": [
      "Feature: tipo_de_personalidad\n"
     ]
    },
    {
     "data": {
      "text/html": [
       "<div>\n",
       "<style scoped>\n",
       "    .dataframe tbody tr th:only-of-type {\n",
       "        vertical-align: middle;\n",
       "    }\n",
       "\n",
       "    .dataframe tbody tr th {\n",
       "        vertical-align: top;\n",
       "    }\n",
       "\n",
       "    .dataframe thead th {\n",
       "        text-align: right;\n",
       "    }\n",
       "</style>\n",
       "<table border=\"1\" class=\"dataframe\">\n",
       "  <thead>\n",
       "    <tr style=\"text-align: right;\">\n",
       "      <th></th>\n",
       "      <th>Absolute frequency</th>\n",
       "      <th>Relative frequency</th>\n",
       "      <th>Accumulated frequency</th>\n",
       "      <th>Accumulated %</th>\n",
       "    </tr>\n",
       "    <tr>\n",
       "      <th>tipo_de_personalidad</th>\n",
       "      <th></th>\n",
       "      <th></th>\n",
       "      <th></th>\n",
       "      <th></th>\n",
       "    </tr>\n",
       "  </thead>\n",
       "  <tbody>\n",
       "    <tr>\n",
       "      <th>introvertido</th>\n",
       "      <td>74</td>\n",
       "      <td>62.18%</td>\n",
       "      <td>74</td>\n",
       "      <td>62.18%</td>\n",
       "    </tr>\n",
       "    <tr>\n",
       "      <th>extrovertido</th>\n",
       "      <td>45</td>\n",
       "      <td>37.82%</td>\n",
       "      <td>119</td>\n",
       "      <td>100.00%</td>\n",
       "    </tr>\n",
       "  </tbody>\n",
       "</table>\n",
       "</div>"
      ],
      "text/plain": [
       "                     Absolute frequency Relative frequency  \\\n",
       "tipo_de_personalidad                                         \n",
       "introvertido                         74             62.18%   \n",
       "extrovertido                         45             37.82%   \n",
       "\n",
       "                     Accumulated frequency Accumulated %  \n",
       "tipo_de_personalidad                                      \n",
       "introvertido                            74        62.18%  \n",
       "extrovertido                           119       100.00%  "
      ]
     },
     "metadata": {},
     "output_type": "display_data"
    },
    {
     "name": "stdout",
     "output_type": "stream",
     "text": [
      "Feature: dia_o_noche\n"
     ]
    },
    {
     "data": {
      "text/html": [
       "<div>\n",
       "<style scoped>\n",
       "    .dataframe tbody tr th:only-of-type {\n",
       "        vertical-align: middle;\n",
       "    }\n",
       "\n",
       "    .dataframe tbody tr th {\n",
       "        vertical-align: top;\n",
       "    }\n",
       "\n",
       "    .dataframe thead th {\n",
       "        text-align: right;\n",
       "    }\n",
       "</style>\n",
       "<table border=\"1\" class=\"dataframe\">\n",
       "  <thead>\n",
       "    <tr style=\"text-align: right;\">\n",
       "      <th></th>\n",
       "      <th>Absolute frequency</th>\n",
       "      <th>Relative frequency</th>\n",
       "      <th>Accumulated frequency</th>\n",
       "      <th>Accumulated %</th>\n",
       "    </tr>\n",
       "    <tr>\n",
       "      <th>dia_o_noche</th>\n",
       "      <th></th>\n",
       "      <th></th>\n",
       "      <th></th>\n",
       "      <th></th>\n",
       "    </tr>\n",
       "  </thead>\n",
       "  <tbody>\n",
       "    <tr>\n",
       "      <th>noche</th>\n",
       "      <td>85</td>\n",
       "      <td>71.43%</td>\n",
       "      <td>85</td>\n",
       "      <td>71.43%</td>\n",
       "    </tr>\n",
       "    <tr>\n",
       "      <th>dia</th>\n",
       "      <td>34</td>\n",
       "      <td>28.57%</td>\n",
       "      <td>119</td>\n",
       "      <td>100.00%</td>\n",
       "    </tr>\n",
       "  </tbody>\n",
       "</table>\n",
       "</div>"
      ],
      "text/plain": [
       "            Absolute frequency Relative frequency Accumulated frequency  \\\n",
       "dia_o_noche                                                               \n",
       "noche                       85             71.43%                    85   \n",
       "dia                         34             28.57%                   119   \n",
       "\n",
       "            Accumulated %  \n",
       "dia_o_noche                \n",
       "noche              71.43%  \n",
       "dia               100.00%  "
      ]
     },
     "metadata": {},
     "output_type": "display_data"
    },
    {
     "name": "stdout",
     "output_type": "stream",
     "text": [
      "Feature: actividad_fisica\n"
     ]
    },
    {
     "data": {
      "text/html": [
       "<div>\n",
       "<style scoped>\n",
       "    .dataframe tbody tr th:only-of-type {\n",
       "        vertical-align: middle;\n",
       "    }\n",
       "\n",
       "    .dataframe tbody tr th {\n",
       "        vertical-align: top;\n",
       "    }\n",
       "\n",
       "    .dataframe thead th {\n",
       "        text-align: right;\n",
       "    }\n",
       "</style>\n",
       "<table border=\"1\" class=\"dataframe\">\n",
       "  <thead>\n",
       "    <tr style=\"text-align: right;\">\n",
       "      <th></th>\n",
       "      <th>Absolute frequency</th>\n",
       "      <th>Relative frequency</th>\n",
       "      <th>Accumulated frequency</th>\n",
       "      <th>Accumulated %</th>\n",
       "    </tr>\n",
       "    <tr>\n",
       "      <th>actividad_fisica</th>\n",
       "      <th></th>\n",
       "      <th></th>\n",
       "      <th></th>\n",
       "      <th></th>\n",
       "    </tr>\n",
       "  </thead>\n",
       "  <tbody>\n",
       "    <tr>\n",
       "      <th>si</th>\n",
       "      <td>84</td>\n",
       "      <td>70.59%</td>\n",
       "      <td>84</td>\n",
       "      <td>70.59%</td>\n",
       "    </tr>\n",
       "    <tr>\n",
       "      <th>?que es eso?</th>\n",
       "      <td>33</td>\n",
       "      <td>27.73%</td>\n",
       "      <td>117</td>\n",
       "      <td>98.32%</td>\n",
       "    </tr>\n",
       "    <tr>\n",
       "      <th>no</th>\n",
       "      <td>2</td>\n",
       "      <td>1.68%</td>\n",
       "      <td>119</td>\n",
       "      <td>100.00%</td>\n",
       "    </tr>\n",
       "  </tbody>\n",
       "</table>\n",
       "</div>"
      ],
      "text/plain": [
       "                 Absolute frequency Relative frequency Accumulated frequency  \\\n",
       "actividad_fisica                                                               \n",
       "si                               84             70.59%                    84   \n",
       "?que es eso?                     33             27.73%                   117   \n",
       "no                                2              1.68%                   119   \n",
       "\n",
       "                 Accumulated %  \n",
       "actividad_fisica                \n",
       "si                      70.59%  \n",
       "?que es eso?            98.32%  \n",
       "no                     100.00%  "
      ]
     },
     "metadata": {},
     "output_type": "display_data"
    },
    {
     "name": "stdout",
     "output_type": "stream",
     "text": [
      "Feature: mascota_favorita\n"
     ]
    },
    {
     "data": {
      "text/html": [
       "<div>\n",
       "<style scoped>\n",
       "    .dataframe tbody tr th:only-of-type {\n",
       "        vertical-align: middle;\n",
       "    }\n",
       "\n",
       "    .dataframe tbody tr th {\n",
       "        vertical-align: top;\n",
       "    }\n",
       "\n",
       "    .dataframe thead th {\n",
       "        text-align: right;\n",
       "    }\n",
       "</style>\n",
       "<table border=\"1\" class=\"dataframe\">\n",
       "  <thead>\n",
       "    <tr style=\"text-align: right;\">\n",
       "      <th></th>\n",
       "      <th>Absolute frequency</th>\n",
       "      <th>Relative frequency</th>\n",
       "      <th>Accumulated frequency</th>\n",
       "      <th>Accumulated %</th>\n",
       "    </tr>\n",
       "    <tr>\n",
       "      <th>mascota_favorita</th>\n",
       "      <th></th>\n",
       "      <th></th>\n",
       "      <th></th>\n",
       "      <th></th>\n",
       "    </tr>\n",
       "  </thead>\n",
       "  <tbody>\n",
       "    <tr>\n",
       "      <th>perro</th>\n",
       "      <td>80</td>\n",
       "      <td>67.23%</td>\n",
       "      <td>80</td>\n",
       "      <td>67.23%</td>\n",
       "    </tr>\n",
       "    <tr>\n",
       "      <th>gato</th>\n",
       "      <td>32</td>\n",
       "      <td>26.89%</td>\n",
       "      <td>112</td>\n",
       "      <td>94.12%</td>\n",
       "    </tr>\n",
       "    <tr>\n",
       "      <th>otro</th>\n",
       "      <td>7</td>\n",
       "      <td>5.88%</td>\n",
       "      <td>119</td>\n",
       "      <td>100.00%</td>\n",
       "    </tr>\n",
       "  </tbody>\n",
       "</table>\n",
       "</div>"
      ],
      "text/plain": [
       "                 Absolute frequency Relative frequency Accumulated frequency  \\\n",
       "mascota_favorita                                                               \n",
       "perro                            80             67.23%                    80   \n",
       "gato                             32             26.89%                   112   \n",
       "otro                              7              5.88%                   119   \n",
       "\n",
       "                 Accumulated %  \n",
       "mascota_favorita                \n",
       "perro                   67.23%  \n",
       "gato                    94.12%  \n",
       "otro                   100.00%  "
      ]
     },
     "metadata": {},
     "output_type": "display_data"
    },
    {
     "name": "stdout",
     "output_type": "stream",
     "text": [
      "Feature: chile_del_que_pica_o_del_que_no_pica\n"
     ]
    },
    {
     "data": {
      "text/html": [
       "<div>\n",
       "<style scoped>\n",
       "    .dataframe tbody tr th:only-of-type {\n",
       "        vertical-align: middle;\n",
       "    }\n",
       "\n",
       "    .dataframe tbody tr th {\n",
       "        vertical-align: top;\n",
       "    }\n",
       "\n",
       "    .dataframe thead th {\n",
       "        text-align: right;\n",
       "    }\n",
       "</style>\n",
       "<table border=\"1\" class=\"dataframe\">\n",
       "  <thead>\n",
       "    <tr style=\"text-align: right;\">\n",
       "      <th></th>\n",
       "      <th>Absolute frequency</th>\n",
       "      <th>Relative frequency</th>\n",
       "      <th>Accumulated frequency</th>\n",
       "      <th>Accumulated %</th>\n",
       "    </tr>\n",
       "    <tr>\n",
       "      <th>chile_del_que_pica_o_del_que_no_pica</th>\n",
       "      <th></th>\n",
       "      <th></th>\n",
       "      <th></th>\n",
       "      <th></th>\n",
       "    </tr>\n",
       "  </thead>\n",
       "  <tbody>\n",
       "    <tr>\n",
       "      <th>del que pica</th>\n",
       "      <td>87</td>\n",
       "      <td>73.11%</td>\n",
       "      <td>87</td>\n",
       "      <td>73.11%</td>\n",
       "    </tr>\n",
       "    <tr>\n",
       "      <th>del que no pica</th>\n",
       "      <td>32</td>\n",
       "      <td>26.89%</td>\n",
       "      <td>119</td>\n",
       "      <td>100.00%</td>\n",
       "    </tr>\n",
       "  </tbody>\n",
       "</table>\n",
       "</div>"
      ],
      "text/plain": [
       "                                     Absolute frequency Relative frequency  \\\n",
       "chile_del_que_pica_o_del_que_no_pica                                         \n",
       "del que pica                                         87             73.11%   \n",
       "del que no pica                                      32             26.89%   \n",
       "\n",
       "                                     Accumulated frequency Accumulated %  \n",
       "chile_del_que_pica_o_del_que_no_pica                                      \n",
       "del que pica                                            87        73.11%  \n",
       "del que no pica                                        119       100.00%  "
      ]
     },
     "metadata": {},
     "output_type": "display_data"
    },
    {
     "name": "stdout",
     "output_type": "stream",
     "text": [
      "Feature: las_quesadillas_van_con_queso\n"
     ]
    },
    {
     "data": {
      "text/html": [
       "<div>\n",
       "<style scoped>\n",
       "    .dataframe tbody tr th:only-of-type {\n",
       "        vertical-align: middle;\n",
       "    }\n",
       "\n",
       "    .dataframe tbody tr th {\n",
       "        vertical-align: top;\n",
       "    }\n",
       "\n",
       "    .dataframe thead th {\n",
       "        text-align: right;\n",
       "    }\n",
       "</style>\n",
       "<table border=\"1\" class=\"dataframe\">\n",
       "  <thead>\n",
       "    <tr style=\"text-align: right;\">\n",
       "      <th></th>\n",
       "      <th>Absolute frequency</th>\n",
       "      <th>Relative frequency</th>\n",
       "      <th>Accumulated frequency</th>\n",
       "      <th>Accumulated %</th>\n",
       "    </tr>\n",
       "    <tr>\n",
       "      <th>las_quesadillas_van_con_queso</th>\n",
       "      <th></th>\n",
       "      <th></th>\n",
       "      <th></th>\n",
       "      <th></th>\n",
       "    </tr>\n",
       "  </thead>\n",
       "  <tbody>\n",
       "    <tr>\n",
       "      <th>con queso</th>\n",
       "      <td>90</td>\n",
       "      <td>75.63%</td>\n",
       "      <td>90</td>\n",
       "      <td>75.63%</td>\n",
       "    </tr>\n",
       "    <tr>\n",
       "      <th>sin queso</th>\n",
       "      <td>29</td>\n",
       "      <td>24.37%</td>\n",
       "      <td>119</td>\n",
       "      <td>100.00%</td>\n",
       "    </tr>\n",
       "  </tbody>\n",
       "</table>\n",
       "</div>"
      ],
      "text/plain": [
       "                              Absolute frequency Relative frequency  \\\n",
       "las_quesadillas_van_con_queso                                         \n",
       "con queso                                     90             75.63%   \n",
       "sin queso                                     29             24.37%   \n",
       "\n",
       "                              Accumulated frequency Accumulated %  \n",
       "las_quesadillas_van_con_queso                                      \n",
       "con queso                                        90        75.63%  \n",
       "sin queso                                       119       100.00%  "
      ]
     },
     "metadata": {},
     "output_type": "display_data"
    },
    {
     "name": "stdout",
     "output_type": "stream",
     "text": [
      "Feature: team_frio_o_team_calor\n"
     ]
    },
    {
     "data": {
      "text/html": [
       "<div>\n",
       "<style scoped>\n",
       "    .dataframe tbody tr th:only-of-type {\n",
       "        vertical-align: middle;\n",
       "    }\n",
       "\n",
       "    .dataframe tbody tr th {\n",
       "        vertical-align: top;\n",
       "    }\n",
       "\n",
       "    .dataframe thead th {\n",
       "        text-align: right;\n",
       "    }\n",
       "</style>\n",
       "<table border=\"1\" class=\"dataframe\">\n",
       "  <thead>\n",
       "    <tr style=\"text-align: right;\">\n",
       "      <th></th>\n",
       "      <th>Absolute frequency</th>\n",
       "      <th>Relative frequency</th>\n",
       "      <th>Accumulated frequency</th>\n",
       "      <th>Accumulated %</th>\n",
       "    </tr>\n",
       "    <tr>\n",
       "      <th>team_frio_o_team_calor</th>\n",
       "      <th></th>\n",
       "      <th></th>\n",
       "      <th></th>\n",
       "      <th></th>\n",
       "    </tr>\n",
       "  </thead>\n",
       "  <tbody>\n",
       "    <tr>\n",
       "      <th>team frio</th>\n",
       "      <td>87</td>\n",
       "      <td>73.11%</td>\n",
       "      <td>87</td>\n",
       "      <td>73.11%</td>\n",
       "    </tr>\n",
       "    <tr>\n",
       "      <th>team calor</th>\n",
       "      <td>18</td>\n",
       "      <td>15.13%</td>\n",
       "      <td>105</td>\n",
       "      <td>88.24%</td>\n",
       "    </tr>\n",
       "    <tr>\n",
       "      <th></th>\n",
       "      <td>14</td>\n",
       "      <td>11.76%</td>\n",
       "      <td>119</td>\n",
       "      <td>100.00%</td>\n",
       "    </tr>\n",
       "  </tbody>\n",
       "</table>\n",
       "</div>"
      ],
      "text/plain": [
       "                       Absolute frequency Relative frequency  \\\n",
       "team_frio_o_team_calor                                         \n",
       "team frio                              87             73.11%   \n",
       "team calor                             18             15.13%   \n",
       "                                       14             11.76%   \n",
       "\n",
       "                       Accumulated frequency Accumulated %  \n",
       "team_frio_o_team_calor                                      \n",
       "team frio                                 87        73.11%  \n",
       "team calor                               105        88.24%  \n",
       "                                         119       100.00%  "
      ]
     },
     "metadata": {},
     "output_type": "display_data"
    },
    {
     "name": "stdout",
     "output_type": "stream",
     "text": [
      "Feature: tatuajes\n"
     ]
    },
    {
     "data": {
      "text/html": [
       "<div>\n",
       "<style scoped>\n",
       "    .dataframe tbody tr th:only-of-type {\n",
       "        vertical-align: middle;\n",
       "    }\n",
       "\n",
       "    .dataframe tbody tr th {\n",
       "        vertical-align: top;\n",
       "    }\n",
       "\n",
       "    .dataframe thead th {\n",
       "        text-align: right;\n",
       "    }\n",
       "</style>\n",
       "<table border=\"1\" class=\"dataframe\">\n",
       "  <thead>\n",
       "    <tr style=\"text-align: right;\">\n",
       "      <th></th>\n",
       "      <th>Absolute frequency</th>\n",
       "      <th>Relative frequency</th>\n",
       "      <th>Accumulated frequency</th>\n",
       "      <th>Accumulated %</th>\n",
       "    </tr>\n",
       "    <tr>\n",
       "      <th>tatuajes</th>\n",
       "      <th></th>\n",
       "      <th></th>\n",
       "      <th></th>\n",
       "      <th></th>\n",
       "    </tr>\n",
       "  </thead>\n",
       "  <tbody>\n",
       "    <tr>\n",
       "      <th>sin tatuajes</th>\n",
       "      <td>93</td>\n",
       "      <td>78.15%</td>\n",
       "      <td>93</td>\n",
       "      <td>78.15%</td>\n",
       "    </tr>\n",
       "    <tr>\n",
       "      <th>con tatuajes</th>\n",
       "      <td>25</td>\n",
       "      <td>21.01%</td>\n",
       "      <td>118</td>\n",
       "      <td>99.16%</td>\n",
       "    </tr>\n",
       "    <tr>\n",
       "      <th>NaN</th>\n",
       "      <td>1</td>\n",
       "      <td>0.84%</td>\n",
       "      <td>119</td>\n",
       "      <td>100.00%</td>\n",
       "    </tr>\n",
       "  </tbody>\n",
       "</table>\n",
       "</div>"
      ],
      "text/plain": [
       "             Absolute frequency Relative frequency Accumulated frequency  \\\n",
       "tatuajes                                                                   \n",
       "sin tatuajes                 93             78.15%                    93   \n",
       "con tatuajes                 25             21.01%                   118   \n",
       "NaN                           1              0.84%                   119   \n",
       "\n",
       "             Accumulated %  \n",
       "tatuajes                    \n",
       "sin tatuajes        78.15%  \n",
       "con tatuajes        99.16%  \n",
       "NaN                100.00%  "
      ]
     },
     "metadata": {},
     "output_type": "display_data"
    }
   ],
   "source": [
    "freq_discrete(processed_df, categoricas)"
   ]
  },
  {
   "cell_type": "code",
   "execution_count": 7,
   "metadata": {},
   "outputs": [],
   "source": [
    "processed_df[numericas] = processed_df[numericas].apply(pd.to_numeric, errors='coerce')"
   ]
  },
  {
   "cell_type": "markdown",
   "metadata": {},
   "source": [
    "#### Detección y remoción de variables poco pobladas"
   ]
  },
  {
   "cell_type": "code",
   "execution_count": 8,
   "metadata": {},
   "outputs": [
    {
     "data": {
      "text/html": [
       "<div>\n",
       "<style scoped>\n",
       "    .dataframe tbody tr th:only-of-type {\n",
       "        vertical-align: middle;\n",
       "    }\n",
       "\n",
       "    .dataframe tbody tr th {\n",
       "        vertical-align: top;\n",
       "    }\n",
       "\n",
       "    .dataframe thead th {\n",
       "        text-align: right;\n",
       "    }\n",
       "</style>\n",
       "<table border=\"1\" class=\"dataframe\">\n",
       "  <thead>\n",
       "    <tr style=\"text-align: right;\">\n",
       "      <th></th>\n",
       "      <th>Total de nulos</th>\n",
       "      <th>% valores nulos</th>\n",
       "    </tr>\n",
       "  </thead>\n",
       "  <tbody>\n",
       "  </tbody>\n",
       "</table>\n",
       "</div>"
      ],
      "text/plain": [
       "Empty DataFrame\n",
       "Columns: [Total de nulos, % valores nulos]\n",
       "Index: []"
      ]
     },
     "execution_count": 8,
     "metadata": {},
     "output_type": "execute_result"
    }
   ],
   "source": [
    "# No es necesario eliminar variables poco pobladas\n",
    "THRESHOLD = 65\n",
    "completitud_df = DataViz.completitud(processed_df)\n",
    "completitud_df[completitud_df[\"% valores nulos\"] >= THRESHOLD]"
   ]
  },
  {
   "cell_type": "markdown",
   "metadata": {},
   "source": [
    "#### Detección y remoción de valores extremos"
   ]
  },
  {
   "cell_type": "code",
   "execution_count": 9,
   "metadata": {},
   "outputs": [],
   "source": [
    "for c in numericas:\n",
    "    lower_bound, upper_bound = detect_outliers_iqr(processed_df, c)\n",
    "    processed_df = transform_outliers(processed_df, c, lower_bound, upper_bound)"
   ]
  },
  {
   "cell_type": "markdown",
   "metadata": {},
   "source": [
    "#### Detección y tratamiento de valores ausentes"
   ]
  },
  {
   "cell_type": "code",
   "execution_count": 10,
   "metadata": {},
   "outputs": [],
   "source": [
    "for col in numericas:\n",
    "    media = processed_df[col].median()\n",
    "    processed_df.loc[:, col] = processed_df[col].fillna(media)  \n",
    "\n",
    "for col in categoricas:\n",
    "    moda = processed_df[col].mode()[0]\n",
    "    processed_df.loc[:, col] = processed_df[col].fillna(moda)"
   ]
  },
  {
   "cell_type": "code",
   "execution_count": 11,
   "metadata": {},
   "outputs": [
    {
     "data": {
      "text/html": [
       "<div>\n",
       "<style scoped>\n",
       "    .dataframe tbody tr th:only-of-type {\n",
       "        vertical-align: middle;\n",
       "    }\n",
       "\n",
       "    .dataframe tbody tr th {\n",
       "        vertical-align: top;\n",
       "    }\n",
       "\n",
       "    .dataframe thead th {\n",
       "        text-align: right;\n",
       "    }\n",
       "</style>\n",
       "<table border=\"1\" class=\"dataframe\">\n",
       "  <thead>\n",
       "    <tr style=\"text-align: right;\">\n",
       "      <th></th>\n",
       "      <th>edad_en_anos</th>\n",
       "      <th>numero_de_hermanos</th>\n",
       "      <th>estatura_en_metros</th>\n",
       "      <th>numero_de_vasos_de_agua_que_tomas_al_dia</th>\n",
       "      <th>numero_de_tatuajes</th>\n",
       "    </tr>\n",
       "  </thead>\n",
       "  <tbody>\n",
       "    <tr>\n",
       "      <th>count</th>\n",
       "      <td>119.000000</td>\n",
       "      <td>119.000000</td>\n",
       "      <td>119.000000</td>\n",
       "      <td>119.000000</td>\n",
       "      <td>119.0</td>\n",
       "    </tr>\n",
       "    <tr>\n",
       "      <th>mean</th>\n",
       "      <td>24.756303</td>\n",
       "      <td>1.634454</td>\n",
       "      <td>1.749118</td>\n",
       "      <td>6.327731</td>\n",
       "      <td>0.0</td>\n",
       "    </tr>\n",
       "    <tr>\n",
       "      <th>std</th>\n",
       "      <td>4.085871</td>\n",
       "      <td>0.908289</td>\n",
       "      <td>0.149020</td>\n",
       "      <td>2.690565</td>\n",
       "      <td>0.0</td>\n",
       "    </tr>\n",
       "    <tr>\n",
       "      <th>min</th>\n",
       "      <td>14.500000</td>\n",
       "      <td>-0.500000</td>\n",
       "      <td>1.400000</td>\n",
       "      <td>-2.000000</td>\n",
       "      <td>0.0</td>\n",
       "    </tr>\n",
       "    <tr>\n",
       "      <th>25%</th>\n",
       "      <td>22.000000</td>\n",
       "      <td>1.000000</td>\n",
       "      <td>1.640000</td>\n",
       "      <td>4.000000</td>\n",
       "      <td>0.0</td>\n",
       "    </tr>\n",
       "    <tr>\n",
       "      <th>50%</th>\n",
       "      <td>24.000000</td>\n",
       "      <td>2.000000</td>\n",
       "      <td>1.715000</td>\n",
       "      <td>6.000000</td>\n",
       "      <td>0.0</td>\n",
       "    </tr>\n",
       "    <tr>\n",
       "      <th>75%</th>\n",
       "      <td>27.000000</td>\n",
       "      <td>2.000000</td>\n",
       "      <td>1.800000</td>\n",
       "      <td>8.000000</td>\n",
       "      <td>0.0</td>\n",
       "    </tr>\n",
       "    <tr>\n",
       "      <th>max</th>\n",
       "      <td>34.500000</td>\n",
       "      <td>3.500000</td>\n",
       "      <td>2.040000</td>\n",
       "      <td>14.000000</td>\n",
       "      <td>0.0</td>\n",
       "    </tr>\n",
       "  </tbody>\n",
       "</table>\n",
       "</div>"
      ],
      "text/plain": [
       "       edad_en_anos  numero_de_hermanos  estatura_en_metros  \\\n",
       "count    119.000000          119.000000          119.000000   \n",
       "mean      24.756303            1.634454            1.749118   \n",
       "std        4.085871            0.908289            0.149020   \n",
       "min       14.500000           -0.500000            1.400000   \n",
       "25%       22.000000            1.000000            1.640000   \n",
       "50%       24.000000            2.000000            1.715000   \n",
       "75%       27.000000            2.000000            1.800000   \n",
       "max       34.500000            3.500000            2.040000   \n",
       "\n",
       "       numero_de_vasos_de_agua_que_tomas_al_dia  numero_de_tatuajes  \n",
       "count                                119.000000               119.0  \n",
       "mean                                   6.327731                 0.0  \n",
       "std                                    2.690565                 0.0  \n",
       "min                                   -2.000000                 0.0  \n",
       "25%                                    4.000000                 0.0  \n",
       "50%                                    6.000000                 0.0  \n",
       "75%                                    8.000000                 0.0  \n",
       "max                                   14.000000                 0.0  "
      ]
     },
     "execution_count": 11,
     "metadata": {},
     "output_type": "execute_result"
    }
   ],
   "source": [
    "processed_df[numericas].describe()"
   ]
  },
  {
   "cell_type": "markdown",
   "metadata": {},
   "source": [
    "#### Análisis de correlación"
   ]
  },
  {
   "cell_type": "code",
   "execution_count": 12,
   "metadata": {},
   "outputs": [
    {
     "data": {
      "text/html": [
       "<div>\n",
       "<style scoped>\n",
       "    .dataframe tbody tr th:only-of-type {\n",
       "        vertical-align: middle;\n",
       "    }\n",
       "\n",
       "    .dataframe tbody tr th {\n",
       "        vertical-align: top;\n",
       "    }\n",
       "\n",
       "    .dataframe thead th {\n",
       "        text-align: right;\n",
       "    }\n",
       "</style>\n",
       "<table border=\"1\" class=\"dataframe\">\n",
       "  <thead>\n",
       "    <tr style=\"text-align: right;\">\n",
       "      <th></th>\n",
       "      <th>edad_en_anos</th>\n",
       "      <th>numero_de_hermanos</th>\n",
       "      <th>estatura_en_metros</th>\n",
       "      <th>numero_de_vasos_de_agua_que_tomas_al_dia</th>\n",
       "      <th>numero_de_tatuajes</th>\n",
       "    </tr>\n",
       "  </thead>\n",
       "  <tbody>\n",
       "    <tr>\n",
       "      <th>edad_en_anos</th>\n",
       "      <td>1.000000</td>\n",
       "      <td>0.137353</td>\n",
       "      <td>0.108485</td>\n",
       "      <td>0.001545</td>\n",
       "      <td>NaN</td>\n",
       "    </tr>\n",
       "    <tr>\n",
       "      <th>numero_de_hermanos</th>\n",
       "      <td>0.137353</td>\n",
       "      <td>1.000000</td>\n",
       "      <td>0.171968</td>\n",
       "      <td>0.077180</td>\n",
       "      <td>NaN</td>\n",
       "    </tr>\n",
       "    <tr>\n",
       "      <th>estatura_en_metros</th>\n",
       "      <td>0.108485</td>\n",
       "      <td>0.171968</td>\n",
       "      <td>1.000000</td>\n",
       "      <td>0.157770</td>\n",
       "      <td>NaN</td>\n",
       "    </tr>\n",
       "    <tr>\n",
       "      <th>numero_de_vasos_de_agua_que_tomas_al_dia</th>\n",
       "      <td>0.001545</td>\n",
       "      <td>0.077180</td>\n",
       "      <td>0.157770</td>\n",
       "      <td>1.000000</td>\n",
       "      <td>NaN</td>\n",
       "    </tr>\n",
       "    <tr>\n",
       "      <th>numero_de_tatuajes</th>\n",
       "      <td>NaN</td>\n",
       "      <td>NaN</td>\n",
       "      <td>NaN</td>\n",
       "      <td>NaN</td>\n",
       "      <td>NaN</td>\n",
       "    </tr>\n",
       "  </tbody>\n",
       "</table>\n",
       "</div>"
      ],
      "text/plain": [
       "                                          edad_en_anos  numero_de_hermanos  \\\n",
       "edad_en_anos                                  1.000000            0.137353   \n",
       "numero_de_hermanos                            0.137353            1.000000   \n",
       "estatura_en_metros                            0.108485            0.171968   \n",
       "numero_de_vasos_de_agua_que_tomas_al_dia      0.001545            0.077180   \n",
       "numero_de_tatuajes                                 NaN                 NaN   \n",
       "\n",
       "                                          estatura_en_metros  \\\n",
       "edad_en_anos                                        0.108485   \n",
       "numero_de_hermanos                                  0.171968   \n",
       "estatura_en_metros                                  1.000000   \n",
       "numero_de_vasos_de_agua_que_tomas_al_dia            0.157770   \n",
       "numero_de_tatuajes                                       NaN   \n",
       "\n",
       "                                          numero_de_vasos_de_agua_que_tomas_al_dia  \\\n",
       "edad_en_anos                                                              0.001545   \n",
       "numero_de_hermanos                                                        0.077180   \n",
       "estatura_en_metros                                                        0.157770   \n",
       "numero_de_vasos_de_agua_que_tomas_al_dia                                  1.000000   \n",
       "numero_de_tatuajes                                                             NaN   \n",
       "\n",
       "                                          numero_de_tatuajes  \n",
       "edad_en_anos                                             NaN  \n",
       "numero_de_hermanos                                       NaN  \n",
       "estatura_en_metros                                       NaN  \n",
       "numero_de_vasos_de_agua_que_tomas_al_dia                 NaN  \n",
       "numero_de_tatuajes                                       NaN  "
      ]
     },
     "execution_count": 12,
     "metadata": {},
     "output_type": "execute_result"
    }
   ],
   "source": [
    "processed_df[numericas].corr()"
   ]
  },
  {
   "cell_type": "markdown",
   "metadata": {},
   "source": [
    "#### Detección y remoción de variables unitarias (unarias)\n",
    "cuando el 90% de la información se agrupe dentro una sola variable"
   ]
  },
  {
   "cell_type": "code",
   "execution_count": 13,
   "metadata": {},
   "outputs": [
    {
     "data": {
      "text/html": [
       "<div>\n",
       "<style scoped>\n",
       "    .dataframe tbody tr th:only-of-type {\n",
       "        vertical-align: middle;\n",
       "    }\n",
       "\n",
       "    .dataframe tbody tr th {\n",
       "        vertical-align: top;\n",
       "    }\n",
       "\n",
       "    .dataframe thead th {\n",
       "        text-align: right;\n",
       "    }\n",
       "</style>\n",
       "<table border=\"1\" class=\"dataframe\">\n",
       "  <thead>\n",
       "    <tr style=\"text-align: right;\">\n",
       "      <th></th>\n",
       "      <th>feature</th>\n",
       "      <th>category</th>\n",
       "      <th>conteo</th>\n",
       "      <th>porcentaje</th>\n",
       "    </tr>\n",
       "  </thead>\n",
       "  <tbody>\n",
       "    <tr>\n",
       "      <th>0</th>\n",
       "      <td>numero_de_tatuajes</td>\n",
       "      <td>0.0</td>\n",
       "      <td>119</td>\n",
       "      <td>100.0</td>\n",
       "    </tr>\n",
       "  </tbody>\n",
       "</table>\n",
       "</div>"
      ],
      "text/plain": [
       "              feature  category  conteo  porcentaje\n",
       "0  numero_de_tatuajes       0.0     119       100.0"
      ]
     },
     "execution_count": 13,
     "metadata": {},
     "output_type": "execute_result"
    }
   ],
   "source": [
    "dfs_list = [ ]\n",
    "for c in processed_df.columns:\n",
    "    tmp_count = count_percentage(processed_df, c)\n",
    "    \n",
    "    tmp_df = tmp_count[tmp_count[\"porcentaje\"] >= 90]\n",
    "\n",
    "    if not tmp_df.empty:\n",
    "        dfs_list.append(create_feature_dataframe(tmp_df, c))\n",
    "\n",
    "unit_vars = pd.concat(dfs_list).reset_index(drop=True)\n",
    "unit_vars"
   ]
  },
  {
   "cell_type": "code",
   "execution_count": 14,
   "metadata": {},
   "outputs": [],
   "source": [
    "processed_df = processed_df.drop(columns=unit_vars[\"feature\"].to_list())"
   ]
  },
  {
   "cell_type": "markdown",
   "metadata": {},
   "source": [
    "#### Tratamiento de variables categoricas"
   ]
  },
  {
   "cell_type": "code",
   "execution_count": 15,
   "metadata": {},
   "outputs": [],
   "source": [
    "dummies_df = pd.get_dummies(processed_df[categoricas], drop_first=True, dtype=int)\n",
    "processed_df = pd.concat([processed_df, dummies_df], axis=1)"
   ]
  },
  {
   "cell_type": "markdown",
   "metadata": {},
   "source": [
    "#### Escalamiento de los datos"
   ]
  },
  {
   "cell_type": "code",
   "execution_count": 16,
   "metadata": {},
   "outputs": [],
   "source": [
    "mask_columns = processed_df.columns.isin(categoricas) == False\n",
    "subset_df = processed_df.loc[:, mask_columns]\n",
    "\n",
    "minmax = MinMaxScaler()\n",
    "minmax_df = pd.DataFrame(\n",
    "    minmax.fit_transform(subset_df),\n",
    "    columns=subset_df.columns\n",
    ")\n",
    "\n",
    "X = minmax_df.loc[:, minmax_df.columns != \"estatura_en_metros\"]\n",
    "y = minmax_df[[\"estatura_en_metros\"]]\n"
   ]
  },
  {
   "cell_type": "markdown",
   "metadata": {},
   "source": [
    "### Selección de variables"
   ]
  },
  {
   "cell_type": "markdown",
   "metadata": {},
   "source": [
    "#### Clustering de variables"
   ]
  },
  {
   "cell_type": "code",
   "execution_count": 17,
   "metadata": {},
   "outputs": [
    {
     "data": {
      "text/html": [
       "<div>\n",
       "<style scoped>\n",
       "    .dataframe tbody tr th:only-of-type {\n",
       "        vertical-align: middle;\n",
       "    }\n",
       "\n",
       "    .dataframe tbody tr th {\n",
       "        vertical-align: top;\n",
       "    }\n",
       "\n",
       "    .dataframe thead th {\n",
       "        text-align: right;\n",
       "    }\n",
       "</style>\n",
       "<table border=\"1\" class=\"dataframe\">\n",
       "  <thead>\n",
       "    <tr style=\"text-align: right;\">\n",
       "      <th></th>\n",
       "      <th>Variable</th>\n",
       "    </tr>\n",
       "  </thead>\n",
       "  <tbody>\n",
       "    <tr>\n",
       "      <th>0</th>\n",
       "      <td>las_quesadillas_van_con_queso_sin queso</td>\n",
       "    </tr>\n",
       "    <tr>\n",
       "      <th>1</th>\n",
       "      <td>numero_de_hermanos</td>\n",
       "    </tr>\n",
       "    <tr>\n",
       "      <th>2</th>\n",
       "      <td>color_primario_favorito_no es azul</td>\n",
       "    </tr>\n",
       "    <tr>\n",
       "      <th>3</th>\n",
       "      <td>actividad_fisica_si</td>\n",
       "    </tr>\n",
       "    <tr>\n",
       "      <th>4</th>\n",
       "      <td>actividad_fisica_no</td>\n",
       "    </tr>\n",
       "    <tr>\n",
       "      <th>5</th>\n",
       "      <td>dia_o_noche_noche</td>\n",
       "    </tr>\n",
       "  </tbody>\n",
       "</table>\n",
       "</div>"
      ],
      "text/plain": [
       "                                  Variable\n",
       "0  las_quesadillas_van_con_queso_sin queso\n",
       "1                       numero_de_hermanos\n",
       "2       color_primario_favorito_no es azul\n",
       "3                      actividad_fisica_si\n",
       "4                      actividad_fisica_no\n",
       "5                        dia_o_noche_noche"
      ]
     },
     "execution_count": 17,
     "metadata": {},
     "output_type": "execute_result"
    }
   ],
   "source": [
    "vc_df, vc_rsquare_df, best_features = get_varclushi(X)\n",
    "best_features_df = best_features.to_frame().reset_index(drop=True)\n",
    "best_features_df"
   ]
  },
  {
   "cell_type": "code",
   "execution_count": 18,
   "metadata": {},
   "outputs": [],
   "source": [
    "top_features_vc = best_features_df.head(5)[\"Variable\"].to_list()"
   ]
  },
  {
   "cell_type": "markdown",
   "metadata": {},
   "source": [
    "## Kbest"
   ]
  },
  {
   "cell_type": "code",
   "execution_count": 19,
   "metadata": {},
   "outputs": [
    {
     "data": {
      "text/html": [
       "<div>\n",
       "<style scoped>\n",
       "    .dataframe tbody tr th:only-of-type {\n",
       "        vertical-align: middle;\n",
       "    }\n",
       "\n",
       "    .dataframe tbody tr th {\n",
       "        vertical-align: top;\n",
       "    }\n",
       "\n",
       "    .dataframe thead th {\n",
       "        text-align: right;\n",
       "    }\n",
       "</style>\n",
       "<table border=\"1\" class=\"dataframe\">\n",
       "  <thead>\n",
       "    <tr style=\"text-align: right;\">\n",
       "      <th></th>\n",
       "      <th>Feature</th>\n",
       "      <th>Score</th>\n",
       "    </tr>\n",
       "  </thead>\n",
       "  <tbody>\n",
       "    <tr>\n",
       "      <th>10</th>\n",
       "      <td>chile_del_que_pica_o_del_que_no_pica_del que pica</td>\n",
       "      <td>4.499563</td>\n",
       "    </tr>\n",
       "    <tr>\n",
       "      <th>13</th>\n",
       "      <td>team_frio_o_team_calor_team frio</td>\n",
       "      <td>3.874261</td>\n",
       "    </tr>\n",
       "    <tr>\n",
       "      <th>2</th>\n",
       "      <td>numero_de_hermanos</td>\n",
       "      <td>3.565464</td>\n",
       "    </tr>\n",
       "    <tr>\n",
       "      <th>3</th>\n",
       "      <td>color_primario_favorito_no es azul</td>\n",
       "      <td>3.240512</td>\n",
       "    </tr>\n",
       "    <tr>\n",
       "      <th>11</th>\n",
       "      <td>las_quesadillas_van_con_queso_sin queso</td>\n",
       "      <td>3.192708</td>\n",
       "    </tr>\n",
       "    <tr>\n",
       "      <th>12</th>\n",
       "      <td>team_frio_o_team_calor_team calor</td>\n",
       "      <td>3.022826</td>\n",
       "    </tr>\n",
       "    <tr>\n",
       "      <th>1</th>\n",
       "      <td>numero_de_vasos_de_agua_que_tomas_al_dia</td>\n",
       "      <td>2.986635</td>\n",
       "    </tr>\n",
       "    <tr>\n",
       "      <th>7</th>\n",
       "      <td>actividad_fisica_si</td>\n",
       "      <td>2.726070</td>\n",
       "    </tr>\n",
       "    <tr>\n",
       "      <th>0</th>\n",
       "      <td>edad_en_anos</td>\n",
       "      <td>1.393381</td>\n",
       "    </tr>\n",
       "    <tr>\n",
       "      <th>5</th>\n",
       "      <td>dia_o_noche_noche</td>\n",
       "      <td>1.296043</td>\n",
       "    </tr>\n",
       "    <tr>\n",
       "      <th>4</th>\n",
       "      <td>tipo_de_personalidad_introvertido</td>\n",
       "      <td>0.879603</td>\n",
       "    </tr>\n",
       "    <tr>\n",
       "      <th>8</th>\n",
       "      <td>mascota_favorita_otro</td>\n",
       "      <td>0.446454</td>\n",
       "    </tr>\n",
       "    <tr>\n",
       "      <th>14</th>\n",
       "      <td>tatuajes_sin tatuajes</td>\n",
       "      <td>0.306893</td>\n",
       "    </tr>\n",
       "    <tr>\n",
       "      <th>9</th>\n",
       "      <td>mascota_favorita_perro</td>\n",
       "      <td>0.022757</td>\n",
       "    </tr>\n",
       "    <tr>\n",
       "      <th>6</th>\n",
       "      <td>actividad_fisica_no</td>\n",
       "      <td>0.000071</td>\n",
       "    </tr>\n",
       "  </tbody>\n",
       "</table>\n",
       "</div>"
      ],
      "text/plain": [
       "                                              Feature     Score\n",
       "10  chile_del_que_pica_o_del_que_no_pica_del que pica  4.499563\n",
       "13                   team_frio_o_team_calor_team frio  3.874261\n",
       "2                                  numero_de_hermanos  3.565464\n",
       "3                  color_primario_favorito_no es azul  3.240512\n",
       "11            las_quesadillas_van_con_queso_sin queso  3.192708\n",
       "12                  team_frio_o_team_calor_team calor  3.022826\n",
       "1            numero_de_vasos_de_agua_que_tomas_al_dia  2.986635\n",
       "7                                 actividad_fisica_si  2.726070\n",
       "0                                        edad_en_anos  1.393381\n",
       "5                                   dia_o_noche_noche  1.296043\n",
       "4                   tipo_de_personalidad_introvertido  0.879603\n",
       "8                               mascota_favorita_otro  0.446454\n",
       "14                              tatuajes_sin tatuajes  0.306893\n",
       "9                              mascota_favorita_perro  0.022757\n",
       "6                                 actividad_fisica_no  0.000071"
      ]
     },
     "execution_count": 19,
     "metadata": {},
     "output_type": "execute_result"
    }
   ],
   "source": [
    "scores_df = get_kbest(X, y, k=10)\n",
    "scores_df"
   ]
  },
  {
   "cell_type": "code",
   "execution_count": 20,
   "metadata": {},
   "outputs": [],
   "source": [
    "top_features_kbest = scores_df.head(5)[\"Feature\"].to_list()"
   ]
  },
  {
   "cell_type": "markdown",
   "metadata": {},
   "source": [
    "### Modelado"
   ]
  },
  {
   "cell_type": "markdown",
   "metadata": {},
   "source": [
    "##### Selección de mejores features"
   ]
  },
  {
   "cell_type": "code",
   "execution_count": 21,
   "metadata": {},
   "outputs": [
    {
     "data": {
      "text/html": [
       "<div>\n",
       "<style scoped>\n",
       "    .dataframe tbody tr th:only-of-type {\n",
       "        vertical-align: middle;\n",
       "    }\n",
       "\n",
       "    .dataframe tbody tr th {\n",
       "        vertical-align: top;\n",
       "    }\n",
       "\n",
       "    .dataframe thead th {\n",
       "        text-align: right;\n",
       "    }\n",
       "</style>\n",
       "<table border=\"1\" class=\"dataframe\">\n",
       "  <thead>\n",
       "    <tr style=\"text-align: right;\">\n",
       "      <th></th>\n",
       "      <th>actividad_fisica_si</th>\n",
       "      <th>color_primario_favorito_no es azul</th>\n",
       "      <th>actividad_fisica_no</th>\n",
       "      <th>chile_del_que_pica_o_del_que_no_pica_del que pica</th>\n",
       "      <th>team_frio_o_team_calor_team frio</th>\n",
       "      <th>las_quesadillas_van_con_queso_sin queso</th>\n",
       "      <th>numero_de_hermanos</th>\n",
       "    </tr>\n",
       "  </thead>\n",
       "  <tbody>\n",
       "    <tr>\n",
       "      <th>0</th>\n",
       "      <td>0</td>\n",
       "      <td>0</td>\n",
       "      <td>0</td>\n",
       "      <td>1</td>\n",
       "      <td>0</td>\n",
       "      <td>0</td>\n",
       "      <td>2.0</td>\n",
       "    </tr>\n",
       "    <tr>\n",
       "      <th>1</th>\n",
       "      <td>0</td>\n",
       "      <td>0</td>\n",
       "      <td>0</td>\n",
       "      <td>1</td>\n",
       "      <td>0</td>\n",
       "      <td>0</td>\n",
       "      <td>0.0</td>\n",
       "    </tr>\n",
       "    <tr>\n",
       "      <th>2</th>\n",
       "      <td>1</td>\n",
       "      <td>0</td>\n",
       "      <td>0</td>\n",
       "      <td>1</td>\n",
       "      <td>0</td>\n",
       "      <td>0</td>\n",
       "      <td>1.0</td>\n",
       "    </tr>\n",
       "    <tr>\n",
       "      <th>3</th>\n",
       "      <td>0</td>\n",
       "      <td>1</td>\n",
       "      <td>0</td>\n",
       "      <td>1</td>\n",
       "      <td>0</td>\n",
       "      <td>1</td>\n",
       "      <td>1.0</td>\n",
       "    </tr>\n",
       "    <tr>\n",
       "      <th>4</th>\n",
       "      <td>1</td>\n",
       "      <td>0</td>\n",
       "      <td>0</td>\n",
       "      <td>0</td>\n",
       "      <td>0</td>\n",
       "      <td>0</td>\n",
       "      <td>2.0</td>\n",
       "    </tr>\n",
       "  </tbody>\n",
       "</table>\n",
       "</div>"
      ],
      "text/plain": [
       "   actividad_fisica_si  color_primario_favorito_no es azul  \\\n",
       "0                    0                                   0   \n",
       "1                    0                                   0   \n",
       "2                    1                                   0   \n",
       "3                    0                                   1   \n",
       "4                    1                                   0   \n",
       "\n",
       "   actividad_fisica_no  chile_del_que_pica_o_del_que_no_pica_del que pica  \\\n",
       "0                    0                                                  1   \n",
       "1                    0                                                  1   \n",
       "2                    0                                                  1   \n",
       "3                    0                                                  1   \n",
       "4                    0                                                  0   \n",
       "\n",
       "   team_frio_o_team_calor_team frio  las_quesadillas_van_con_queso_sin queso  \\\n",
       "0                                 0                                        0   \n",
       "1                                 0                                        0   \n",
       "2                                 0                                        0   \n",
       "3                                 0                                        1   \n",
       "4                                 0                                        0   \n",
       "\n",
       "   numero_de_hermanos  \n",
       "0                 2.0  \n",
       "1                 0.0  \n",
       "2                 1.0  \n",
       "3                 1.0  \n",
       "4                 2.0  "
      ]
     },
     "execution_count": 21,
     "metadata": {},
     "output_type": "execute_result"
    }
   ],
   "source": [
    "best_features = list(set(top_features_vc + top_features_kbest))\n",
    "X = processed_df[best_features]\n",
    "y = processed_df[[\"estatura_en_metros\"]]\n",
    "\n",
    "X.head()"
   ]
  },
  {
   "cell_type": "markdown",
   "metadata": {},
   "source": [
    "#### Train-test split"
   ]
  },
  {
   "cell_type": "code",
   "execution_count": 22,
   "metadata": {},
   "outputs": [],
   "source": [
    "X_train, X_test, y_train, y_test = train_test_split(X, y, test_size=0.3, random_state=0)"
   ]
  },
  {
   "cell_type": "code",
   "execution_count": 23,
   "metadata": {},
   "outputs": [],
   "source": [
    "scaler_X = MinMaxScaler()\n",
    "scaler_y = MinMaxScaler()\n",
    "\n",
    "scaler_X.fit(X_train)\n",
    "scaler_y.fit(y_train.values.reshape(-1, 1))\n",
    "\n",
    "# Transformar los datos de entrenamiento y prueba\n",
    "scaled_X_train = scaler_X.transform(X_train)\n",
    "scaled_X_test = scaler_X.transform(X_test)\n",
    "scaled_y_train = scaler_y.transform(y_train.values.reshape(-1, 1))\n",
    "scaled_y_test = scaler_y.transform(y_test.values.reshape(-1, 1))"
   ]
  },
  {
   "cell_type": "code",
   "execution_count": 24,
   "metadata": {},
   "outputs": [
    {
     "data": {
      "text/plain": [
       "0.17467744612339986"
      ]
     },
     "execution_count": 24,
     "metadata": {},
     "output_type": "execute_result"
    }
   ],
   "source": [
    "linreg = LinearRegression()\n",
    "linreg.fit(scaled_X_train, scaled_y_train)\n",
    "linreg.score(scaled_X_train, scaled_y_train)"
   ]
  },
  {
   "cell_type": "markdown",
   "metadata": {},
   "source": [
    "#### Cross-validation"
   ]
  },
  {
   "cell_type": "code",
   "execution_count": 25,
   "metadata": {},
   "outputs": [
    {
     "data": {
      "text/plain": [
       "array([-0.02238477,  0.05827925,  0.15724925, -0.03745985])"
      ]
     },
     "execution_count": 25,
     "metadata": {},
     "output_type": "execute_result"
    }
   ],
   "source": [
    "ls_res = cross_val_score(X=scaled_X_train, y=scaled_y_train, estimator=linreg, cv=4, scoring=\"r2\", n_jobs=-1)\n",
    "ls_res"
   ]
  },
  {
   "cell_type": "code",
   "execution_count": 26,
   "metadata": {},
   "outputs": [
    {
     "data": {
      "text/plain": [
       "(0.03892096960402108, 0.07740921638171061)"
      ]
     },
     "execution_count": 26,
     "metadata": {},
     "output_type": "execute_result"
    }
   ],
   "source": [
    "ls_res.mean(), ls_res.std()"
   ]
  },
  {
   "cell_type": "markdown",
   "metadata": {},
   "source": [
    "#### Validación en test"
   ]
  },
  {
   "cell_type": "code",
   "execution_count": 27,
   "metadata": {},
   "outputs": [
    {
     "data": {
      "text/plain": [
       "0.08065834043938713"
      ]
     },
     "execution_count": 27,
     "metadata": {},
     "output_type": "execute_result"
    }
   ],
   "source": [
    "linreg.score(scaled_X_test, scaled_y_test)"
   ]
  },
  {
   "cell_type": "markdown",
   "metadata": {},
   "source": [
    "#### Predicción de test"
   ]
  },
  {
   "cell_type": "code",
   "execution_count": 28,
   "metadata": {},
   "outputs": [],
   "source": [
    "scaled_y_pred = linreg.predict(scaled_X_test)"
   ]
  },
  {
   "cell_type": "code",
   "execution_count": 29,
   "metadata": {},
   "outputs": [
    {
     "data": {
      "text/html": [
       "<div>\n",
       "<style scoped>\n",
       "    .dataframe tbody tr th:only-of-type {\n",
       "        vertical-align: middle;\n",
       "    }\n",
       "\n",
       "    .dataframe tbody tr th {\n",
       "        vertical-align: top;\n",
       "    }\n",
       "\n",
       "    .dataframe thead th {\n",
       "        text-align: right;\n",
       "    }\n",
       "</style>\n",
       "<table border=\"1\" class=\"dataframe\">\n",
       "  <thead>\n",
       "    <tr style=\"text-align: right;\">\n",
       "      <th></th>\n",
       "      <th>y_pred</th>\n",
       "    </tr>\n",
       "  </thead>\n",
       "  <tbody>\n",
       "    <tr>\n",
       "      <th>0</th>\n",
       "      <td>1.794437</td>\n",
       "    </tr>\n",
       "    <tr>\n",
       "      <th>1</th>\n",
       "      <td>1.794437</td>\n",
       "    </tr>\n",
       "    <tr>\n",
       "      <th>2</th>\n",
       "      <td>1.778950</td>\n",
       "    </tr>\n",
       "    <tr>\n",
       "      <th>3</th>\n",
       "      <td>1.759122</td>\n",
       "    </tr>\n",
       "    <tr>\n",
       "      <th>4</th>\n",
       "      <td>1.714734</td>\n",
       "    </tr>\n",
       "  </tbody>\n",
       "</table>\n",
       "</div>"
      ],
      "text/plain": [
       "     y_pred\n",
       "0  1.794437\n",
       "1  1.794437\n",
       "2  1.778950\n",
       "3  1.759122\n",
       "4  1.714734"
      ]
     },
     "execution_count": 29,
     "metadata": {},
     "output_type": "execute_result"
    }
   ],
   "source": [
    "pred_df = pd.DataFrame(scaler_y.inverse_transform(scaled_y_pred), columns=[\"y_pred\"])\n",
    "pred_df.head()"
   ]
  },
  {
   "cell_type": "markdown",
   "metadata": {},
   "source": [
    "### Métricas de performance"
   ]
  },
  {
   "cell_type": "markdown",
   "metadata": {},
   "source": [
    "#### R²"
   ]
  },
  {
   "cell_type": "code",
   "execution_count": 30,
   "metadata": {},
   "outputs": [
    {
     "data": {
      "text/plain": [
       "0.08065834043938713"
      ]
     },
     "execution_count": 30,
     "metadata": {},
     "output_type": "execute_result"
    }
   ],
   "source": [
    "r2_score(y_true=scaled_y_test, y_pred=scaled_y_pred)"
   ]
  },
  {
   "cell_type": "markdown",
   "metadata": {},
   "source": [
    "#### PEMA"
   ]
  },
  {
   "cell_type": "code",
   "execution_count": 31,
   "metadata": {},
   "outputs": [
    {
     "data": {
      "text/plain": [
       "'37.36%'"
      ]
     },
     "execution_count": 31,
     "metadata": {},
     "output_type": "execute_result"
    }
   ],
   "source": [
    "pema = mean_absolute_percentage_error(y_true=scaled_y_test, y_pred=scaled_y_pred)\n",
    "f\"{pema:,.2%}\""
   ]
  },
  {
   "cell_type": "markdown",
   "metadata": {},
   "source": [
    "#### MAE"
   ]
  },
  {
   "cell_type": "code",
   "execution_count": 32,
   "metadata": {},
   "outputs": [
    {
     "data": {
      "text/plain": [
       "0.17604330720812364"
      ]
     },
     "execution_count": 32,
     "metadata": {},
     "output_type": "execute_result"
    }
   ],
   "source": [
    "mean_absolute_error(y_true=scaled_y_test, y_pred=scaled_y_pred)"
   ]
  },
  {
   "cell_type": "markdown",
   "metadata": {},
   "source": [
    "#### Interpretación"
   ]
  },
  {
   "cell_type": "code",
   "execution_count": 33,
   "metadata": {},
   "outputs": [
    {
     "data": {
      "text/plain": [
       "array([0.24947707])"
      ]
     },
     "execution_count": 33,
     "metadata": {},
     "output_type": "execute_result"
    }
   ],
   "source": [
    "linreg.intercept_"
   ]
  },
  {
   "cell_type": "code",
   "execution_count": 34,
   "metadata": {},
   "outputs": [
    {
     "data": {
      "text/html": [
       "<div>\n",
       "<style scoped>\n",
       "    .dataframe tbody tr th:only-of-type {\n",
       "        vertical-align: middle;\n",
       "    }\n",
       "\n",
       "    .dataframe tbody tr th {\n",
       "        vertical-align: top;\n",
       "    }\n",
       "\n",
       "    .dataframe thead th {\n",
       "        text-align: right;\n",
       "    }\n",
       "</style>\n",
       "<table border=\"1\" class=\"dataframe\">\n",
       "  <thead>\n",
       "    <tr style=\"text-align: right;\">\n",
       "      <th></th>\n",
       "      <th>feature</th>\n",
       "      <th>weight</th>\n",
       "    </tr>\n",
       "  </thead>\n",
       "  <tbody>\n",
       "    <tr>\n",
       "      <th>6</th>\n",
       "      <td>numero_de_hermanos</td>\n",
       "      <td>0.184948</td>\n",
       "    </tr>\n",
       "    <tr>\n",
       "      <th>4</th>\n",
       "      <td>team_frio_o_team_calor_team frio</td>\n",
       "      <td>0.124535</td>\n",
       "    </tr>\n",
       "    <tr>\n",
       "      <th>5</th>\n",
       "      <td>las_quesadillas_van_con_queso_sin queso</td>\n",
       "      <td>0.095359</td>\n",
       "    </tr>\n",
       "    <tr>\n",
       "      <th>0</th>\n",
       "      <td>actividad_fisica_si</td>\n",
       "      <td>0.074440</td>\n",
       "    </tr>\n",
       "    <tr>\n",
       "      <th>3</th>\n",
       "      <td>chile_del_que_pica_o_del_que_no_pica_del que pica</td>\n",
       "      <td>0.052263</td>\n",
       "    </tr>\n",
       "    <tr>\n",
       "      <th>2</th>\n",
       "      <td>actividad_fisica_no</td>\n",
       "      <td>0.000000</td>\n",
       "    </tr>\n",
       "    <tr>\n",
       "      <th>1</th>\n",
       "      <td>color_primario_favorito_no es azul</td>\n",
       "      <td>-0.024198</td>\n",
       "    </tr>\n",
       "  </tbody>\n",
       "</table>\n",
       "</div>"
      ],
      "text/plain": [
       "                                             feature    weight\n",
       "6                                 numero_de_hermanos  0.184948\n",
       "4                   team_frio_o_team_calor_team frio  0.124535\n",
       "5            las_quesadillas_van_con_queso_sin queso  0.095359\n",
       "0                                actividad_fisica_si  0.074440\n",
       "3  chile_del_que_pica_o_del_que_no_pica_del que pica  0.052263\n",
       "2                                actividad_fisica_no  0.000000\n",
       "1                 color_primario_favorito_no es azul -0.024198"
      ]
     },
     "execution_count": 34,
     "metadata": {},
     "output_type": "execute_result"
    }
   ],
   "source": [
    "df_res = pd.DataFrame(data=zip(X_train.columns, linreg.coef_[0]), columns=[\"feature\", \"weight\"])\n",
    "df_res[\"weight\"] = df_res[\"weight\"].round(8)\n",
    "\n",
    "df_res.sort_values(by=\"weight\", ascending=False)"
   ]
  },
  {
   "cell_type": "markdown",
   "metadata": {},
   "source": [
    "### Conclusiones"
   ]
  },
  {
   "cell_type": "markdown",
   "metadata": {},
   "source": [
    "En cuanto al desempeño, tanto R² (8%), MAE (0.17) noS dicen que el modelo explican muy poca variabilidad de la estatura y hay poca precisión en las predicciones. En cuanto al error absoluto medio porcentual (MAPE) es del 37.36%, lo que indica una diferncia significativa entre las predicciones y los valores reales de la estatura. <br><br>\n",
    "En cuanto a las características, el número de hermanos y team (frío o calor), son las caracetrisitcas con mayor influencia, con coeficientes más altos, en comparación con otros. Tener más hermanos y ser team frío están asociados a una estatura ligereamente mayor. <br><br>\n",
    "El modelo de regresión lineal tiene un desempeño limitado para inferir la estatura. Me parece que en se debe, en parte, a que las características utilizadas no tienen un impacto significativo en la estatura, o no son causales de ser más pequeños o altos.\n",
    "\n",
    "\n",
    "\n"
   ]
  }
 ],
 "metadata": {
  "kernelspec": {
   "display_name": "Python 3",
   "language": "python",
   "name": "python3"
  },
  "language_info": {
   "codemirror_mode": {
    "name": "ipython",
    "version": 3
   },
   "file_extension": ".py",
   "mimetype": "text/x-python",
   "name": "python",
   "nbconvert_exporter": "python",
   "pygments_lexer": "ipython3",
   "version": "3.10.11"
  }
 },
 "nbformat": 4,
 "nbformat_minor": 2
}
