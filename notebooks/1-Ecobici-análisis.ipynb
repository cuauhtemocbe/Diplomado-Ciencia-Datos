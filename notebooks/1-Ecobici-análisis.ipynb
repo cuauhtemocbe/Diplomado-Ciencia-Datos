{
 "cells": [
  {
   "cell_type": "markdown",
   "metadata": {},
   "source": [
    "# Ecobici: Análisis de edad y tiempo"
   ]
  },
  {
   "cell_type": "code",
   "execution_count": 74,
   "metadata": {},
   "outputs": [],
   "source": [
    "import pandas as pd\n",
    "import requests\n",
    "from bs4 import BeautifulSoup\n",
    "import seaborn as sns\n",
    "import matplotlib.pyplot as plt\n",
    "import numpy as np\n",
    "from datetime import datetime\n",
    "\n",
    "sns.set_theme(style=\"whitegrid\")\n",
    "\n",
    "def remove_outliers_iqr(df, column):\n",
    "    Q1 = df[column].quantile(0.25)\n",
    "    Q3 = df[column].quantile(0.75)\n",
    "    IQR = Q3 - Q1\n",
    "    \n",
    "    upper_bound = Q3 + 1.5 * IQR\n",
    "    \n",
    "    df[column] = np.where(df[column] > upper_bound, upper_bound, df[column])\n",
    "    \n",
    "    return df\n",
    "\n",
    "\n",
    "def check_column_names(data):\n",
    "    necessary_columns = [\n",
    "        'Genero_Usuario',\n",
    "        'Edad_Usuario',\n",
    "        'Bici',\n",
    "        'Ciclo_Estacion_Retiro',\n",
    "        'Fecha_Retiro',\n",
    "        'Hora_Retiro',\n",
    "        'Ciclo_EstacionArribo',\n",
    "        'Fecha Arribo',\n",
    "        'Hora_Arribo'\n",
    "    ]\n",
    "\n",
    "    if not data.columns.to_list() == necessary_columns:\n",
    "        raise Exception(\"El archivo no tiene las columnas necesarias\")"
   ]
  },
  {
   "cell_type": "markdown",
   "metadata": {},
   "source": [
    "## Descarga y preparación de datos"
   ]
  },
  {
   "cell_type": "code",
   "execution_count": 71,
   "metadata": {},
   "outputs": [],
   "source": [
    "URL = \"https://ecobici.cdmx.gob.mx/datos-abiertos/\"\n",
    "page = requests.get(URL)\n",
    "\n",
    "soup = BeautifulSoup(page.content, \"html.parser\")\n",
    "\n",
    "toggle_div = soup.find('div', {'class': 'elementor-toggle'})\n",
    "\n",
    "links = toggle_div.find_all('a')"
   ]
  },
  {
   "cell_type": "code",
   "execution_count": 72,
   "metadata": {},
   "outputs": [
    {
     "data": {
      "text/plain": [
       "['https://ecobici.cdmx.gob.mx/wp-content/uploads/2024/02/ecobici_2024_enero.csv',\n",
       " 'https://ecobici.cdmx.gob.mx/wp-content/uploads/2024/03/2024-02.csv',\n",
       " 'https://ecobici.cdmx.gob.mx/wp-content/uploads/2024/04/datos_abiertos_2024_03-1.csv',\n",
       " 'https://ecobici.cdmx.gob.mx/wp-content/uploads/2023/10/ecobici_2023_01.csv',\n",
       " 'https://ecobici.cdmx.gob.mx/wp-content/uploads/2023/10/ecobici_2023_02.csv',\n",
       " 'https://ecobici.cdmx.gob.mx/wp-content/uploads/2023/10/ecobici_2023_03.csv',\n",
       " 'https://ecobici.cdmx.gob.mx/wp-content/uploads/2023/10/ecobici_2023_04.csv',\n",
       " 'https://ecobici.cdmx.gob.mx/wp-content/uploads/2023/10/ecobici_2023_05.csv',\n",
       " 'https://ecobici.cdmx.gob.mx/wp-content/uploads/2023/10/ecobici_2023_06.csv',\n",
       " 'https://ecobici.cdmx.gob.mx/wp-content/uploads/2023/10/ecobici_2023_07.csv',\n",
       " 'https://ecobici.cdmx.gob.mx/wp-content/uploads/2023/10/ecobici_2023_08.csv',\n",
       " 'https://ecobici.cdmx.gob.mx/wp-content/uploads/2023/10/ecobici_2023_09.csv',\n",
       " 'https://ecobici.cdmx.gob.mx/wp-content/uploads/2023/11/datosabiertos_2023_octubre.csv',\n",
       " 'https://ecobici.cdmx.gob.mx/wp-content/uploads/2023/12/datosabiertos_2023_noviembre.csv',\n",
       " 'https://ecobici.cdmx.gob.mx/wp-content/uploads/2024/01/datos_abiertos_2023_diciembre.csv',\n",
       " 'https://ecobici.cdmx.gob.mx/wp-content/uploads/2022/07/2022-01.csv',\n",
       " 'https://ecobici.cdmx.gob.mx/wp-content/uploads/2022/07/2022-02.csv',\n",
       " 'https://ecobici.cdmx.gob.mx/wp-content/uploads/2022/07/2022-03.csv',\n",
       " 'https://ecobici.cdmx.gob.mx/wp-content/uploads/2022/07/2022-04.csv',\n",
       " 'https://ecobici.cdmx.gob.mx/wp-content/uploads/2022/08/2022-05.csv',\n",
       " 'https://ecobici.cdmx.gob.mx/wp-content/uploads/2022/08/2022-06.csv',\n",
       " 'https://ecobici.cdmx.gob.mx/wp-content/uploads/2022/08/2022-07.csv',\n",
       " 'https://ecobici.cdmx.gob.mx/wp-content/uploads/2023/10/2022-08.csv',\n",
       " 'https://ecobici.cdmx.gob.mx/wp-content/uploads/2023/08/202209.csv',\n",
       " 'https://ecobici.cdmx.gob.mx/wp-content/uploads/2023/10/ecobici_2022_10.csv',\n",
       " 'https://ecobici.cdmx.gob.mx/wp-content/uploads/2023/10/ecobici_2022_11.csv',\n",
       " 'https://ecobici.cdmx.gob.mx/wp-content/uploads/2023/10/ecobici_2022_12.csv',\n",
       " 'https://ecobici.cdmx.gob.mx/wp-content/uploads/2022/07/2021-01.csv',\n",
       " 'https://ecobici.cdmx.gob.mx/wp-content/uploads/2022/07/2021-02.csv',\n",
       " 'https://ecobici.cdmx.gob.mx/wp-content/uploads/2022/07/2021-03.csv',\n",
       " 'https://ecobici.cdmx.gob.mx/wp-content/uploads/2022/07/2021-04.csv',\n",
       " 'https://ecobici.cdmx.gob.mx/wp-content/uploads/2022/07/2021-05.csv',\n",
       " 'https://ecobici.cdmx.gob.mx/wp-content/uploads/2022/07/2021-06.csv',\n",
       " 'https://ecobici.cdmx.gob.mx/wp-content/uploads/2022/07/2021-07.csv',\n",
       " 'https://ecobici.cdmx.gob.mx/wp-content/uploads/2022/07/2021-08.csv',\n",
       " 'https://ecobici.cdmx.gob.mx/wp-content/uploads/2022/07/2021-09.csv',\n",
       " 'https://ecobici.cdmx.gob.mx/wp-content/uploads/2022/07/2021-10.csv',\n",
       " 'https://ecobici.cdmx.gob.mx/wp-content/uploads/2022/07/2021-11.csv',\n",
       " 'https://ecobici.cdmx.gob.mx/wp-content/uploads/2022/07/2021-12.csv',\n",
       " 'https://ecobici.cdmx.gob.mx/wp-content/uploads/2022/08/2020-01.csv',\n",
       " 'https://ecobici.cdmx.gob.mx/wp-content/uploads/2022/08/2020-02.csv',\n",
       " 'https://ecobici.cdmx.gob.mx/wp-content/uploads/2022/07/2020-03.csv',\n",
       " 'https://ecobici.cdmx.gob.mx/wp-content/uploads/2022/07/2020-04.csv',\n",
       " 'https://ecobici.cdmx.gob.mx/wp-content/uploads/2022/07/2020-05.csv',\n",
       " 'https://ecobici.cdmx.gob.mx/wp-content/uploads/2022/07/2020-06.csv',\n",
       " 'https://ecobici.cdmx.gob.mx/wp-content/uploads/2022/07/2020-07.csv',\n",
       " 'https://ecobici.cdmx.gob.mx/wp-content/uploads/2022/07/2020-08.csv',\n",
       " 'https://ecobici.cdmx.gob.mx/wp-content/uploads/2022/07/2020-09.csv',\n",
       " 'https://ecobici.cdmx.gob.mx/wp-content/uploads/2022/07/2020-10.csv',\n",
       " 'https://ecobici.cdmx.gob.mx/wp-content/uploads/2022/07/2020-11.csv',\n",
       " 'https://ecobici.cdmx.gob.mx/wp-content/uploads/2023/08/2020-12.csv',\n",
       " 'https://ecobici.cdmx.gob.mx/wp-content/uploads/2022/08/2019-01.csv',\n",
       " 'https://ecobici.cdmx.gob.mx/wp-content/uploads/2022/08/2019-02.csv',\n",
       " 'https://ecobici.cdmx.gob.mx/wp-content/uploads/2022/08/2019-03.csv',\n",
       " 'https://ecobici.cdmx.gob.mx/wp-content/uploads/2022/08/2019-04.csv',\n",
       " 'https://ecobici.cdmx.gob.mx/wp-content/uploads/2022/08/2019-05.csv',\n",
       " 'https://ecobici.cdmx.gob.mx/wp-content/uploads/2022/08/2019-06.csv',\n",
       " 'https://ecobici.cdmx.gob.mx/wp-content/uploads/2022/08/2019-07.csv',\n",
       " 'https://ecobici.cdmx.gob.mx/wp-content/uploads/2022/08/2019-08.csv',\n",
       " 'https://ecobici.cdmx.gob.mx/wp-content/uploads/2022/08/2019-09.csv',\n",
       " 'https://ecobici.cdmx.gob.mx/wp-content/uploads/2022/08/2019-10.csv',\n",
       " 'https://ecobici.cdmx.gob.mx/wp-content/uploads/2022/08/2019-11.csv',\n",
       " 'https://ecobici.cdmx.gob.mx/wp-content/uploads/2022/08/2019-12.csv',\n",
       " 'https://ecobici.cdmx.gob.mx/wp-content/uploads/2022/07/2018-01.csv',\n",
       " 'https://ecobici.cdmx.gob.mx/wp-content/uploads/2022/07/2018-02.csv',\n",
       " 'https://ecobici.cdmx.gob.mx/wp-content/uploads/2022/07/2018-03.csv',\n",
       " 'https://ecobici.cdmx.gob.mx/wp-content/uploads/2022/07/2018-04.csv',\n",
       " 'https://ecobici.cdmx.gob.mx/wp-content/uploads/2022/07/2018-05.csv',\n",
       " 'https://ecobici.cdmx.gob.mx/wp-content/uploads/2022/07/2018-06.csv',\n",
       " 'https://ecobici.cdmx.gob.mx/wp-content/uploads/2022/07/2018-07.csv',\n",
       " 'https://ecobici.cdmx.gob.mx/wp-content/uploads/2022/07/2018-08.csv',\n",
       " 'https://ecobici.cdmx.gob.mx/wp-content/uploads/2022/07/2018-09.csv',\n",
       " 'https://ecobici.cdmx.gob.mx/wp-content/uploads/2022/07/2018-10.csv',\n",
       " 'https://ecobici.cdmx.gob.mx/wp-content/uploads/2022/07/2018-11.csv',\n",
       " 'https://ecobici.cdmx.gob.mx/wp-content/uploads/2022/07/2018-12.csv',\n",
       " 'https://ecobici.cdmx.gob.mx/wp-content/uploads/2022/08/2017-01.csv',\n",
       " 'https://ecobici.cdmx.gob.mx/wp-content/uploads/2022/08/2017-02.csv',\n",
       " 'https://ecobici.cdmx.gob.mx/wp-content/uploads/2022/08/2017-03.csv',\n",
       " 'https://ecobici.cdmx.gob.mx/wp-content/uploads/2022/08/2017-04.csv',\n",
       " 'https://ecobici.cdmx.gob.mx/wp-content/uploads/2022/08/2017-05.csv',\n",
       " 'https://ecobici.cdmx.gob.mx/wp-content/uploads/2022/08/2017-06.csv',\n",
       " 'https://ecobici.cdmx.gob.mx/wp-content/uploads/2022/09/2017-07.csv',\n",
       " 'https://ecobici.cdmx.gob.mx/wp-content/uploads/2022/08/2017-08.csv',\n",
       " 'https://ecobici.cdmx.gob.mx/wp-content/uploads/2022/08/2017-09.csv',\n",
       " 'https://ecobici.cdmx.gob.mx/wp-content/uploads/2022/08/2017-10.csv',\n",
       " 'https://ecobici.cdmx.gob.mx/wp-content/uploads/2022/08/2017-11.csv',\n",
       " 'https://ecobici.cdmx.gob.mx/wp-content/uploads/2022/08/2017-12.csv',\n",
       " 'https://ecobici.cdmx.gob.mx/wp-content/uploads/2022/08/2016-01.csv',\n",
       " 'https://ecobici.cdmx.gob.mx/wp-content/uploads/2022/08/2016-02.csv',\n",
       " 'https://ecobici.cdmx.gob.mx/wp-content/uploads/2022/08/2016-03.csv',\n",
       " 'https://ecobici.cdmx.gob.mx/wp-content/uploads/2022/08/2016-04.csv',\n",
       " 'https://ecobici.cdmx.gob.mx/wp-content/uploads/2022/08/2016-05.csv',\n",
       " 'https://ecobici.cdmx.gob.mx/wp-content/uploads/2022/08/2016-06.csv',\n",
       " 'https://ecobici.cdmx.gob.mx/wp-content/uploads/2022/08/2016-07.csv',\n",
       " 'https://ecobici.cdmx.gob.mx/wp-content/uploads/2022/08/2016-08.csv',\n",
       " 'https://ecobici.cdmx.gob.mx/wp-content/uploads/2022/08/2016-09.csv',\n",
       " 'https://ecobici.cdmx.gob.mx/wp-content/uploads/2022/08/2016-10.csv',\n",
       " 'https://ecobici.cdmx.gob.mx/wp-content/uploads/2022/08/2016-11.csv',\n",
       " 'https://ecobici.cdmx.gob.mx/wp-content/uploads/2022/08/2016-12.csv',\n",
       " 'https://ecobici.cdmx.gob.mx/wp-content/uploads/2022/07/2015-01.csv',\n",
       " 'https://ecobici.cdmx.gob.mx/wp-content/uploads/2022/07/2015-02.csv',\n",
       " 'https://ecobici.cdmx.gob.mx/wp-content/uploads/2022/07/2015-03.csv',\n",
       " 'https://ecobici.cdmx.gob.mx/wp-content/uploads/2022/07/2015-04.csv',\n",
       " 'https://ecobici.cdmx.gob.mx/wp-content/uploads/2022/07/2015-05.csv',\n",
       " 'https://ecobici.cdmx.gob.mx/wp-content/uploads/2022/07/2015-06.csv',\n",
       " 'https://ecobici.cdmx.gob.mx/wp-content/uploads/2022/07/2015-07.csv',\n",
       " 'https://ecobici.cdmx.gob.mx/wp-content/uploads/2022/07/2015-08.csv',\n",
       " 'https://ecobici.cdmx.gob.mx/wp-content/uploads/2022/07/2015-09.csv',\n",
       " 'https://ecobici.cdmx.gob.mx/wp-content/uploads/2022/07/2015-10.csv',\n",
       " 'https://ecobici.cdmx.gob.mx/wp-content/uploads/2022/09/2015-11.csv',\n",
       " 'https://ecobici.cdmx.gob.mx/wp-content/uploads/2022/07/2015-12.csv',\n",
       " 'https://ecobici.cdmx.gob.mx/wp-content/uploads/2022/08/2014-01.csv',\n",
       " 'https://ecobici.cdmx.gob.mx/wp-content/uploads/2022/08/2014-02.csv',\n",
       " 'https://ecobici.cdmx.gob.mx/wp-content/uploads/2022/08/2014-03.csv',\n",
       " 'https://ecobici.cdmx.gob.mx/wp-content/uploads/2022/08/2014-04.csv',\n",
       " 'https://ecobici.cdmx.gob.mx/wp-content/uploads/2022/08/2014-05.csv',\n",
       " 'https://ecobici.cdmx.gob.mx/wp-content/uploads/2022/08/2014-06.csv',\n",
       " 'https://ecobici.cdmx.gob.mx/wp-content/uploads/2022/09/2014-07.csv',\n",
       " 'https://ecobici.cdmx.gob.mx/wp-content/uploads/2022/08/2014-08.csv',\n",
       " 'https://ecobici.cdmx.gob.mx/wp-content/uploads/2022/08/2014-09.csv',\n",
       " 'https://ecobici.cdmx.gob.mx/wp-content/uploads/2022/08/2014-10.csv',\n",
       " 'https://ecobici.cdmx.gob.mx/wp-content/uploads/2022/08/2014-11.csv',\n",
       " 'https://ecobici.cdmx.gob.mx/wp-content/uploads/2022/08/2014-12.csv',\n",
       " 'https://ecobici.cdmx.gob.mx/wp-content/uploads/2022/07/2013-01.csv',\n",
       " 'https://ecobici.cdmx.gob.mx/wp-content/uploads/2022/07/2013-02.csv',\n",
       " 'https://ecobici.cdmx.gob.mx/wp-content/uploads/2022/07/2013-03.csv',\n",
       " 'https://ecobici.cdmx.gob.mx/wp-content/uploads/2022/07/2013-04.csv',\n",
       " 'https://ecobici.cdmx.gob.mx/wp-content/uploads/2022/07/2013-05.csv',\n",
       " 'https://ecobici.cdmx.gob.mx/wp-content/uploads/2022/07/2013-06.csv',\n",
       " 'https://ecobici.cdmx.gob.mx/wp-content/uploads/2022/07/2013-07.csv',\n",
       " 'https://ecobici.cdmx.gob.mx/wp-content/uploads/2022/07/2013-08.csv',\n",
       " 'https://ecobici.cdmx.gob.mx/wp-content/uploads/2022/07/2013-09.csv',\n",
       " 'https://ecobici.cdmx.gob.mx/wp-content/uploads/2022/07/2013-10.csv',\n",
       " 'https://ecobici.cdmx.gob.mx/wp-content/uploads/2022/07/2013-11.csv',\n",
       " 'https://ecobici.cdmx.gob.mx/wp-content/uploads/2022/07/2013-12.csv',\n",
       " 'https://ecobici.cdmx.gob.mx/wp-content/uploads/2022/08/2012-01.csv',\n",
       " 'https://ecobici.cdmx.gob.mx/wp-content/uploads/2022/08/2012-02.csv',\n",
       " 'https://ecobici.cdmx.gob.mx/wp-content/uploads/2022/08/2012-03.csv',\n",
       " 'https://ecobici.cdmx.gob.mx/wp-content/uploads/2022/08/2012-04.csv',\n",
       " 'https://ecobici.cdmx.gob.mx/wp-content/uploads/2022/08/2012-05.csv',\n",
       " 'https://ecobici.cdmx.gob.mx/wp-content/uploads/2022/08/2012-06.csv',\n",
       " 'https://ecobici.cdmx.gob.mx/wp-content/uploads/2022/08/2012-07.csv',\n",
       " 'https://ecobici.cdmx.gob.mx/wp-content/uploads/2022/07/2012-08.csv',\n",
       " 'https://ecobici.cdmx.gob.mx/wp-content/uploads/2022/07/2012-09.csv',\n",
       " 'https://ecobici.cdmx.gob.mx/wp-content/uploads/2022/08/2012-10.csv',\n",
       " 'https://ecobici.cdmx.gob.mx/wp-content/uploads/2022/08/2012-11.csv',\n",
       " 'https://ecobici.cdmx.gob.mx/wp-content/uploads/2022/08/2012-12.csv',\n",
       " 'https://ecobici.cdmx.gob.mx/wp-content/uploads/2022/07/2011-01-ene.csv',\n",
       " 'https://ecobici.cdmx.gob.mx/wp-content/uploads/2022/07/2011-02.csv',\n",
       " 'https://ecobici.cdmx.gob.mx/wp-content/uploads/2022/09/2011-03.csv',\n",
       " 'https://ecobici.cdmx.gob.mx/wp-content/uploads/2022/07/2011-04.csv',\n",
       " 'https://ecobici.cdmx.gob.mx/wp-content/uploads/2022/07/2011-05.csv',\n",
       " 'https://ecobici.cdmx.gob.mx/wp-content/uploads/2022/07/2011-06.csv',\n",
       " 'https://ecobici.cdmx.gob.mx/wp-content/uploads/2022/07/2011-07.csv',\n",
       " 'https://ecobici.cdmx.gob.mx/wp-content/uploads/2022/07/2011-08.csv',\n",
       " 'https://ecobici.cdmx.gob.mx/wp-content/uploads/2022/07/2011-09.csv',\n",
       " 'https://ecobici.cdmx.gob.mx/wp-content/uploads/2022/07/2011-10.csv',\n",
       " 'https://ecobici.cdmx.gob.mx/wp-content/uploads/2022/07/2011-11.csv',\n",
       " 'https://ecobici.cdmx.gob.mx/wp-content/uploads/2022/07/2011-12.csv',\n",
       " 'https://ecobici.cdmx.gob.mx/wp-content/uploads/2022/06/2010-02-feb.csv',\n",
       " 'https://ecobici.cdmx.gob.mx/wp-content/uploads/2022/06/2010-03-mar.csv',\n",
       " 'https://ecobici.cdmx.gob.mx/wp-content/uploads/2022/06/2010-04-abr.csv',\n",
       " 'https://ecobici.cdmx.gob.mx/wp-content/uploads/2022/06/2010-05-may.csv',\n",
       " 'https://ecobici.cdmx.gob.mx/wp-content/uploads/2022/06/2010-06-jun.csv',\n",
       " 'https://ecobici.cdmx.gob.mx/wp-content/uploads/2022/06/2010-07-jul.csv',\n",
       " 'https://ecobici.cdmx.gob.mx/wp-content/uploads/2022/06/2010-08-ago.csv',\n",
       " 'https://ecobici.cdmx.gob.mx/wp-content/uploads/2022/06/2010-09-sep.csv',\n",
       " 'https://ecobici.cdmx.gob.mx/wp-content/uploads/2022/06/2010-10-oct.csv',\n",
       " 'https://ecobici.cdmx.gob.mx/wp-content/uploads/2022/06/2010-11-nov.csv',\n",
       " 'https://ecobici.cdmx.gob.mx/wp-content/uploads/2022/06/2010-12-dic.csv']"
      ]
     },
     "execution_count": 72,
     "metadata": {},
     "output_type": "execute_result"
    }
   ],
   "source": [
    "URL_TEMPLATE = \"https://ecobici.cdmx.gob.mx\"\n",
    "download_links = []\n",
    "for link in links:\n",
    "    tmp_link = link['href']\n",
    "    if '/wp-content/uploads' in tmp_link:\n",
    "        complete_link = URL_TEMPLATE + tmp_link\n",
    "        download_links.append(complete_link)\n",
    "\n",
    "download_links"
   ]
  },
  {
   "cell_type": "code",
   "execution_count": 75,
   "metadata": {},
   "outputs": [
    {
     "name": "stdout",
     "output_type": "stream",
     "text": [
      "Leyendo URL:  https://ecobici.cdmx.gob.mx/wp-content/uploads/2024/02/ecobici_2024_enero.csv\n",
      "Leyendo URL:  https://ecobici.cdmx.gob.mx/wp-content/uploads/2024/03/2024-02.csv\n",
      "Leyendo URL:  https://ecobici.cdmx.gob.mx/wp-content/uploads/2024/04/datos_abiertos_2024_03-1.csv\n",
      "Error:  'utf-8' codec can't decode byte 0xf1 in position 35: invalid continuation byte\n",
      "Leyendo URL:  https://ecobici.cdmx.gob.mx/wp-content/uploads/2023/10/ecobici_2023_01.csv\n",
      "Leyendo URL:  https://ecobici.cdmx.gob.mx/wp-content/uploads/2023/10/ecobici_2023_02.csv\n",
      "Leyendo URL:  https://ecobici.cdmx.gob.mx/wp-content/uploads/2023/10/ecobici_2023_03.csv\n",
      "Leyendo URL:  https://ecobici.cdmx.gob.mx/wp-content/uploads/2023/10/ecobici_2023_04.csv\n",
      "Leyendo URL:  https://ecobici.cdmx.gob.mx/wp-content/uploads/2023/10/ecobici_2023_05.csv\n",
      "Leyendo URL:  https://ecobici.cdmx.gob.mx/wp-content/uploads/2023/10/ecobici_2023_06.csv\n",
      "Leyendo URL:  https://ecobici.cdmx.gob.mx/wp-content/uploads/2023/10/ecobici_2023_07.csv\n",
      "Leyendo URL:  https://ecobici.cdmx.gob.mx/wp-content/uploads/2023/10/ecobici_2023_08.csv\n",
      "Leyendo URL:  https://ecobici.cdmx.gob.mx/wp-content/uploads/2023/10/ecobici_2023_09.csv\n",
      "Leyendo URL:  https://ecobici.cdmx.gob.mx/wp-content/uploads/2023/11/datosabiertos_2023_octubre.csv\n",
      "Leyendo URL:  https://ecobici.cdmx.gob.mx/wp-content/uploads/2023/12/datosabiertos_2023_noviembre.csv\n",
      "Leyendo URL:  https://ecobici.cdmx.gob.mx/wp-content/uploads/2024/01/datos_abiertos_2023_diciembre.csv\n",
      "Leyendo URL:  https://ecobici.cdmx.gob.mx/wp-content/uploads/2022/07/2022-01.csv\n",
      "Leyendo URL:  https://ecobici.cdmx.gob.mx/wp-content/uploads/2022/07/2022-02.csv\n"
     ]
    },
    {
     "name": "stderr",
     "output_type": "stream",
     "text": [
      "/tmp/ipykernel_27631/187427702.py:8: DtypeWarning:\n",
      "\n",
      "Columns (2) have mixed types. Specify dtype option on import or set low_memory=False.\n",
      "\n"
     ]
    },
    {
     "name": "stdout",
     "output_type": "stream",
     "text": [
      "Leyendo URL:  https://ecobici.cdmx.gob.mx/wp-content/uploads/2022/07/2022-03.csv\n"
     ]
    },
    {
     "name": "stderr",
     "output_type": "stream",
     "text": [
      "/tmp/ipykernel_27631/187427702.py:8: DtypeWarning:\n",
      "\n",
      "Columns (2) have mixed types. Specify dtype option on import or set low_memory=False.\n",
      "\n"
     ]
    },
    {
     "name": "stdout",
     "output_type": "stream",
     "text": [
      "Leyendo URL:  https://ecobici.cdmx.gob.mx/wp-content/uploads/2022/07/2022-04.csv\n",
      "Leyendo URL:  https://ecobici.cdmx.gob.mx/wp-content/uploads/2022/08/2022-05.csv\n",
      "Leyendo URL:  https://ecobici.cdmx.gob.mx/wp-content/uploads/2022/08/2022-06.csv\n",
      "Leyendo URL:  https://ecobici.cdmx.gob.mx/wp-content/uploads/2022/08/2022-07.csv\n",
      "Leyendo URL:  https://ecobici.cdmx.gob.mx/wp-content/uploads/2023/10/2022-08.csv\n"
     ]
    },
    {
     "name": "stderr",
     "output_type": "stream",
     "text": [
      "/tmp/ipykernel_27631/187427702.py:8: DtypeWarning:\n",
      "\n",
      "Columns (3,6) have mixed types. Specify dtype option on import or set low_memory=False.\n",
      "\n"
     ]
    },
    {
     "name": "stdout",
     "output_type": "stream",
     "text": [
      "Leyendo URL:  https://ecobici.cdmx.gob.mx/wp-content/uploads/2023/08/202209.csv\n",
      "Error:  El archivo no tiene las columnas necesarias\n",
      "Leyendo URL:  https://ecobici.cdmx.gob.mx/wp-content/uploads/2023/10/ecobici_2022_10.csv\n",
      "Leyendo URL:  https://ecobici.cdmx.gob.mx/wp-content/uploads/2023/10/ecobici_2022_11.csv\n",
      "Leyendo URL:  https://ecobici.cdmx.gob.mx/wp-content/uploads/2023/10/ecobici_2022_12.csv\n",
      "Leyendo URL:  https://ecobici.cdmx.gob.mx/wp-content/uploads/2022/07/2021-01.csv\n",
      "Error:  El archivo no tiene las columnas necesarias\n",
      "Leyendo URL:  https://ecobici.cdmx.gob.mx/wp-content/uploads/2022/07/2021-02.csv\n",
      "Error:  El archivo no tiene las columnas necesarias\n",
      "Leyendo URL:  https://ecobici.cdmx.gob.mx/wp-content/uploads/2022/07/2021-03.csv\n",
      "Error:  El archivo no tiene las columnas necesarias\n",
      "Leyendo URL:  https://ecobici.cdmx.gob.mx/wp-content/uploads/2022/07/2021-04.csv\n",
      "Error:  El archivo no tiene las columnas necesarias\n",
      "Leyendo URL:  https://ecobici.cdmx.gob.mx/wp-content/uploads/2022/07/2021-05.csv\n",
      "Error:  El archivo no tiene las columnas necesarias\n",
      "Leyendo URL:  https://ecobici.cdmx.gob.mx/wp-content/uploads/2022/07/2021-06.csv\n",
      "Error:  El archivo no tiene las columnas necesarias\n",
      "Leyendo URL:  https://ecobici.cdmx.gob.mx/wp-content/uploads/2022/07/2021-07.csv\n",
      "Leyendo URL:  https://ecobici.cdmx.gob.mx/wp-content/uploads/2022/07/2021-08.csv\n",
      "Leyendo URL:  https://ecobici.cdmx.gob.mx/wp-content/uploads/2022/07/2021-09.csv\n",
      "Leyendo URL:  https://ecobici.cdmx.gob.mx/wp-content/uploads/2022/07/2021-10.csv\n",
      "Leyendo URL:  https://ecobici.cdmx.gob.mx/wp-content/uploads/2022/07/2021-11.csv\n",
      "Leyendo URL:  https://ecobici.cdmx.gob.mx/wp-content/uploads/2022/07/2021-12.csv\n",
      "Leyendo URL:  https://ecobici.cdmx.gob.mx/wp-content/uploads/2022/08/2020-01.csv\n",
      "Error:  El archivo no tiene las columnas necesarias\n",
      "Leyendo URL:  https://ecobici.cdmx.gob.mx/wp-content/uploads/2022/08/2020-02.csv\n",
      "Error:  El archivo no tiene las columnas necesarias\n",
      "Leyendo URL:  https://ecobici.cdmx.gob.mx/wp-content/uploads/2022/07/2020-03.csv\n"
     ]
    },
    {
     "name": "stderr",
     "output_type": "stream",
     "text": [
      "/tmp/ipykernel_27631/187427702.py:8: DtypeWarning:\n",
      "\n",
      "Columns (2) have mixed types. Specify dtype option on import or set low_memory=False.\n",
      "\n"
     ]
    },
    {
     "name": "stdout",
     "output_type": "stream",
     "text": [
      "Error:  El archivo no tiene las columnas necesarias\n",
      "Leyendo URL:  https://ecobici.cdmx.gob.mx/wp-content/uploads/2022/07/2020-04.csv\n",
      "Error:  El archivo no tiene las columnas necesarias\n",
      "Leyendo URL:  https://ecobici.cdmx.gob.mx/wp-content/uploads/2022/07/2020-05.csv\n",
      "Error:  El archivo no tiene las columnas necesarias\n",
      "Leyendo URL:  https://ecobici.cdmx.gob.mx/wp-content/uploads/2022/07/2020-06.csv\n",
      "Error:  El archivo no tiene las columnas necesarias\n",
      "Leyendo URL:  https://ecobici.cdmx.gob.mx/wp-content/uploads/2022/07/2020-07.csv\n",
      "Error:  El archivo no tiene las columnas necesarias\n",
      "Leyendo URL:  https://ecobici.cdmx.gob.mx/wp-content/uploads/2022/07/2020-08.csv\n",
      "Error:  El archivo no tiene las columnas necesarias\n",
      "Leyendo URL:  https://ecobici.cdmx.gob.mx/wp-content/uploads/2022/07/2020-09.csv\n",
      "Error:  El archivo no tiene las columnas necesarias\n",
      "Leyendo URL:  https://ecobici.cdmx.gob.mx/wp-content/uploads/2022/07/2020-10.csv\n",
      "Error:  El archivo no tiene las columnas necesarias\n",
      "Leyendo URL:  https://ecobici.cdmx.gob.mx/wp-content/uploads/2022/07/2020-11.csv\n",
      "Error:  El archivo no tiene las columnas necesarias\n",
      "Leyendo URL:  https://ecobici.cdmx.gob.mx/wp-content/uploads/2023/08/2020-12.csv\n",
      "Error:  El archivo no tiene las columnas necesarias\n",
      "Leyendo URL:  https://ecobici.cdmx.gob.mx/wp-content/uploads/2022/08/2019-01.csv\n"
     ]
    },
    {
     "name": "stderr",
     "output_type": "stream",
     "text": [
      "/tmp/ipykernel_27631/187427702.py:8: DtypeWarning:\n",
      "\n",
      "Columns (2) have mixed types. Specify dtype option on import or set low_memory=False.\n",
      "\n"
     ]
    },
    {
     "name": "stdout",
     "output_type": "stream",
     "text": [
      "Error:  El archivo no tiene las columnas necesarias\n",
      "Leyendo URL:  https://ecobici.cdmx.gob.mx/wp-content/uploads/2022/08/2019-02.csv\n"
     ]
    },
    {
     "name": "stderr",
     "output_type": "stream",
     "text": [
      "/tmp/ipykernel_27631/187427702.py:8: DtypeWarning:\n",
      "\n",
      "Columns (2) have mixed types. Specify dtype option on import or set low_memory=False.\n",
      "\n"
     ]
    },
    {
     "name": "stdout",
     "output_type": "stream",
     "text": [
      "Error:  El archivo no tiene las columnas necesarias\n",
      "Leyendo URL:  https://ecobici.cdmx.gob.mx/wp-content/uploads/2022/08/2019-03.csv\n"
     ]
    },
    {
     "name": "stderr",
     "output_type": "stream",
     "text": [
      "/tmp/ipykernel_27631/187427702.py:8: DtypeWarning:\n",
      "\n",
      "Columns (2,6,9) have mixed types. Specify dtype option on import or set low_memory=False.\n",
      "\n"
     ]
    },
    {
     "name": "stdout",
     "output_type": "stream",
     "text": [
      "Error:  El archivo no tiene las columnas necesarias\n",
      "Leyendo URL:  https://ecobici.cdmx.gob.mx/wp-content/uploads/2022/08/2019-04.csv\n",
      "Error:  El archivo no tiene las columnas necesarias\n",
      "Leyendo URL:  https://ecobici.cdmx.gob.mx/wp-content/uploads/2022/08/2019-05.csv\n",
      "Error:  El archivo no tiene las columnas necesarias\n",
      "Leyendo URL:  https://ecobici.cdmx.gob.mx/wp-content/uploads/2022/08/2019-06.csv\n",
      "Error:  El archivo no tiene las columnas necesarias\n",
      "Leyendo URL:  https://ecobici.cdmx.gob.mx/wp-content/uploads/2022/08/2019-07.csv\n",
      "Error:  El archivo no tiene las columnas necesarias\n",
      "Leyendo URL:  https://ecobici.cdmx.gob.mx/wp-content/uploads/2022/08/2019-08.csv\n",
      "Error:  El archivo no tiene las columnas necesarias\n",
      "Leyendo URL:  https://ecobici.cdmx.gob.mx/wp-content/uploads/2022/08/2019-09.csv\n",
      "Error:  El archivo no tiene las columnas necesarias\n",
      "Leyendo URL:  https://ecobici.cdmx.gob.mx/wp-content/uploads/2022/08/2019-10.csv\n"
     ]
    },
    {
     "name": "stderr",
     "output_type": "stream",
     "text": [
      "/tmp/ipykernel_27631/187427702.py:8: DtypeWarning:\n",
      "\n",
      "Columns (2) have mixed types. Specify dtype option on import or set low_memory=False.\n",
      "\n"
     ]
    },
    {
     "name": "stdout",
     "output_type": "stream",
     "text": [
      "Error:  El archivo no tiene las columnas necesarias\n",
      "Leyendo URL:  https://ecobici.cdmx.gob.mx/wp-content/uploads/2022/08/2019-11.csv\n"
     ]
    },
    {
     "name": "stderr",
     "output_type": "stream",
     "text": [
      "/tmp/ipykernel_27631/187427702.py:8: DtypeWarning:\n",
      "\n",
      "Columns (2) have mixed types. Specify dtype option on import or set low_memory=False.\n",
      "\n"
     ]
    },
    {
     "name": "stdout",
     "output_type": "stream",
     "text": [
      "Error:  El archivo no tiene las columnas necesarias\n",
      "Leyendo URL:  https://ecobici.cdmx.gob.mx/wp-content/uploads/2022/08/2019-12.csv\n"
     ]
    },
    {
     "name": "stderr",
     "output_type": "stream",
     "text": [
      "/tmp/ipykernel_27631/187427702.py:8: DtypeWarning:\n",
      "\n",
      "Columns (2) have mixed types. Specify dtype option on import or set low_memory=False.\n",
      "\n"
     ]
    },
    {
     "name": "stdout",
     "output_type": "stream",
     "text": [
      "Error:  El archivo no tiene las columnas necesarias\n",
      "Leyendo URL:  https://ecobici.cdmx.gob.mx/wp-content/uploads/2022/07/2018-01.csv\n"
     ]
    },
    {
     "name": "stderr",
     "output_type": "stream",
     "text": [
      "/tmp/ipykernel_27631/187427702.py:8: DtypeWarning:\n",
      "\n",
      "Columns (2) have mixed types. Specify dtype option on import or set low_memory=False.\n",
      "\n"
     ]
    },
    {
     "name": "stdout",
     "output_type": "stream",
     "text": [
      "Error:  El archivo no tiene las columnas necesarias\n",
      "Leyendo URL:  https://ecobici.cdmx.gob.mx/wp-content/uploads/2022/07/2018-02.csv\n"
     ]
    },
    {
     "name": "stderr",
     "output_type": "stream",
     "text": [
      "/tmp/ipykernel_27631/187427702.py:8: DtypeWarning:\n",
      "\n",
      "Columns (2) have mixed types. Specify dtype option on import or set low_memory=False.\n",
      "\n"
     ]
    },
    {
     "name": "stdout",
     "output_type": "stream",
     "text": [
      "Error:  El archivo no tiene las columnas necesarias\n",
      "Leyendo URL:  https://ecobici.cdmx.gob.mx/wp-content/uploads/2022/07/2018-03.csv\n"
     ]
    },
    {
     "name": "stderr",
     "output_type": "stream",
     "text": [
      "/tmp/ipykernel_27631/187427702.py:8: DtypeWarning:\n",
      "\n",
      "Columns (2) have mixed types. Specify dtype option on import or set low_memory=False.\n",
      "\n"
     ]
    },
    {
     "name": "stdout",
     "output_type": "stream",
     "text": [
      "Error:  El archivo no tiene las columnas necesarias\n",
      "Leyendo URL:  https://ecobici.cdmx.gob.mx/wp-content/uploads/2022/07/2018-04.csv\n"
     ]
    },
    {
     "name": "stderr",
     "output_type": "stream",
     "text": [
      "/tmp/ipykernel_27631/187427702.py:8: DtypeWarning:\n",
      "\n",
      "Columns (2) have mixed types. Specify dtype option on import or set low_memory=False.\n",
      "\n"
     ]
    },
    {
     "name": "stdout",
     "output_type": "stream",
     "text": [
      "Error:  El archivo no tiene las columnas necesarias\n",
      "Leyendo URL:  https://ecobici.cdmx.gob.mx/wp-content/uploads/2022/07/2018-05.csv\n",
      "Error:  El archivo no tiene las columnas necesarias\n",
      "Leyendo URL:  https://ecobici.cdmx.gob.mx/wp-content/uploads/2022/07/2018-06.csv\n",
      "Error:  El archivo no tiene las columnas necesarias\n",
      "Leyendo URL:  https://ecobici.cdmx.gob.mx/wp-content/uploads/2022/07/2018-07.csv\n",
      "Error:  El archivo no tiene las columnas necesarias\n",
      "Leyendo URL:  https://ecobici.cdmx.gob.mx/wp-content/uploads/2022/07/2018-08.csv\n",
      "Error:  El archivo no tiene las columnas necesarias\n",
      "Leyendo URL:  https://ecobici.cdmx.gob.mx/wp-content/uploads/2022/07/2018-09.csv\n",
      "Error:  El archivo no tiene las columnas necesarias\n",
      "Leyendo URL:  https://ecobici.cdmx.gob.mx/wp-content/uploads/2022/07/2018-10.csv\n",
      "Error:  El archivo no tiene las columnas necesarias\n",
      "Leyendo URL:  https://ecobici.cdmx.gob.mx/wp-content/uploads/2022/07/2018-11.csv\n"
     ]
    },
    {
     "name": "stderr",
     "output_type": "stream",
     "text": [
      "/tmp/ipykernel_27631/187427702.py:8: DtypeWarning:\n",
      "\n",
      "Columns (2) have mixed types. Specify dtype option on import or set low_memory=False.\n",
      "\n"
     ]
    },
    {
     "name": "stdout",
     "output_type": "stream",
     "text": [
      "Error:  El archivo no tiene las columnas necesarias\n",
      "Leyendo URL:  https://ecobici.cdmx.gob.mx/wp-content/uploads/2022/07/2018-12.csv\n",
      "Error:  El archivo no tiene las columnas necesarias\n",
      "Leyendo URL:  https://ecobici.cdmx.gob.mx/wp-content/uploads/2022/08/2017-01.csv\n",
      "Error:  El archivo no tiene las columnas necesarias\n",
      "Leyendo URL:  https://ecobici.cdmx.gob.mx/wp-content/uploads/2022/08/2017-02.csv\n",
      "Error:  El archivo no tiene las columnas necesarias\n",
      "Leyendo URL:  https://ecobici.cdmx.gob.mx/wp-content/uploads/2022/08/2017-03.csv\n",
      "Error:  El archivo no tiene las columnas necesarias\n",
      "Leyendo URL:  https://ecobici.cdmx.gob.mx/wp-content/uploads/2022/08/2017-04.csv\n",
      "Error:  El archivo no tiene las columnas necesarias\n",
      "Leyendo URL:  https://ecobici.cdmx.gob.mx/wp-content/uploads/2022/08/2017-05.csv\n"
     ]
    },
    {
     "name": "stderr",
     "output_type": "stream",
     "text": [
      "/tmp/ipykernel_27631/187427702.py:8: DtypeWarning:\n",
      "\n",
      "Columns (2) have mixed types. Specify dtype option on import or set low_memory=False.\n",
      "\n"
     ]
    },
    {
     "name": "stdout",
     "output_type": "stream",
     "text": [
      "Error:  El archivo no tiene las columnas necesarias\n",
      "Leyendo URL:  https://ecobici.cdmx.gob.mx/wp-content/uploads/2022/08/2017-06.csv\n",
      "Error:  El archivo no tiene las columnas necesarias\n",
      "Leyendo URL:  https://ecobici.cdmx.gob.mx/wp-content/uploads/2022/09/2017-07.csv\n"
     ]
    },
    {
     "name": "stderr",
     "output_type": "stream",
     "text": [
      "/tmp/ipykernel_27631/187427702.py:8: DtypeWarning:\n",
      "\n",
      "Columns (2) have mixed types. Specify dtype option on import or set low_memory=False.\n",
      "\n"
     ]
    },
    {
     "name": "stdout",
     "output_type": "stream",
     "text": [
      "Error:  El archivo no tiene las columnas necesarias\n",
      "Leyendo URL:  https://ecobici.cdmx.gob.mx/wp-content/uploads/2022/08/2017-08.csv\n"
     ]
    },
    {
     "name": "stderr",
     "output_type": "stream",
     "text": [
      "/tmp/ipykernel_27631/187427702.py:8: DtypeWarning:\n",
      "\n",
      "Columns (2) have mixed types. Specify dtype option on import or set low_memory=False.\n",
      "\n"
     ]
    },
    {
     "name": "stdout",
     "output_type": "stream",
     "text": [
      "Error:  El archivo no tiene las columnas necesarias\n",
      "Leyendo URL:  https://ecobici.cdmx.gob.mx/wp-content/uploads/2022/08/2017-09.csv\n"
     ]
    },
    {
     "name": "stderr",
     "output_type": "stream",
     "text": [
      "/tmp/ipykernel_27631/187427702.py:8: DtypeWarning:\n",
      "\n",
      "Columns (2) have mixed types. Specify dtype option on import or set low_memory=False.\n",
      "\n"
     ]
    },
    {
     "name": "stdout",
     "output_type": "stream",
     "text": [
      "Error:  El archivo no tiene las columnas necesarias\n",
      "Leyendo URL:  https://ecobici.cdmx.gob.mx/wp-content/uploads/2022/08/2017-10.csv\n"
     ]
    },
    {
     "name": "stderr",
     "output_type": "stream",
     "text": [
      "/tmp/ipykernel_27631/187427702.py:8: DtypeWarning:\n",
      "\n",
      "Columns (2) have mixed types. Specify dtype option on import or set low_memory=False.\n",
      "\n"
     ]
    },
    {
     "name": "stdout",
     "output_type": "stream",
     "text": [
      "Error:  El archivo no tiene las columnas necesarias\n",
      "Leyendo URL:  https://ecobici.cdmx.gob.mx/wp-content/uploads/2022/08/2017-11.csv\n"
     ]
    },
    {
     "name": "stderr",
     "output_type": "stream",
     "text": [
      "/tmp/ipykernel_27631/187427702.py:8: DtypeWarning:\n",
      "\n",
      "Columns (2) have mixed types. Specify dtype option on import or set low_memory=False.\n",
      "\n"
     ]
    },
    {
     "name": "stdout",
     "output_type": "stream",
     "text": [
      "Error:  El archivo no tiene las columnas necesarias\n",
      "Leyendo URL:  https://ecobici.cdmx.gob.mx/wp-content/uploads/2022/08/2017-12.csv\n"
     ]
    },
    {
     "name": "stderr",
     "output_type": "stream",
     "text": [
      "/tmp/ipykernel_27631/187427702.py:8: DtypeWarning:\n",
      "\n",
      "Columns (2) have mixed types. Specify dtype option on import or set low_memory=False.\n",
      "\n"
     ]
    },
    {
     "name": "stdout",
     "output_type": "stream",
     "text": [
      "Error:  El archivo no tiene las columnas necesarias\n",
      "Leyendo URL:  https://ecobici.cdmx.gob.mx/wp-content/uploads/2022/08/2016-01.csv\n"
     ]
    },
    {
     "name": "stderr",
     "output_type": "stream",
     "text": [
      "/tmp/ipykernel_27631/187427702.py:8: DtypeWarning:\n",
      "\n",
      "Columns (2) have mixed types. Specify dtype option on import or set low_memory=False.\n",
      "\n"
     ]
    },
    {
     "name": "stdout",
     "output_type": "stream",
     "text": [
      "Error:  El archivo no tiene las columnas necesarias\n",
      "Leyendo URL:  https://ecobici.cdmx.gob.mx/wp-content/uploads/2022/08/2016-02.csv\n"
     ]
    },
    {
     "name": "stderr",
     "output_type": "stream",
     "text": [
      "/tmp/ipykernel_27631/187427702.py:8: DtypeWarning:\n",
      "\n",
      "Columns (2) have mixed types. Specify dtype option on import or set low_memory=False.\n",
      "\n"
     ]
    },
    {
     "name": "stdout",
     "output_type": "stream",
     "text": [
      "Error:  El archivo no tiene las columnas necesarias\n",
      "Leyendo URL:  https://ecobici.cdmx.gob.mx/wp-content/uploads/2022/08/2016-03.csv\n"
     ]
    },
    {
     "name": "stderr",
     "output_type": "stream",
     "text": [
      "/tmp/ipykernel_27631/187427702.py:8: DtypeWarning:\n",
      "\n",
      "Columns (2) have mixed types. Specify dtype option on import or set low_memory=False.\n",
      "\n"
     ]
    },
    {
     "name": "stdout",
     "output_type": "stream",
     "text": [
      "Error:  El archivo no tiene las columnas necesarias\n",
      "Leyendo URL:  https://ecobici.cdmx.gob.mx/wp-content/uploads/2022/08/2016-04.csv\n"
     ]
    },
    {
     "name": "stderr",
     "output_type": "stream",
     "text": [
      "/tmp/ipykernel_27631/187427702.py:8: DtypeWarning:\n",
      "\n",
      "Columns (2) have mixed types. Specify dtype option on import or set low_memory=False.\n",
      "\n"
     ]
    },
    {
     "name": "stdout",
     "output_type": "stream",
     "text": [
      "Error:  El archivo no tiene las columnas necesarias\n",
      "Leyendo URL:  https://ecobici.cdmx.gob.mx/wp-content/uploads/2022/08/2016-05.csv\n"
     ]
    },
    {
     "name": "stderr",
     "output_type": "stream",
     "text": [
      "/tmp/ipykernel_27631/187427702.py:8: DtypeWarning:\n",
      "\n",
      "Columns (2) have mixed types. Specify dtype option on import or set low_memory=False.\n",
      "\n"
     ]
    },
    {
     "name": "stdout",
     "output_type": "stream",
     "text": [
      "Error:  El archivo no tiene las columnas necesarias\n",
      "Leyendo URL:  https://ecobici.cdmx.gob.mx/wp-content/uploads/2022/08/2016-06.csv\n"
     ]
    },
    {
     "name": "stderr",
     "output_type": "stream",
     "text": [
      "/tmp/ipykernel_27631/187427702.py:8: DtypeWarning:\n",
      "\n",
      "Columns (2) have mixed types. Specify dtype option on import or set low_memory=False.\n",
      "\n"
     ]
    },
    {
     "name": "stdout",
     "output_type": "stream",
     "text": [
      "Error:  El archivo no tiene las columnas necesarias\n",
      "Leyendo URL:  https://ecobici.cdmx.gob.mx/wp-content/uploads/2022/08/2016-07.csv\n",
      "Error:  El archivo no tiene las columnas necesarias\n",
      "Leyendo URL:  https://ecobici.cdmx.gob.mx/wp-content/uploads/2022/08/2016-08.csv\n"
     ]
    },
    {
     "name": "stderr",
     "output_type": "stream",
     "text": [
      "/tmp/ipykernel_27631/187427702.py:8: DtypeWarning:\n",
      "\n",
      "Columns (2) have mixed types. Specify dtype option on import or set low_memory=False.\n",
      "\n"
     ]
    },
    {
     "name": "stdout",
     "output_type": "stream",
     "text": [
      "Error:  El archivo no tiene las columnas necesarias\n",
      "Leyendo URL:  https://ecobici.cdmx.gob.mx/wp-content/uploads/2022/08/2016-09.csv\n",
      "Error:  El archivo no tiene las columnas necesarias\n",
      "Leyendo URL:  https://ecobici.cdmx.gob.mx/wp-content/uploads/2022/08/2016-10.csv\n"
     ]
    },
    {
     "name": "stderr",
     "output_type": "stream",
     "text": [
      "/tmp/ipykernel_27631/187427702.py:8: DtypeWarning:\n",
      "\n",
      "Columns (2) have mixed types. Specify dtype option on import or set low_memory=False.\n",
      "\n"
     ]
    },
    {
     "name": "stdout",
     "output_type": "stream",
     "text": [
      "Error:  El archivo no tiene las columnas necesarias\n",
      "Leyendo URL:  https://ecobici.cdmx.gob.mx/wp-content/uploads/2022/08/2016-11.csv\n"
     ]
    },
    {
     "name": "stderr",
     "output_type": "stream",
     "text": [
      "/tmp/ipykernel_27631/187427702.py:8: DtypeWarning:\n",
      "\n",
      "Columns (2) have mixed types. Specify dtype option on import or set low_memory=False.\n",
      "\n"
     ]
    },
    {
     "name": "stdout",
     "output_type": "stream",
     "text": [
      "Error:  El archivo no tiene las columnas necesarias\n",
      "Leyendo URL:  https://ecobici.cdmx.gob.mx/wp-content/uploads/2022/08/2016-12.csv\n",
      "Error:  El archivo no tiene las columnas necesarias\n",
      "Leyendo URL:  https://ecobici.cdmx.gob.mx/wp-content/uploads/2022/07/2015-01.csv\n",
      "Error:  El archivo no tiene las columnas necesarias\n",
      "Leyendo URL:  https://ecobici.cdmx.gob.mx/wp-content/uploads/2022/07/2015-02.csv\n"
     ]
    },
    {
     "name": "stderr",
     "output_type": "stream",
     "text": [
      "/tmp/ipykernel_27631/187427702.py:8: DtypeWarning:\n",
      "\n",
      "Columns (2) have mixed types. Specify dtype option on import or set low_memory=False.\n",
      "\n"
     ]
    },
    {
     "name": "stdout",
     "output_type": "stream",
     "text": [
      "Error:  El archivo no tiene las columnas necesarias\n",
      "Leyendo URL:  https://ecobici.cdmx.gob.mx/wp-content/uploads/2022/07/2015-03.csv\n"
     ]
    },
    {
     "name": "stderr",
     "output_type": "stream",
     "text": [
      "/tmp/ipykernel_27631/187427702.py:8: DtypeWarning:\n",
      "\n",
      "Columns (2) have mixed types. Specify dtype option on import or set low_memory=False.\n",
      "\n"
     ]
    },
    {
     "name": "stdout",
     "output_type": "stream",
     "text": [
      "Error:  El archivo no tiene las columnas necesarias\n",
      "Leyendo URL:  https://ecobici.cdmx.gob.mx/wp-content/uploads/2022/07/2015-04.csv\n",
      "Error:  El archivo no tiene las columnas necesarias\n",
      "Leyendo URL:  https://ecobici.cdmx.gob.mx/wp-content/uploads/2022/07/2015-05.csv\n",
      "Error:  El archivo no tiene las columnas necesarias\n",
      "Leyendo URL:  https://ecobici.cdmx.gob.mx/wp-content/uploads/2022/07/2015-06.csv\n"
     ]
    },
    {
     "name": "stderr",
     "output_type": "stream",
     "text": [
      "/tmp/ipykernel_27631/187427702.py:8: DtypeWarning:\n",
      "\n",
      "Columns (2) have mixed types. Specify dtype option on import or set low_memory=False.\n",
      "\n"
     ]
    },
    {
     "name": "stdout",
     "output_type": "stream",
     "text": [
      "Error:  El archivo no tiene las columnas necesarias\n",
      "Leyendo URL:  https://ecobici.cdmx.gob.mx/wp-content/uploads/2022/07/2015-07.csv\n"
     ]
    },
    {
     "name": "stderr",
     "output_type": "stream",
     "text": [
      "/tmp/ipykernel_27631/187427702.py:8: DtypeWarning:\n",
      "\n",
      "Columns (2) have mixed types. Specify dtype option on import or set low_memory=False.\n",
      "\n"
     ]
    },
    {
     "name": "stdout",
     "output_type": "stream",
     "text": [
      "Error:  El archivo no tiene las columnas necesarias\n",
      "Leyendo URL:  https://ecobici.cdmx.gob.mx/wp-content/uploads/2022/07/2015-08.csv\n"
     ]
    },
    {
     "name": "stderr",
     "output_type": "stream",
     "text": [
      "/tmp/ipykernel_27631/187427702.py:8: DtypeWarning:\n",
      "\n",
      "Columns (2) have mixed types. Specify dtype option on import or set low_memory=False.\n",
      "\n"
     ]
    },
    {
     "name": "stdout",
     "output_type": "stream",
     "text": [
      "Error:  El archivo no tiene las columnas necesarias\n",
      "Leyendo URL:  https://ecobici.cdmx.gob.mx/wp-content/uploads/2022/07/2015-09.csv\n"
     ]
    },
    {
     "name": "stderr",
     "output_type": "stream",
     "text": [
      "/tmp/ipykernel_27631/187427702.py:8: DtypeWarning:\n",
      "\n",
      "Columns (2) have mixed types. Specify dtype option on import or set low_memory=False.\n",
      "\n"
     ]
    },
    {
     "name": "stdout",
     "output_type": "stream",
     "text": [
      "Error:  El archivo no tiene las columnas necesarias\n",
      "Leyendo URL:  https://ecobici.cdmx.gob.mx/wp-content/uploads/2022/07/2015-10.csv\n"
     ]
    },
    {
     "name": "stderr",
     "output_type": "stream",
     "text": [
      "/tmp/ipykernel_27631/187427702.py:8: DtypeWarning:\n",
      "\n",
      "Columns (2) have mixed types. Specify dtype option on import or set low_memory=False.\n",
      "\n"
     ]
    },
    {
     "name": "stdout",
     "output_type": "stream",
     "text": [
      "Error:  El archivo no tiene las columnas necesarias\n",
      "Leyendo URL:  https://ecobici.cdmx.gob.mx/wp-content/uploads/2022/09/2015-11.csv\n"
     ]
    },
    {
     "name": "stderr",
     "output_type": "stream",
     "text": [
      "/tmp/ipykernel_27631/187427702.py:8: DtypeWarning:\n",
      "\n",
      "Columns (2) have mixed types. Specify dtype option on import or set low_memory=False.\n",
      "\n"
     ]
    },
    {
     "name": "stdout",
     "output_type": "stream",
     "text": [
      "Error:  El archivo no tiene las columnas necesarias\n",
      "Leyendo URL:  https://ecobici.cdmx.gob.mx/wp-content/uploads/2022/07/2015-12.csv\n"
     ]
    },
    {
     "name": "stderr",
     "output_type": "stream",
     "text": [
      "/tmp/ipykernel_27631/187427702.py:8: DtypeWarning:\n",
      "\n",
      "Columns (2) have mixed types. Specify dtype option on import or set low_memory=False.\n",
      "\n"
     ]
    },
    {
     "name": "stdout",
     "output_type": "stream",
     "text": [
      "Error:  El archivo no tiene las columnas necesarias\n",
      "Leyendo URL:  https://ecobici.cdmx.gob.mx/wp-content/uploads/2022/08/2014-01.csv\n",
      "Error:  El archivo no tiene las columnas necesarias\n",
      "Leyendo URL:  https://ecobici.cdmx.gob.mx/wp-content/uploads/2022/08/2014-02.csv\n",
      "Error:  El archivo no tiene las columnas necesarias\n",
      "Leyendo URL:  https://ecobici.cdmx.gob.mx/wp-content/uploads/2022/08/2014-03.csv\n",
      "Error:  El archivo no tiene las columnas necesarias\n",
      "Leyendo URL:  https://ecobici.cdmx.gob.mx/wp-content/uploads/2022/08/2014-04.csv\n",
      "Error:  El archivo no tiene las columnas necesarias\n",
      "Leyendo URL:  https://ecobici.cdmx.gob.mx/wp-content/uploads/2022/08/2014-05.csv\n",
      "Error:  El archivo no tiene las columnas necesarias\n",
      "Leyendo URL:  https://ecobici.cdmx.gob.mx/wp-content/uploads/2022/08/2014-06.csv\n",
      "Error:  El archivo no tiene las columnas necesarias\n",
      "Leyendo URL:  https://ecobici.cdmx.gob.mx/wp-content/uploads/2022/09/2014-07.csv\n",
      "Error:  El archivo no tiene las columnas necesarias\n",
      "Leyendo URL:  https://ecobici.cdmx.gob.mx/wp-content/uploads/2022/08/2014-08.csv\n",
      "Error:  El archivo no tiene las columnas necesarias\n",
      "Leyendo URL:  https://ecobici.cdmx.gob.mx/wp-content/uploads/2022/08/2014-09.csv\n",
      "Error:  El archivo no tiene las columnas necesarias\n",
      "Leyendo URL:  https://ecobici.cdmx.gob.mx/wp-content/uploads/2022/08/2014-10.csv\n"
     ]
    },
    {
     "name": "stderr",
     "output_type": "stream",
     "text": [
      "/tmp/ipykernel_27631/187427702.py:8: DtypeWarning:\n",
      "\n",
      "Columns (2) have mixed types. Specify dtype option on import or set low_memory=False.\n",
      "\n"
     ]
    },
    {
     "name": "stdout",
     "output_type": "stream",
     "text": [
      "Error:  El archivo no tiene las columnas necesarias\n",
      "Leyendo URL:  https://ecobici.cdmx.gob.mx/wp-content/uploads/2022/08/2014-11.csv\n",
      "Error:  El archivo no tiene las columnas necesarias\n",
      "Leyendo URL:  https://ecobici.cdmx.gob.mx/wp-content/uploads/2022/08/2014-12.csv\n",
      "Error:  El archivo no tiene las columnas necesarias\n",
      "Leyendo URL:  https://ecobici.cdmx.gob.mx/wp-content/uploads/2022/07/2013-01.csv\n",
      "Error:  El archivo no tiene las columnas necesarias\n",
      "Leyendo URL:  https://ecobici.cdmx.gob.mx/wp-content/uploads/2022/07/2013-02.csv\n",
      "Error:  El archivo no tiene las columnas necesarias\n",
      "Leyendo URL:  https://ecobici.cdmx.gob.mx/wp-content/uploads/2022/07/2013-03.csv\n",
      "Error:  El archivo no tiene las columnas necesarias\n",
      "Leyendo URL:  https://ecobici.cdmx.gob.mx/wp-content/uploads/2022/07/2013-04.csv\n",
      "Error:  El archivo no tiene las columnas necesarias\n",
      "Leyendo URL:  https://ecobici.cdmx.gob.mx/wp-content/uploads/2022/07/2013-05.csv\n",
      "Error:  El archivo no tiene las columnas necesarias\n",
      "Leyendo URL:  https://ecobici.cdmx.gob.mx/wp-content/uploads/2022/07/2013-06.csv\n",
      "Error:  El archivo no tiene las columnas necesarias\n",
      "Leyendo URL:  https://ecobici.cdmx.gob.mx/wp-content/uploads/2022/07/2013-07.csv\n",
      "Error:  El archivo no tiene las columnas necesarias\n",
      "Leyendo URL:  https://ecobici.cdmx.gob.mx/wp-content/uploads/2022/07/2013-08.csv\n",
      "Error:  El archivo no tiene las columnas necesarias\n",
      "Leyendo URL:  https://ecobici.cdmx.gob.mx/wp-content/uploads/2022/07/2013-09.csv\n",
      "Error:  El archivo no tiene las columnas necesarias\n",
      "Leyendo URL:  https://ecobici.cdmx.gob.mx/wp-content/uploads/2022/07/2013-10.csv\n",
      "Error:  El archivo no tiene las columnas necesarias\n",
      "Leyendo URL:  https://ecobici.cdmx.gob.mx/wp-content/uploads/2022/07/2013-11.csv\n",
      "Error:  El archivo no tiene las columnas necesarias\n",
      "Leyendo URL:  https://ecobici.cdmx.gob.mx/wp-content/uploads/2022/07/2013-12.csv\n",
      "Error:  El archivo no tiene las columnas necesarias\n",
      "Leyendo URL:  https://ecobici.cdmx.gob.mx/wp-content/uploads/2022/08/2012-01.csv\n",
      "Error:  El archivo no tiene las columnas necesarias\n",
      "Leyendo URL:  https://ecobici.cdmx.gob.mx/wp-content/uploads/2022/08/2012-02.csv\n",
      "Error:  El archivo no tiene las columnas necesarias\n",
      "Leyendo URL:  https://ecobici.cdmx.gob.mx/wp-content/uploads/2022/08/2012-03.csv\n",
      "Error:  El archivo no tiene las columnas necesarias\n",
      "Leyendo URL:  https://ecobici.cdmx.gob.mx/wp-content/uploads/2022/08/2012-04.csv\n",
      "Error:  El archivo no tiene las columnas necesarias\n",
      "Leyendo URL:  https://ecobici.cdmx.gob.mx/wp-content/uploads/2022/08/2012-05.csv\n",
      "Error:  El archivo no tiene las columnas necesarias\n",
      "Leyendo URL:  https://ecobici.cdmx.gob.mx/wp-content/uploads/2022/08/2012-06.csv\n",
      "Error:  El archivo no tiene las columnas necesarias\n",
      "Leyendo URL:  https://ecobici.cdmx.gob.mx/wp-content/uploads/2022/08/2012-07.csv\n",
      "Error:  El archivo no tiene las columnas necesarias\n",
      "Leyendo URL:  https://ecobici.cdmx.gob.mx/wp-content/uploads/2022/07/2012-08.csv\n",
      "Error:  El archivo no tiene las columnas necesarias\n",
      "Leyendo URL:  https://ecobici.cdmx.gob.mx/wp-content/uploads/2022/07/2012-09.csv\n",
      "Error:  El archivo no tiene las columnas necesarias\n",
      "Leyendo URL:  https://ecobici.cdmx.gob.mx/wp-content/uploads/2022/08/2012-10.csv\n",
      "Error:  El archivo no tiene las columnas necesarias\n",
      "Leyendo URL:  https://ecobici.cdmx.gob.mx/wp-content/uploads/2022/08/2012-11.csv\n",
      "Error:  El archivo no tiene las columnas necesarias\n",
      "Leyendo URL:  https://ecobici.cdmx.gob.mx/wp-content/uploads/2022/08/2012-12.csv\n",
      "Error:  El archivo no tiene las columnas necesarias\n",
      "Leyendo URL:  https://ecobici.cdmx.gob.mx/wp-content/uploads/2022/07/2011-01-ene.csv\n",
      "Error:  El archivo no tiene las columnas necesarias\n",
      "Leyendo URL:  https://ecobici.cdmx.gob.mx/wp-content/uploads/2022/07/2011-02.csv\n",
      "Error:  El archivo no tiene las columnas necesarias\n",
      "Leyendo URL:  https://ecobici.cdmx.gob.mx/wp-content/uploads/2022/09/2011-03.csv\n",
      "Error:  El archivo no tiene las columnas necesarias\n",
      "Leyendo URL:  https://ecobici.cdmx.gob.mx/wp-content/uploads/2022/07/2011-04.csv\n"
     ]
    },
    {
     "name": "stderr",
     "output_type": "stream",
     "text": [
      "/tmp/ipykernel_27631/187427702.py:8: DtypeWarning:\n",
      "\n",
      "Columns (2) have mixed types. Specify dtype option on import or set low_memory=False.\n",
      "\n"
     ]
    },
    {
     "name": "stdout",
     "output_type": "stream",
     "text": [
      "Error:  El archivo no tiene las columnas necesarias\n",
      "Leyendo URL:  https://ecobici.cdmx.gob.mx/wp-content/uploads/2022/07/2011-05.csv\n",
      "Error:  El archivo no tiene las columnas necesarias\n",
      "Leyendo URL:  https://ecobici.cdmx.gob.mx/wp-content/uploads/2022/07/2011-06.csv\n",
      "Error:  El archivo no tiene las columnas necesarias\n",
      "Leyendo URL:  https://ecobici.cdmx.gob.mx/wp-content/uploads/2022/07/2011-07.csv\n",
      "Error:  El archivo no tiene las columnas necesarias\n",
      "Leyendo URL:  https://ecobici.cdmx.gob.mx/wp-content/uploads/2022/07/2011-08.csv\n",
      "Error:  El archivo no tiene las columnas necesarias\n",
      "Leyendo URL:  https://ecobici.cdmx.gob.mx/wp-content/uploads/2022/07/2011-09.csv\n",
      "Error:  El archivo no tiene las columnas necesarias\n",
      "Leyendo URL:  https://ecobici.cdmx.gob.mx/wp-content/uploads/2022/07/2011-10.csv\n",
      "Error:  El archivo no tiene las columnas necesarias\n",
      "Leyendo URL:  https://ecobici.cdmx.gob.mx/wp-content/uploads/2022/07/2011-11.csv\n",
      "Error:  El archivo no tiene las columnas necesarias\n",
      "Leyendo URL:  https://ecobici.cdmx.gob.mx/wp-content/uploads/2022/07/2011-12.csv\n",
      "Error:  El archivo no tiene las columnas necesarias\n",
      "Leyendo URL:  https://ecobici.cdmx.gob.mx/wp-content/uploads/2022/06/2010-02-feb.csv\n",
      "Error:  El archivo no tiene las columnas necesarias\n",
      "Leyendo URL:  https://ecobici.cdmx.gob.mx/wp-content/uploads/2022/06/2010-03-mar.csv\n",
      "Error:  El archivo no tiene las columnas necesarias\n",
      "Leyendo URL:  https://ecobici.cdmx.gob.mx/wp-content/uploads/2022/06/2010-04-abr.csv\n",
      "Error:  El archivo no tiene las columnas necesarias\n",
      "Leyendo URL:  https://ecobici.cdmx.gob.mx/wp-content/uploads/2022/06/2010-05-may.csv\n",
      "Error:  El archivo no tiene las columnas necesarias\n",
      "Leyendo URL:  https://ecobici.cdmx.gob.mx/wp-content/uploads/2022/06/2010-06-jun.csv\n",
      "Error:  El archivo no tiene las columnas necesarias\n",
      "Leyendo URL:  https://ecobici.cdmx.gob.mx/wp-content/uploads/2022/06/2010-07-jul.csv\n",
      "Error:  El archivo no tiene las columnas necesarias\n",
      "Leyendo URL:  https://ecobici.cdmx.gob.mx/wp-content/uploads/2022/06/2010-08-ago.csv\n",
      "Error:  El archivo no tiene las columnas necesarias\n",
      "Leyendo URL:  https://ecobici.cdmx.gob.mx/wp-content/uploads/2022/06/2010-09-sep.csv\n",
      "Error:  El archivo no tiene las columnas necesarias\n",
      "Leyendo URL:  https://ecobici.cdmx.gob.mx/wp-content/uploads/2022/06/2010-10-oct.csv\n",
      "Error:  El archivo no tiene las columnas necesarias\n",
      "Leyendo URL:  https://ecobici.cdmx.gob.mx/wp-content/uploads/2022/06/2010-11-nov.csv\n",
      "Error:  El archivo no tiene las columnas necesarias\n",
      "Leyendo URL:  https://ecobici.cdmx.gob.mx/wp-content/uploads/2022/06/2010-12-dic.csv\n",
      "Error:  El archivo no tiene las columnas necesarias\n"
     ]
    }
   ],
   "source": [
    "# Se realizará un muestreo al 10%\n",
    "dfs_list = []\n",
    "\n",
    "for link in download_links:\n",
    "    print(\"Leyendo URL: \", link)\n",
    "    try:\n",
    "        tmp_df = pd.read_csv(link).sample(frac=0.1)\n",
    "        check_column_names(tmp_df)\n",
    "        dfs_list.append(tmp_df)\n",
    "    except Exception as err:\n",
    "        print(\"Error: \", err)"
   ]
  },
  {
   "cell_type": "code",
   "execution_count": 76,
   "metadata": {},
   "outputs": [
    {
     "data": {
      "text/plain": [
       "(2263197, 9)"
      ]
     },
     "execution_count": 76,
     "metadata": {},
     "output_type": "execute_result"
    }
   ],
   "source": [
    "df = pd.concat(dfs_list)\n",
    "df.shape"
   ]
  },
  {
   "cell_type": "code",
   "execution_count": 77,
   "metadata": {},
   "outputs": [
    {
     "data": {
      "text/html": [
       "<div>\n",
       "<style scoped>\n",
       "    .dataframe tbody tr th:only-of-type {\n",
       "        vertical-align: middle;\n",
       "    }\n",
       "\n",
       "    .dataframe tbody tr th {\n",
       "        vertical-align: top;\n",
       "    }\n",
       "\n",
       "    .dataframe thead th {\n",
       "        text-align: right;\n",
       "    }\n",
       "</style>\n",
       "<table border=\"1\" class=\"dataframe\">\n",
       "  <thead>\n",
       "    <tr style=\"text-align: right;\">\n",
       "      <th></th>\n",
       "      <th>Genero_Usuario</th>\n",
       "      <th>Edad_Usuario</th>\n",
       "      <th>Bici</th>\n",
       "      <th>Ciclo_Estacion_Retiro</th>\n",
       "      <th>Fecha_Retiro</th>\n",
       "      <th>Hora_Retiro</th>\n",
       "      <th>Ciclo_EstacionArribo</th>\n",
       "      <th>Fecha Arribo</th>\n",
       "      <th>Hora_Arribo</th>\n",
       "    </tr>\n",
       "  </thead>\n",
       "  <tbody>\n",
       "    <tr>\n",
       "      <th>276860</th>\n",
       "      <td>M</td>\n",
       "      <td>41.0</td>\n",
       "      <td>2980837</td>\n",
       "      <td>095</td>\n",
       "      <td>08/01/2024</td>\n",
       "      <td>16:32:23</td>\n",
       "      <td>043</td>\n",
       "      <td>08/01/2024</td>\n",
       "      <td>16:47:24</td>\n",
       "    </tr>\n",
       "    <tr>\n",
       "      <th>424698</th>\n",
       "      <td>F</td>\n",
       "      <td>48.0</td>\n",
       "      <td>6944581</td>\n",
       "      <td>294</td>\n",
       "      <td>11/01/2024</td>\n",
       "      <td>08:51:00</td>\n",
       "      <td>301</td>\n",
       "      <td>11/01/2024</td>\n",
       "      <td>09:00:29</td>\n",
       "    </tr>\n",
       "    <tr>\n",
       "      <th>1181678</th>\n",
       "      <td>M</td>\n",
       "      <td>55.0</td>\n",
       "      <td>8498446</td>\n",
       "      <td>146</td>\n",
       "      <td>25/01/2024</td>\n",
       "      <td>10:12:19</td>\n",
       "      <td>068</td>\n",
       "      <td>25/01/2024</td>\n",
       "      <td>10:16:25</td>\n",
       "    </tr>\n",
       "    <tr>\n",
       "      <th>931506</th>\n",
       "      <td>M</td>\n",
       "      <td>18.0</td>\n",
       "      <td>7480627</td>\n",
       "      <td>071</td>\n",
       "      <td>20/01/2024</td>\n",
       "      <td>16:19:17</td>\n",
       "      <td>180</td>\n",
       "      <td>20/01/2024</td>\n",
       "      <td>16:23:48</td>\n",
       "    </tr>\n",
       "    <tr>\n",
       "      <th>1157149</th>\n",
       "      <td>O</td>\n",
       "      <td>26.0</td>\n",
       "      <td>3875895</td>\n",
       "      <td>323</td>\n",
       "      <td>24/01/2024</td>\n",
       "      <td>19:49:27</td>\n",
       "      <td>604</td>\n",
       "      <td>24/01/2024</td>\n",
       "      <td>19:59:40</td>\n",
       "    </tr>\n",
       "  </tbody>\n",
       "</table>\n",
       "</div>"
      ],
      "text/plain": [
       "        Genero_Usuario  Edad_Usuario     Bici Ciclo_Estacion_Retiro  \\\n",
       "276860               M          41.0  2980837                   095   \n",
       "424698               F          48.0  6944581                   294   \n",
       "1181678              M          55.0  8498446                   146   \n",
       "931506               M          18.0  7480627                   071   \n",
       "1157149              O          26.0  3875895                   323   \n",
       "\n",
       "        Fecha_Retiro Hora_Retiro Ciclo_EstacionArribo Fecha Arribo Hora_Arribo  \n",
       "276860    08/01/2024    16:32:23                  043   08/01/2024    16:47:24  \n",
       "424698    11/01/2024    08:51:00                  301   11/01/2024    09:00:29  \n",
       "1181678   25/01/2024    10:12:19                  068   25/01/2024    10:16:25  \n",
       "931506    20/01/2024    16:19:17                  180   20/01/2024    16:23:48  \n",
       "1157149   24/01/2024    19:49:27                  604   24/01/2024    19:59:40  "
      ]
     },
     "execution_count": 77,
     "metadata": {},
     "output_type": "execute_result"
    }
   ],
   "source": [
    "df.head()"
   ]
  },
  {
   "cell_type": "code",
   "execution_count": 78,
   "metadata": {},
   "outputs": [
    {
     "name": "stdout",
     "output_type": "stream",
     "text": [
      "<class 'pandas.core.frame.DataFrame'>\n",
      "Index: 2263197 entries, 276860 to 70474\n",
      "Data columns (total 9 columns):\n",
      " #   Column                 Dtype  \n",
      "---  ------                 -----  \n",
      " 0   Genero_Usuario         object \n",
      " 1   Edad_Usuario           float64\n",
      " 2   Bici                   object \n",
      " 3   Ciclo_Estacion_Retiro  object \n",
      " 4   Fecha_Retiro           object \n",
      " 5   Hora_Retiro            object \n",
      " 6   Ciclo_EstacionArribo   object \n",
      " 7   Fecha Arribo           object \n",
      " 8   Hora_Arribo            object \n",
      "dtypes: float64(1), object(8)\n",
      "memory usage: 172.7+ MB\n"
     ]
    }
   ],
   "source": [
    "df.info()"
   ]
  },
  {
   "cell_type": "markdown",
   "metadata": {},
   "source": [
    "## Limpieza y transformación de datos"
   ]
  },
  {
   "cell_type": "markdown",
   "metadata": {},
   "source": [
    "### Rango de Edades"
   ]
  },
  {
   "cell_type": "code",
   "execution_count": 80,
   "metadata": {},
   "outputs": [],
   "source": [
    "df[\"Edad_Usuario\"] = pd.to_numeric(df[\"Edad_Usuario\"], errors='coerce').fillna(0).astype(int)"
   ]
  },
  {
   "cell_type": "code",
   "execution_count": 81,
   "metadata": {},
   "outputs": [],
   "source": [
    "# Definir los rangos de edades\n",
    "bins = [0, 18, 40, 65, float('inf')] \n",
    "labels = ['0 a 18', '19 a 40', '41 a 65 ', 'mayor a 65']\n",
    "\n",
    "# Crear una nueva columna 'rango_edad' con los rangos de edades\n",
    "df[\"rango_edad\"] = pd.cut(df['Edad_Usuario'], bins=bins, labels=labels, right=False)\n",
    "df[\"rango_edad\"] = df[\"rango_edad\"].astype(str)"
   ]
  },
  {
   "cell_type": "code",
   "execution_count": 106,
   "metadata": {},
   "outputs": [
    {
     "data": {
      "text/plain": [
       "count   1970851.0\n",
       "mean         34.6\n",
       "std          10.0\n",
       "min           0.0\n",
       "25%          28.0\n",
       "50%          32.0\n",
       "75%          40.0\n",
       "max         122.0\n",
       "Name: Edad_Usuario, dtype: float64"
      ]
     },
     "execution_count": 106,
     "metadata": {},
     "output_type": "execute_result"
    }
   ],
   "source": [
    "df[\"Edad_Usuario\"].describe()"
   ]
  },
  {
   "cell_type": "markdown",
   "metadata": {},
   "source": [
    "### Tiempo que los usuarios usan las Ecobici"
   ]
  },
  {
   "cell_type": "code",
   "execution_count": 85,
   "metadata": {},
   "outputs": [],
   "source": [
    "def check_time_format(time_str, format='%d/%m/%Y %H:%M:%S'):\n",
    "    try:\n",
    "        datetime.strptime(str(time_str), format)\n",
    "        return True\n",
    "    except ValueError:\n",
    "        return False\n",
    "    \n",
    "\n",
    "df[\"correct_format_retiro\"] = df[\"str_datetime_retiro\"].apply(lambda row: check_time_format(row))\n",
    "df[\"correct_format_arribo\"] = df[\"str_datetime_arribo\"].apply(lambda row: check_time_format(row))"
   ]
  },
  {
   "cell_type": "code",
   "execution_count": 86,
   "metadata": {},
   "outputs": [
    {
     "data": {
      "text/plain": [
       "correct_format_retiro\n",
       "False     292346\n",
       "True     1970851\n",
       "Name: correct_format_retiro, dtype: int64"
      ]
     },
     "execution_count": 86,
     "metadata": {},
     "output_type": "execute_result"
    }
   ],
   "source": [
    "df.groupby(\"correct_format_retiro\")[\"correct_format_retiro\"].count()"
   ]
  },
  {
   "cell_type": "code",
   "execution_count": 87,
   "metadata": {},
   "outputs": [
    {
     "data": {
      "text/plain": [
       "correct_format_retiro\n",
       "False     292346\n",
       "True     1970851\n",
       "Name: correct_format_arribo, dtype: int64"
      ]
     },
     "execution_count": 87,
     "metadata": {},
     "output_type": "execute_result"
    }
   ],
   "source": [
    "df.groupby(\"correct_format_retiro\")[\"correct_format_arribo\"].count()"
   ]
  },
  {
   "cell_type": "code",
   "execution_count": 89,
   "metadata": {},
   "outputs": [],
   "source": [
    "# Quitando fechas incorrectas\n",
    "df = df[df[\"correct_format_retiro\"] & df[\"correct_format_retiro\"]]"
   ]
  },
  {
   "cell_type": "code",
   "execution_count": 97,
   "metadata": {},
   "outputs": [],
   "source": [
    "df[\"str_datetime_retiro\"] = df[\"Fecha_Retiro\"] + \" \" + df[\"Hora_Retiro\"]\n",
    "df[\"str_datetime_arribo\"] = df[\"Fecha Arribo\"] + \" \" + df[\"Hora_Arribo\"]\n",
    "\n",
    "df[\"datetime_retiro\"] = df[\"str_datetime_retiro\"].apply(lambda row: datetime.strptime(row, \"%d/%m/%Y %H:%M:%S\"))\n",
    "df[\"datetime_arribo\"] = df[\"str_datetime_arribo\"].apply(lambda row: datetime.strptime(row, \"%d/%m/%Y %H:%M:%S\"))\n",
    "\n",
    "def get_usage_time(row):\n",
    "    \"\"\"\"\"\"\n",
    "    return (row[\"datetime_arribo\"] - row[\"datetime_retiro\"]).total_seconds() / 60\n",
    "\n",
    "df[\"tiempo_minutos\"] = df.apply(lambda row: get_usage_time(row), axis=1)"
   ]
  },
  {
   "cell_type": "code",
   "execution_count": 99,
   "metadata": {},
   "outputs": [],
   "source": [
    "pd.options.display.float_format = '{:.1f}'.format"
   ]
  },
  {
   "cell_type": "code",
   "execution_count": 100,
   "metadata": {},
   "outputs": [
    {
     "data": {
      "text/plain": [
       "count   1970851.0\n",
       "mean         80.9\n",
       "std        2308.9\n",
       "min         -58.9\n",
       "25%           7.4\n",
       "50%          12.3\n",
       "75%          20.4\n",
       "max      160026.9\n",
       "Name: tiempo_minutos, dtype: float64"
      ]
     },
     "execution_count": 100,
     "metadata": {},
     "output_type": "execute_result"
    }
   ],
   "source": [
    "df[\"tiempo_minutos\"].describe()"
   ]
  },
  {
   "cell_type": "markdown",
   "metadata": {},
   "source": [
    "#### Análisis de datos y visualización"
   ]
  },
  {
   "cell_type": "code",
   "execution_count": 101,
   "metadata": {},
   "outputs": [
    {
     "data": {
      "text/plain": [
       "Index(['Genero_Usuario', 'Edad_Usuario', 'Bici', 'Ciclo_Estacion_Retiro',\n",
       "       'Fecha_Retiro', 'Hora_Retiro', 'Ciclo_EstacionArribo', 'Fecha Arribo',\n",
       "       'Hora_Arribo', 'rango_edad', 'str_datetime_retiro',\n",
       "       'str_datetime_arribo', 'correct_format_retiro', 'correct_format_arribo',\n",
       "       'datetime_retiro', 'datetime_arribo', 'tiempo_minutos'],\n",
       "      dtype='object')"
      ]
     },
     "execution_count": 101,
     "metadata": {},
     "output_type": "execute_result"
    }
   ],
   "source": [
    "df.columns"
   ]
  },
  {
   "cell_type": "code",
   "execution_count": 107,
   "metadata": {},
   "outputs": [],
   "source": [
    "continuous_variables = [\n",
    "    \"tiempo_minutos\",\n",
    "    # NOTE: Aunque la edad del usuario no es una variable continua,\n",
    "    # considero que el histograma ayuda a explorar esta variable de una \n",
    "    # manera visual\n",
    "    \"Edad_Usuario\"\n",
    "]\n",
    "\n",
    "discrete_variables = [\n",
    "    \"Genero_Usuario\",\n",
    "    \"rango_edad\"\n",
    "]"
   ]
  },
  {
   "cell_type": "code",
   "execution_count": 108,
   "metadata": {},
   "outputs": [],
   "source": [
    "# Tratamiento de outliers para mejorar la visualización\n",
    "df = remove_outliers_iqr(df, 'tiempo_minutos')"
   ]
  },
  {
   "cell_type": "code",
   "execution_count": 109,
   "metadata": {},
   "outputs": [
    {
     "data": {
      "text/plain": [
       "array([[<Axes: title={'center': 'tiempo_minutos'}>,\n",
       "        <Axes: title={'center': 'Edad_Usuario'}>]], dtype=object)"
      ]
     },
     "execution_count": 109,
     "metadata": {},
     "output_type": "execute_result"
    },
    {
     "data": {
      "image/png": "[encoded data removed]",
      "text/plain": [
       "<Figure size 2500x2000 with 2 Axes>"
      ]
     },
     "metadata": {},
     "output_type": "display_data"
    }
   ],
   "source": [
    "hist(df, continuous_variables)"
   ]
  },
  {
   "cell_type": "code",
   "execution_count": 110,
   "metadata": {},
   "outputs": [
    {
     "data": {
      "image/png": "[encoded data removed]",
      "text/plain": [
       "<Figure size 1500x500 with 2 Axes>"
      ]
     },
     "metadata": {},
     "output_type": "display_data"
    },
    {
     "data": {
      "image/png": "[encoded data removed]",
      "text/plain": [
       "<Figure size 1500x500 with 2 Axes>"
      ]
     },
     "metadata": {},
     "output_type": "display_data"
    }
   ],
   "source": [
    "discrete_dict = {\n",
    "    \"Genero_Usuario\": \"Distribución de los usuarios por género\",\n",
    "    \"rango_edad\": \"Distribución de los usuarios por rango de edad\",\n",
    "}\n",
    "\n",
    "for n, (column, title) in enumerate(discrete_dict.items(), 1):\n",
    "    fig, axs = plt.subplots(1, 2, figsize=(15, 5))\n",
    "    sns.barplot(df.groupby(column)[column].count(), ax=axs[0]).set_title(title)\n",
    "    df.groupby(column).size().plot(kind='pie', autopct='%.2f',  ax=axs[1])\n",
    "    plt.tight_layout()\n",
    "    plt.show()"
   ]
  },
  {
   "cell_type": "markdown",
   "metadata": {},
   "source": [
    "La edad promedio de los usuarios es de 34.6 años, por lo que, por lo que es popular entre adultos jóvenes o de mediana edad. Con una desviación estándar de 10 años, los datos se encuentran relativamente concentrados. Aunque el rango de edad abarco de 0 a 18 años, no hay ususarios con estas edad, puede que se deba a que es un requisito ser mayor de edad. \n",
    "\n",
    "La mayoría de los usarios (75%) tienen menos de 40 años. \n",
    "\n",
    "La duración promedio de los viajes es de 81 minutos. La mayoría de viajes dura 20 min (75% de los viajes), por lo que podemos decir que el servicio es popular para viajes de corta o mediana duración. \n",
    "\n",
    "Con una desviación estándar de 2,308 minutos, hay una gran variabilidad en la duración de los viajes, que sería interesante analizar con cuestiones de tráfico, distancia recorrida o el tiempo que el usuario mantiene una bici bajo su cargo. \n",
    "\n",
    "Con datos negativos en el timpo de recorridos, habría que revisar la calidad de la información. Incluso fue necesario quitar algunos registros con error en el formato de fecha o tratarlo de otra manera, como una imputación de datos, para conservar los registros, principalmente los de edad.\n",
    "\n",
    "En siguientes iteraciones se deberían analizar a profundidad los archivos, para corroborar los nombres de las columnas y si todos los años contienen las mismas variables.\n",
    "\n",
    "\n"
   ]
  }
 ],
 "metadata": {
  "kernelspec": {
   "display_name": "Python 3",
   "language": "python",
   "name": "python3"
  },
  "language_info": {
   "codemirror_mode": {
    "name": "ipython",
    "version": 3
   },
   "file_extension": ".py",
   "mimetype": "text/x-python",
   "name": "python",
   "nbconvert_exporter": "python",
   "pygments_lexer": "ipython3",
   "version": "3.10.11"
  }
 },
 "nbformat": 4,
 "nbformat_minor": 2
}
