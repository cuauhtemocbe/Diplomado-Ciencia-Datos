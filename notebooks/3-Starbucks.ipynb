{
 "cells": [
  {
   "cell_type": "markdown",
   "metadata": {},
   "source": [
    "# Starbucks"
   ]
  },
  {
   "cell_type": "code",
   "execution_count": 1,
   "metadata": {},
   "outputs": [],
   "source": [
    "import pandas as pd\n",
    "import seaborn as sns\n",
    "from scipy.stats import kstest\n",
    "import numpy as np\n",
    "from scipy.stats import zscore\n",
    "import dash\n",
    "from dash import dcc, html, Input, Output\n",
    "import plotly.express as px\n",
    "# Configuración de seaborn\n",
    "custom_params = {\"axes.spines.right\": False, \"axes.spines.top\": False}\n",
    "sns.set_theme(style=\"ticks\", rc=custom_params)"
   ]
  },
  {
   "cell_type": "markdown",
   "metadata": {},
   "source": [
    "## Carga y preparación de Datos\n",
    "### 1. Carga de los archivos de Starbucks"
   ]
  },
  {
   "cell_type": "code",
   "execution_count": 2,
   "metadata": {},
   "outputs": [
    {
     "data": {
      "text/html": [
       "<div>\n",
       "<style scoped>\n",
       "    .dataframe tbody tr th:only-of-type {\n",
       "        vertical-align: middle;\n",
       "    }\n",
       "\n",
       "    .dataframe tbody tr th {\n",
       "        vertical-align: top;\n",
       "    }\n",
       "\n",
       "    .dataframe thead th {\n",
       "        text-align: right;\n",
       "    }\n",
       "</style>\n",
       "<table border=\"1\" class=\"dataframe\">\n",
       "  <thead>\n",
       "    <tr style=\"text-align: right;\">\n",
       "      <th></th>\n",
       "      <th>reward</th>\n",
       "      <th>channels</th>\n",
       "      <th>difficulty</th>\n",
       "      <th>duration</th>\n",
       "      <th>offer_type</th>\n",
       "      <th>id</th>\n",
       "    </tr>\n",
       "  </thead>\n",
       "  <tbody>\n",
       "    <tr>\n",
       "      <th>0</th>\n",
       "      <td>10</td>\n",
       "      <td>[email, mobile, social]</td>\n",
       "      <td>10</td>\n",
       "      <td>7</td>\n",
       "      <td>bogo</td>\n",
       "      <td>ae264e3637204a6fb9bb56bc8210ddfd</td>\n",
       "    </tr>\n",
       "    <tr>\n",
       "      <th>1</th>\n",
       "      <td>10</td>\n",
       "      <td>[web, email, mobile, social]</td>\n",
       "      <td>10</td>\n",
       "      <td>5</td>\n",
       "      <td>bogo</td>\n",
       "      <td>4d5c57ea9a6940dd891ad53e9dbe8da0</td>\n",
       "    </tr>\n",
       "    <tr>\n",
       "      <th>2</th>\n",
       "      <td>0</td>\n",
       "      <td>[web, email, mobile]</td>\n",
       "      <td>0</td>\n",
       "      <td>4</td>\n",
       "      <td>informational</td>\n",
       "      <td>3f207df678b143eea3cee63160fa8bed</td>\n",
       "    </tr>\n",
       "  </tbody>\n",
       "</table>\n",
       "</div>"
      ],
      "text/plain": [
       "   reward                      channels  difficulty  duration     offer_type  \\\n",
       "0      10       [email, mobile, social]          10         7           bogo   \n",
       "1      10  [web, email, mobile, social]          10         5           bogo   \n",
       "2       0          [web, email, mobile]           0         4  informational   \n",
       "\n",
       "                                 id  \n",
       "0  ae264e3637204a6fb9bb56bc8210ddfd  \n",
       "1  4d5c57ea9a6940dd891ad53e9dbe8da0  \n",
       "2  3f207df678b143eea3cee63160fa8bed  "
      ]
     },
     "execution_count": 2,
     "metadata": {},
     "output_type": "execute_result"
    }
   ],
   "source": [
    "filename = \"../data/Starbucks/portfolio.json\"\n",
    "portfolio_df = pd.read_json(filename, lines=True, orient=\"records\")\n",
    "\n",
    "portfolio_df.head(3)"
   ]
  },
  {
   "cell_type": "code",
   "execution_count": 3,
   "metadata": {},
   "outputs": [
    {
     "data": {
      "text/html": [
       "<div>\n",
       "<style scoped>\n",
       "    .dataframe tbody tr th:only-of-type {\n",
       "        vertical-align: middle;\n",
       "    }\n",
       "\n",
       "    .dataframe tbody tr th {\n",
       "        vertical-align: top;\n",
       "    }\n",
       "\n",
       "    .dataframe thead th {\n",
       "        text-align: right;\n",
       "    }\n",
       "</style>\n",
       "<table border=\"1\" class=\"dataframe\">\n",
       "  <thead>\n",
       "    <tr style=\"text-align: right;\">\n",
       "      <th></th>\n",
       "      <th>gender</th>\n",
       "      <th>age</th>\n",
       "      <th>id</th>\n",
       "      <th>became_member_on</th>\n",
       "      <th>income</th>\n",
       "    </tr>\n",
       "  </thead>\n",
       "  <tbody>\n",
       "    <tr>\n",
       "      <th>0</th>\n",
       "      <td>None</td>\n",
       "      <td>118</td>\n",
       "      <td>68be06ca386d4c31939f3a4f0e3dd783</td>\n",
       "      <td>20170212</td>\n",
       "      <td>NaN</td>\n",
       "    </tr>\n",
       "    <tr>\n",
       "      <th>1</th>\n",
       "      <td>F</td>\n",
       "      <td>55</td>\n",
       "      <td>0610b486422d4921ae7d2bf64640c50b</td>\n",
       "      <td>20170715</td>\n",
       "      <td>112000.0</td>\n",
       "    </tr>\n",
       "    <tr>\n",
       "      <th>2</th>\n",
       "      <td>None</td>\n",
       "      <td>118</td>\n",
       "      <td>38fe809add3b4fcf9315a9694bb96ff5</td>\n",
       "      <td>20180712</td>\n",
       "      <td>NaN</td>\n",
       "    </tr>\n",
       "  </tbody>\n",
       "</table>\n",
       "</div>"
      ],
      "text/plain": [
       "  gender  age                                id  became_member_on    income\n",
       "0   None  118  68be06ca386d4c31939f3a4f0e3dd783          20170212       NaN\n",
       "1      F   55  0610b486422d4921ae7d2bf64640c50b          20170715  112000.0\n",
       "2   None  118  38fe809add3b4fcf9315a9694bb96ff5          20180712       NaN"
      ]
     },
     "execution_count": 3,
     "metadata": {},
     "output_type": "execute_result"
    }
   ],
   "source": [
    "filename = \"../data/Starbucks/profile.json\"\n",
    "profile_df = pd.read_json(filename, lines=True, orient=\"records\")\n",
    "\n",
    "profile_df.head(3)"
   ]
  },
  {
   "cell_type": "code",
   "execution_count": 4,
   "metadata": {},
   "outputs": [
    {
     "data": {
      "text/html": [
       "<div>\n",
       "<style scoped>\n",
       "    .dataframe tbody tr th:only-of-type {\n",
       "        vertical-align: middle;\n",
       "    }\n",
       "\n",
       "    .dataframe tbody tr th {\n",
       "        vertical-align: top;\n",
       "    }\n",
       "\n",
       "    .dataframe thead th {\n",
       "        text-align: right;\n",
       "    }\n",
       "</style>\n",
       "<table border=\"1\" class=\"dataframe\">\n",
       "  <thead>\n",
       "    <tr style=\"text-align: right;\">\n",
       "      <th></th>\n",
       "      <th>person</th>\n",
       "      <th>event</th>\n",
       "      <th>value</th>\n",
       "      <th>time</th>\n",
       "    </tr>\n",
       "  </thead>\n",
       "  <tbody>\n",
       "    <tr>\n",
       "      <th>0</th>\n",
       "      <td>78afa995795e4d85b5d9ceeca43f5fef</td>\n",
       "      <td>offer received</td>\n",
       "      <td>{'offer id': '9b98b8c7a33c4b65b9aebfe6a799e6d9'}</td>\n",
       "      <td>0</td>\n",
       "    </tr>\n",
       "    <tr>\n",
       "      <th>1</th>\n",
       "      <td>a03223e636434f42ac4c3df47e8bac43</td>\n",
       "      <td>offer received</td>\n",
       "      <td>{'offer id': '0b1e1539f2cc45b7b9fa7c272da2e1d7'}</td>\n",
       "      <td>0</td>\n",
       "    </tr>\n",
       "    <tr>\n",
       "      <th>2</th>\n",
       "      <td>e2127556f4f64592b11af22de27a7932</td>\n",
       "      <td>offer received</td>\n",
       "      <td>{'offer id': '2906b810c7d4411798c6938adc9daaa5'}</td>\n",
       "      <td>0</td>\n",
       "    </tr>\n",
       "  </tbody>\n",
       "</table>\n",
       "</div>"
      ],
      "text/plain": [
       "                             person           event  \\\n",
       "0  78afa995795e4d85b5d9ceeca43f5fef  offer received   \n",
       "1  a03223e636434f42ac4c3df47e8bac43  offer received   \n",
       "2  e2127556f4f64592b11af22de27a7932  offer received   \n",
       "\n",
       "                                              value  time  \n",
       "0  {'offer id': '9b98b8c7a33c4b65b9aebfe6a799e6d9'}     0  \n",
       "1  {'offer id': '0b1e1539f2cc45b7b9fa7c272da2e1d7'}     0  \n",
       "2  {'offer id': '2906b810c7d4411798c6938adc9daaa5'}     0  "
      ]
     },
     "execution_count": 4,
     "metadata": {},
     "output_type": "execute_result"
    }
   ],
   "source": [
    "filename = \"../data/Starbucks/transcript.json\"\n",
    "transcript_df = pd.read_json(filename, lines=True, orient=\"records\")\n",
    "\n",
    "transcript_df.head(3)"
   ]
  },
  {
   "cell_type": "markdown",
   "metadata": {},
   "source": [
    "### 2. Análisis de Edad"
   ]
  },
  {
   "cell_type": "code",
   "execution_count": 5,
   "metadata": {},
   "outputs": [
    {
     "data": {
      "text/plain": [
       "<Axes: xlabel='age', ylabel='Count'>"
      ]
     },
     "execution_count": 5,
     "metadata": {},
     "output_type": "execute_result"
    },
    {
     "data": {
      "image/png": "[encoded data removed]",
      "text/plain": [
       "<Figure size 640x480 with 1 Axes>"
      ]
     },
     "metadata": {},
     "output_type": "display_data"
    }
   ],
   "source": [
    "sns.histplot(data=profile_df, x=\"age\")"
   ]
  },
  {
   "cell_type": "code",
   "execution_count": 6,
   "metadata": {},
   "outputs": [
    {
     "data": {
      "text/plain": [
       "count    17000.000000\n",
       "mean        62.531412\n",
       "std         26.738580\n",
       "min         18.000000\n",
       "25%         45.000000\n",
       "50%         58.000000\n",
       "75%         73.000000\n",
       "max        118.000000\n",
       "Name: age, dtype: float64"
      ]
     },
     "execution_count": 6,
     "metadata": {},
     "output_type": "execute_result"
    }
   ],
   "source": [
    "profile_df[\"age\"].describe()"
   ]
  },
  {
   "cell_type": "code",
   "execution_count": 7,
   "metadata": {},
   "outputs": [
    {
     "name": "stdout",
     "output_type": "stream",
     "text": [
      "Estadística de prueba: 1.0\n",
      "Valor p: 0.0\n",
      "Los datos no parecen ser normales (se rechaza la hipótesis nula)\n"
     ]
    }
   ],
   "source": [
    "# Prueba de normalidad\n",
    "\n",
    "stat, p = kstest(profile_df[\"age\"], 'norm')\n",
    "\n",
    "print('Estadística de prueba:', stat)\n",
    "print('Valor p:', p)\n",
    "\n",
    "# Interpretar el resultado\n",
    "alpha = 0.05\n",
    "if p > alpha:\n",
    "    print('Los datos parecen ser normales (no se puede rechazar la hipótesis nula)')\n",
    "else:\n",
    "    print('Los datos no parecen ser normales (se rechaza la hipótesis nula)')"
   ]
  },
  {
   "cell_type": "markdown",
   "metadata": {},
   "source": [
    "### 3. Conversión de fecha"
   ]
  },
  {
   "cell_type": "code",
   "execution_count": 8,
   "metadata": {},
   "outputs": [
    {
     "data": {
      "text/html": [
       "<div>\n",
       "<style scoped>\n",
       "    .dataframe tbody tr th:only-of-type {\n",
       "        vertical-align: middle;\n",
       "    }\n",
       "\n",
       "    .dataframe tbody tr th {\n",
       "        vertical-align: top;\n",
       "    }\n",
       "\n",
       "    .dataframe thead th {\n",
       "        text-align: right;\n",
       "    }\n",
       "</style>\n",
       "<table border=\"1\" class=\"dataframe\">\n",
       "  <thead>\n",
       "    <tr style=\"text-align: right;\">\n",
       "      <th></th>\n",
       "      <th>gender</th>\n",
       "      <th>age</th>\n",
       "      <th>id</th>\n",
       "      <th>became_member_on</th>\n",
       "      <th>income</th>\n",
       "      <th>became_member_on_converted</th>\n",
       "    </tr>\n",
       "  </thead>\n",
       "  <tbody>\n",
       "    <tr>\n",
       "      <th>0</th>\n",
       "      <td>None</td>\n",
       "      <td>118</td>\n",
       "      <td>68be06ca386d4c31939f3a4f0e3dd783</td>\n",
       "      <td>20170212</td>\n",
       "      <td>NaN</td>\n",
       "      <td>2017-02-12</td>\n",
       "    </tr>\n",
       "    <tr>\n",
       "      <th>1</th>\n",
       "      <td>F</td>\n",
       "      <td>55</td>\n",
       "      <td>0610b486422d4921ae7d2bf64640c50b</td>\n",
       "      <td>20170715</td>\n",
       "      <td>112000.0</td>\n",
       "      <td>2017-07-15</td>\n",
       "    </tr>\n",
       "    <tr>\n",
       "      <th>2</th>\n",
       "      <td>None</td>\n",
       "      <td>118</td>\n",
       "      <td>38fe809add3b4fcf9315a9694bb96ff5</td>\n",
       "      <td>20180712</td>\n",
       "      <td>NaN</td>\n",
       "      <td>2018-07-12</td>\n",
       "    </tr>\n",
       "  </tbody>\n",
       "</table>\n",
       "</div>"
      ],
      "text/plain": [
       "  gender  age                                id  became_member_on    income  \\\n",
       "0   None  118  68be06ca386d4c31939f3a4f0e3dd783          20170212       NaN   \n",
       "1      F   55  0610b486422d4921ae7d2bf64640c50b          20170715  112000.0   \n",
       "2   None  118  38fe809add3b4fcf9315a9694bb96ff5          20180712       NaN   \n",
       "\n",
       "  became_member_on_converted  \n",
       "0                 2017-02-12  \n",
       "1                 2017-07-15  \n",
       "2                 2018-07-12  "
      ]
     },
     "execution_count": 8,
     "metadata": {},
     "output_type": "execute_result"
    }
   ],
   "source": [
    "profile_df[\"became_member_on_converted\"] = pd.to_datetime(profile_df[\"became_member_on\"], format='%Y%m%d')\n",
    "profile_df.head(3)"
   ]
  },
  {
   "cell_type": "markdown",
   "metadata": {},
   "source": [
    "### 4. Tratamiento de valores nulos"
   ]
  },
  {
   "cell_type": "code",
   "execution_count": 9,
   "metadata": {},
   "outputs": [
    {
     "data": {
      "text/html": [
       "<div>\n",
       "<style scoped>\n",
       "    .dataframe tbody tr th:only-of-type {\n",
       "        vertical-align: middle;\n",
       "    }\n",
       "\n",
       "    .dataframe tbody tr th {\n",
       "        vertical-align: top;\n",
       "    }\n",
       "\n",
       "    .dataframe thead th {\n",
       "        text-align: right;\n",
       "    }\n",
       "</style>\n",
       "<table border=\"1\" class=\"dataframe\">\n",
       "  <thead>\n",
       "    <tr style=\"text-align: right;\">\n",
       "      <th></th>\n",
       "      <th>gender</th>\n",
       "      <th>age</th>\n",
       "      <th>id</th>\n",
       "      <th>became_member_on</th>\n",
       "      <th>income</th>\n",
       "      <th>became_member_on_converted</th>\n",
       "      <th>gender_filled</th>\n",
       "    </tr>\n",
       "  </thead>\n",
       "  <tbody>\n",
       "    <tr>\n",
       "      <th>0</th>\n",
       "      <td>Missing</td>\n",
       "      <td>118</td>\n",
       "      <td>68be06ca386d4c31939f3a4f0e3dd783</td>\n",
       "      <td>20170212</td>\n",
       "      <td>NaN</td>\n",
       "      <td>2017-02-12</td>\n",
       "      <td>M</td>\n",
       "    </tr>\n",
       "    <tr>\n",
       "      <th>1</th>\n",
       "      <td>F</td>\n",
       "      <td>55</td>\n",
       "      <td>0610b486422d4921ae7d2bf64640c50b</td>\n",
       "      <td>20170715</td>\n",
       "      <td>112000.0</td>\n",
       "      <td>2017-07-15</td>\n",
       "      <td>F</td>\n",
       "    </tr>\n",
       "    <tr>\n",
       "      <th>2</th>\n",
       "      <td>Missing</td>\n",
       "      <td>118</td>\n",
       "      <td>38fe809add3b4fcf9315a9694bb96ff5</td>\n",
       "      <td>20180712</td>\n",
       "      <td>NaN</td>\n",
       "      <td>2018-07-12</td>\n",
       "      <td>M</td>\n",
       "    </tr>\n",
       "  </tbody>\n",
       "</table>\n",
       "</div>"
      ],
      "text/plain": [
       "    gender  age                                id  became_member_on    income  \\\n",
       "0  Missing  118  68be06ca386d4c31939f3a4f0e3dd783          20170212       NaN   \n",
       "1        F   55  0610b486422d4921ae7d2bf64640c50b          20170715  112000.0   \n",
       "2  Missing  118  38fe809add3b4fcf9315a9694bb96ff5          20180712       NaN   \n",
       "\n",
       "  became_member_on_converted gender_filled  \n",
       "0                 2017-02-12             M  \n",
       "1                 2017-07-15             F  \n",
       "2                 2018-07-12             M  "
      ]
     },
     "execution_count": 9,
     "metadata": {},
     "output_type": "execute_result"
    }
   ],
   "source": [
    "gender_mode = profile_df[\"gender\"].mode()[0]\n",
    "\n",
    "profile_df.loc[profile_df[\"gender\"].isnull(), \"gender\"] = \"Missing\"\n",
    "profile_df[\"gender_filled\"] = profile_df[\"gender\"]\n",
    "profile_df.loc[profile_df[\"gender\"] == \"Missing\", \"gender_filled\"] = gender_mode\n",
    "\n",
    "profile_df.head(3)"
   ]
  },
  {
   "cell_type": "markdown",
   "metadata": {},
   "source": [
    "### 5. Filtrado de Edades"
   ]
  },
  {
   "cell_type": "code",
   "execution_count": 10,
   "metadata": {},
   "outputs": [
    {
     "name": "stdout",
     "output_type": "stream",
     "text": [
      "Tamaño inicial:  17000\n",
      "Tamaño después del filtrado:  14820\n"
     ]
    }
   ],
   "source": [
    "print(\"Tamaño inicial: \", len(profile_df))\n",
    "profile_df = profile_df[profile_df[\"age\"] <= 100]\n",
    "print(\"Tamaño después del filtrado: \", len(profile_df))"
   ]
  },
  {
   "cell_type": "markdown",
   "metadata": {},
   "source": [
    "### 6. Subconjunto de Transacciones"
   ]
  },
  {
   "cell_type": "code",
   "execution_count": 11,
   "metadata": {},
   "outputs": [
    {
     "name": "stdout",
     "output_type": "stream",
     "text": [
      "Tamaño inicial:  306534\n",
      "Tamaño después del filtrado:  138953\n"
     ]
    }
   ],
   "source": [
    "print(\"Tamaño inicial: \", len(transcript_df))\n",
    "transactions_df = transcript_df[transcript_df[\"event\"] == \"transaction\"]\n",
    "print(\"Tamaño después del filtrado: \", len(transactions_df))"
   ]
  },
  {
   "cell_type": "code",
   "execution_count": 12,
   "metadata": {},
   "outputs": [
    {
     "name": "stderr",
     "output_type": "stream",
     "text": [
      "/tmp/ipykernel_2714/3602024779.py:1: SettingWithCopyWarning: \n",
      "A value is trying to be set on a copy of a slice from a DataFrame.\n",
      "Try using .loc[row_indexer,col_indexer] = value instead\n",
      "\n",
      "See the caveats in the documentation: https://pandas.pydata.org/pandas-docs/stable/user_guide/indexing.html#returning-a-view-versus-a-copy\n",
      "  transactions_df[\"amount\"] = transactions_df['value'].apply(lambda row: row['amount'])\n"
     ]
    },
    {
     "data": {
      "text/html": [
       "<div>\n",
       "<style scoped>\n",
       "    .dataframe tbody tr th:only-of-type {\n",
       "        vertical-align: middle;\n",
       "    }\n",
       "\n",
       "    .dataframe tbody tr th {\n",
       "        vertical-align: top;\n",
       "    }\n",
       "\n",
       "    .dataframe thead th {\n",
       "        text-align: right;\n",
       "    }\n",
       "</style>\n",
       "<table border=\"1\" class=\"dataframe\">\n",
       "  <thead>\n",
       "    <tr style=\"text-align: right;\">\n",
       "      <th></th>\n",
       "      <th>person</th>\n",
       "      <th>event</th>\n",
       "      <th>value</th>\n",
       "      <th>time</th>\n",
       "      <th>amount</th>\n",
       "    </tr>\n",
       "  </thead>\n",
       "  <tbody>\n",
       "    <tr>\n",
       "      <th>12654</th>\n",
       "      <td>02c083884c7d45b39cc68e1314fec56c</td>\n",
       "      <td>transaction</td>\n",
       "      <td>{'amount': 0.8300000000000001}</td>\n",
       "      <td>0</td>\n",
       "      <td>0.83</td>\n",
       "    </tr>\n",
       "    <tr>\n",
       "      <th>12657</th>\n",
       "      <td>9fa9ae8f57894cc9a3b8a9bbe0fc1b2f</td>\n",
       "      <td>transaction</td>\n",
       "      <td>{'amount': 34.56}</td>\n",
       "      <td>0</td>\n",
       "      <td>34.56</td>\n",
       "    </tr>\n",
       "    <tr>\n",
       "      <th>12659</th>\n",
       "      <td>54890f68699049c2a04d415abc25e717</td>\n",
       "      <td>transaction</td>\n",
       "      <td>{'amount': 13.23}</td>\n",
       "      <td>0</td>\n",
       "      <td>13.23</td>\n",
       "    </tr>\n",
       "  </tbody>\n",
       "</table>\n",
       "</div>"
      ],
      "text/plain": [
       "                                 person        event  \\\n",
       "12654  02c083884c7d45b39cc68e1314fec56c  transaction   \n",
       "12657  9fa9ae8f57894cc9a3b8a9bbe0fc1b2f  transaction   \n",
       "12659  54890f68699049c2a04d415abc25e717  transaction   \n",
       "\n",
       "                                value  time  amount  \n",
       "12654  {'amount': 0.8300000000000001}     0    0.83  \n",
       "12657               {'amount': 34.56}     0   34.56  \n",
       "12659               {'amount': 13.23}     0   13.23  "
      ]
     },
     "execution_count": 12,
     "metadata": {},
     "output_type": "execute_result"
    }
   ],
   "source": [
    "transactions_df[\"amount\"] = transactions_df['value'].apply(lambda row: row['amount'])\n",
    "transactions_df.head(3)"
   ]
  },
  {
   "cell_type": "markdown",
   "metadata": {},
   "source": [
    "## Agrupación y análisis de Transacciones\n",
    "### 1. Agrupación por personas"
   ]
  },
  {
   "cell_type": "code",
   "execution_count": 13,
   "metadata": {},
   "outputs": [
    {
     "data": {
      "text/html": [
       "<div>\n",
       "<style scoped>\n",
       "    .dataframe tbody tr th:only-of-type {\n",
       "        vertical-align: middle;\n",
       "    }\n",
       "\n",
       "    .dataframe tbody tr th {\n",
       "        vertical-align: top;\n",
       "    }\n",
       "\n",
       "    .dataframe thead th {\n",
       "        text-align: right;\n",
       "    }\n",
       "</style>\n",
       "<table border=\"1\" class=\"dataframe\">\n",
       "  <thead>\n",
       "    <tr style=\"text-align: right;\">\n",
       "      <th></th>\n",
       "      <th>person</th>\n",
       "      <th>min_amount</th>\n",
       "      <th>max_amount</th>\n",
       "      <th>mean_amount</th>\n",
       "    </tr>\n",
       "  </thead>\n",
       "  <tbody>\n",
       "    <tr>\n",
       "      <th>0</th>\n",
       "      <td>0009655768c64bdeb2e877511632db8f</td>\n",
       "      <td>8.57</td>\n",
       "      <td>28.16</td>\n",
       "      <td>15.950000</td>\n",
       "    </tr>\n",
       "    <tr>\n",
       "      <th>1</th>\n",
       "      <td>00116118485d4dfda04fdbaba9a87b5c</td>\n",
       "      <td>0.20</td>\n",
       "      <td>3.19</td>\n",
       "      <td>1.363333</td>\n",
       "    </tr>\n",
       "    <tr>\n",
       "      <th>2</th>\n",
       "      <td>0011e0d4e6b944f998e987f904e8c1e5</td>\n",
       "      <td>8.96</td>\n",
       "      <td>23.03</td>\n",
       "      <td>15.892000</td>\n",
       "    </tr>\n",
       "  </tbody>\n",
       "</table>\n",
       "</div>"
      ],
      "text/plain": [
       "                             person  min_amount  max_amount  mean_amount\n",
       "0  0009655768c64bdeb2e877511632db8f        8.57       28.16    15.950000\n",
       "1  00116118485d4dfda04fdbaba9a87b5c        0.20        3.19     1.363333\n",
       "2  0011e0d4e6b944f998e987f904e8c1e5        8.96       23.03    15.892000"
      ]
     },
     "execution_count": 13,
     "metadata": {},
     "output_type": "execute_result"
    }
   ],
   "source": [
    "transactions_amount_grouped_df = (\n",
    "    transactions_df\n",
    "        .groupby(\"person\")[\"amount\"]\n",
    "        .agg(['min', 'max', 'mean'])\n",
    "        .reset_index()\n",
    "        .rename(columns={\n",
    "            \"min\": \"min_amount\",\n",
    "            \"max\": \"max_amount\",\n",
    "            \"mean\": \"mean_amount\"\n",
    "            })\n",
    ")\n",
    "\n",
    "transactions_amount_grouped_df.head(3)"
   ]
  },
  {
   "cell_type": "code",
   "execution_count": 14,
   "metadata": {},
   "outputs": [
    {
     "data": {
      "text/html": [
       "<div>\n",
       "<style scoped>\n",
       "    .dataframe tbody tr th:only-of-type {\n",
       "        vertical-align: middle;\n",
       "    }\n",
       "\n",
       "    .dataframe tbody tr th {\n",
       "        vertical-align: top;\n",
       "    }\n",
       "\n",
       "    .dataframe thead th {\n",
       "        text-align: right;\n",
       "    }\n",
       "</style>\n",
       "<table border=\"1\" class=\"dataframe\">\n",
       "  <thead>\n",
       "    <tr style=\"text-align: right;\">\n",
       "      <th></th>\n",
       "      <th>person</th>\n",
       "      <th>count_time</th>\n",
       "      <th>sum_time</th>\n",
       "      <th>mean_time</th>\n",
       "    </tr>\n",
       "  </thead>\n",
       "  <tbody>\n",
       "    <tr>\n",
       "      <th>0</th>\n",
       "      <td>0009655768c64bdeb2e877511632db8f</td>\n",
       "      <td>8</td>\n",
       "      <td>4344</td>\n",
       "      <td>543.0</td>\n",
       "    </tr>\n",
       "    <tr>\n",
       "      <th>1</th>\n",
       "      <td>00116118485d4dfda04fdbaba9a87b5c</td>\n",
       "      <td>3</td>\n",
       "      <td>1224</td>\n",
       "      <td>408.0</td>\n",
       "    </tr>\n",
       "    <tr>\n",
       "      <th>2</th>\n",
       "      <td>0011e0d4e6b944f998e987f904e8c1e5</td>\n",
       "      <td>5</td>\n",
       "      <td>2256</td>\n",
       "      <td>451.2</td>\n",
       "    </tr>\n",
       "  </tbody>\n",
       "</table>\n",
       "</div>"
      ],
      "text/plain": [
       "                             person  count_time  sum_time  mean_time\n",
       "0  0009655768c64bdeb2e877511632db8f           8      4344      543.0\n",
       "1  00116118485d4dfda04fdbaba9a87b5c           3      1224      408.0\n",
       "2  0011e0d4e6b944f998e987f904e8c1e5           5      2256      451.2"
      ]
     },
     "execution_count": 14,
     "metadata": {},
     "output_type": "execute_result"
    }
   ],
   "source": [
    "# Time\n",
    "transactions_time_grouped_df = (\n",
    "    transactions_df\n",
    "        .groupby(\"person\")[\"time\"]\n",
    "        .agg(['count', 'sum', 'mean'])\n",
    "        .reset_index()\n",
    "        .rename(columns={\n",
    "            \"count\": \"count_time\",\n",
    "            \"sum\": \"sum_time\",\n",
    "            \"mean\": \"mean_time\"\n",
    "            })\n",
    ")\n",
    "transactions_time_grouped_df.head(3)"
   ]
  },
  {
   "cell_type": "code",
   "execution_count": 15,
   "metadata": {},
   "outputs": [
    {
     "data": {
      "text/html": [
       "<div>\n",
       "<style scoped>\n",
       "    .dataframe tbody tr th:only-of-type {\n",
       "        vertical-align: middle;\n",
       "    }\n",
       "\n",
       "    .dataframe tbody tr th {\n",
       "        vertical-align: top;\n",
       "    }\n",
       "\n",
       "    .dataframe thead th {\n",
       "        text-align: right;\n",
       "    }\n",
       "</style>\n",
       "<table border=\"1\" class=\"dataframe\">\n",
       "  <thead>\n",
       "    <tr style=\"text-align: right;\">\n",
       "      <th></th>\n",
       "      <th>person</th>\n",
       "      <th>min_amount</th>\n",
       "      <th>max_amount</th>\n",
       "      <th>mean_amount</th>\n",
       "      <th>count_time</th>\n",
       "      <th>sum_time</th>\n",
       "      <th>mean_time</th>\n",
       "    </tr>\n",
       "  </thead>\n",
       "  <tbody>\n",
       "    <tr>\n",
       "      <th>0</th>\n",
       "      <td>0009655768c64bdeb2e877511632db8f</td>\n",
       "      <td>8.57</td>\n",
       "      <td>28.16</td>\n",
       "      <td>15.950000</td>\n",
       "      <td>8</td>\n",
       "      <td>4344</td>\n",
       "      <td>543.0</td>\n",
       "    </tr>\n",
       "    <tr>\n",
       "      <th>1</th>\n",
       "      <td>00116118485d4dfda04fdbaba9a87b5c</td>\n",
       "      <td>0.20</td>\n",
       "      <td>3.19</td>\n",
       "      <td>1.363333</td>\n",
       "      <td>3</td>\n",
       "      <td>1224</td>\n",
       "      <td>408.0</td>\n",
       "    </tr>\n",
       "    <tr>\n",
       "      <th>2</th>\n",
       "      <td>0011e0d4e6b944f998e987f904e8c1e5</td>\n",
       "      <td>8.96</td>\n",
       "      <td>23.03</td>\n",
       "      <td>15.892000</td>\n",
       "      <td>5</td>\n",
       "      <td>2256</td>\n",
       "      <td>451.2</td>\n",
       "    </tr>\n",
       "  </tbody>\n",
       "</table>\n",
       "</div>"
      ],
      "text/plain": [
       "                             person  min_amount  max_amount  mean_amount  \\\n",
       "0  0009655768c64bdeb2e877511632db8f        8.57       28.16    15.950000   \n",
       "1  00116118485d4dfda04fdbaba9a87b5c        0.20        3.19     1.363333   \n",
       "2  0011e0d4e6b944f998e987f904e8c1e5        8.96       23.03    15.892000   \n",
       "\n",
       "   count_time  sum_time  mean_time  \n",
       "0           8      4344      543.0  \n",
       "1           3      1224      408.0  \n",
       "2           5      2256      451.2  "
      ]
     },
     "execution_count": 15,
     "metadata": {},
     "output_type": "execute_result"
    }
   ],
   "source": [
    "transactions_grouped_df = pd.merge(\n",
    "    transactions_amount_grouped_df,\n",
    "    transactions_time_grouped_df,\n",
    "    on=\"person\",\n",
    "    how=\"inner\",\n",
    ")\n",
    "\n",
    "transactions_grouped_df.head(3)"
   ]
  },
  {
   "cell_type": "markdown",
   "metadata": {},
   "source": [
    "### 2. Cruce de Dataframes"
   ]
  },
  {
   "cell_type": "code",
   "execution_count": 16,
   "metadata": {},
   "outputs": [
    {
     "data": {
      "text/html": [
       "<div>\n",
       "<style scoped>\n",
       "    .dataframe tbody tr th:only-of-type {\n",
       "        vertical-align: middle;\n",
       "    }\n",
       "\n",
       "    .dataframe tbody tr th {\n",
       "        vertical-align: top;\n",
       "    }\n",
       "\n",
       "    .dataframe thead th {\n",
       "        text-align: right;\n",
       "    }\n",
       "</style>\n",
       "<table border=\"1\" class=\"dataframe\">\n",
       "  <thead>\n",
       "    <tr style=\"text-align: right;\">\n",
       "      <th></th>\n",
       "      <th>gender</th>\n",
       "      <th>age</th>\n",
       "      <th>id</th>\n",
       "      <th>became_member_on</th>\n",
       "      <th>income</th>\n",
       "      <th>became_member_on_converted</th>\n",
       "      <th>gender_filled</th>\n",
       "    </tr>\n",
       "  </thead>\n",
       "  <tbody>\n",
       "    <tr>\n",
       "      <th>1</th>\n",
       "      <td>F</td>\n",
       "      <td>55</td>\n",
       "      <td>0610b486422d4921ae7d2bf64640c50b</td>\n",
       "      <td>20170715</td>\n",
       "      <td>112000.0</td>\n",
       "      <td>2017-07-15</td>\n",
       "      <td>F</td>\n",
       "    </tr>\n",
       "    <tr>\n",
       "      <th>3</th>\n",
       "      <td>F</td>\n",
       "      <td>75</td>\n",
       "      <td>78afa995795e4d85b5d9ceeca43f5fef</td>\n",
       "      <td>20170509</td>\n",
       "      <td>100000.0</td>\n",
       "      <td>2017-05-09</td>\n",
       "      <td>F</td>\n",
       "    </tr>\n",
       "    <tr>\n",
       "      <th>5</th>\n",
       "      <td>M</td>\n",
       "      <td>68</td>\n",
       "      <td>e2127556f4f64592b11af22de27a7932</td>\n",
       "      <td>20180426</td>\n",
       "      <td>70000.0</td>\n",
       "      <td>2018-04-26</td>\n",
       "      <td>M</td>\n",
       "    </tr>\n",
       "  </tbody>\n",
       "</table>\n",
       "</div>"
      ],
      "text/plain": [
       "  gender  age                                id  became_member_on    income  \\\n",
       "1      F   55  0610b486422d4921ae7d2bf64640c50b          20170715  112000.0   \n",
       "3      F   75  78afa995795e4d85b5d9ceeca43f5fef          20170509  100000.0   \n",
       "5      M   68  e2127556f4f64592b11af22de27a7932          20180426   70000.0   \n",
       "\n",
       "  became_member_on_converted gender_filled  \n",
       "1                 2017-07-15             F  \n",
       "3                 2017-05-09             F  \n",
       "5                 2018-04-26             M  "
      ]
     },
     "execution_count": 16,
     "metadata": {},
     "output_type": "execute_result"
    }
   ],
   "source": [
    "profile_df.head(3)"
   ]
  },
  {
   "cell_type": "code",
   "execution_count": 17,
   "metadata": {},
   "outputs": [
    {
     "data": {
      "text/html": [
       "<div>\n",
       "<style scoped>\n",
       "    .dataframe tbody tr th:only-of-type {\n",
       "        vertical-align: middle;\n",
       "    }\n",
       "\n",
       "    .dataframe tbody tr th {\n",
       "        vertical-align: top;\n",
       "    }\n",
       "\n",
       "    .dataframe thead th {\n",
       "        text-align: right;\n",
       "    }\n",
       "</style>\n",
       "<table border=\"1\" class=\"dataframe\">\n",
       "  <thead>\n",
       "    <tr style=\"text-align: right;\">\n",
       "      <th></th>\n",
       "      <th>age</th>\n",
       "      <th>income</th>\n",
       "      <th>gender_filled</th>\n",
       "      <th>min_amount</th>\n",
       "      <th>max_amount</th>\n",
       "      <th>mean_amount</th>\n",
       "      <th>count_time</th>\n",
       "      <th>sum_time</th>\n",
       "      <th>mean_time</th>\n",
       "    </tr>\n",
       "    <tr>\n",
       "      <th>person</th>\n",
       "      <th></th>\n",
       "      <th></th>\n",
       "      <th></th>\n",
       "      <th></th>\n",
       "      <th></th>\n",
       "      <th></th>\n",
       "      <th></th>\n",
       "      <th></th>\n",
       "      <th></th>\n",
       "    </tr>\n",
       "  </thead>\n",
       "  <tbody>\n",
       "    <tr>\n",
       "      <th>0610b486422d4921ae7d2bf64640c50b</th>\n",
       "      <td>55</td>\n",
       "      <td>112000.0</td>\n",
       "      <td>F</td>\n",
       "      <td>21.51</td>\n",
       "      <td>32.28</td>\n",
       "      <td>25.670000</td>\n",
       "      <td>3</td>\n",
       "      <td>690</td>\n",
       "      <td>230.000000</td>\n",
       "    </tr>\n",
       "    <tr>\n",
       "      <th>78afa995795e4d85b5d9ceeca43f5fef</th>\n",
       "      <td>75</td>\n",
       "      <td>100000.0</td>\n",
       "      <td>F</td>\n",
       "      <td>17.78</td>\n",
       "      <td>29.72</td>\n",
       "      <td>22.752857</td>\n",
       "      <td>7</td>\n",
       "      <td>2160</td>\n",
       "      <td>308.571429</td>\n",
       "    </tr>\n",
       "    <tr>\n",
       "      <th>e2127556f4f64592b11af22de27a7932</th>\n",
       "      <td>68</td>\n",
       "      <td>70000.0</td>\n",
       "      <td>M</td>\n",
       "      <td>17.88</td>\n",
       "      <td>21.43</td>\n",
       "      <td>19.243333</td>\n",
       "      <td>3</td>\n",
       "      <td>1104</td>\n",
       "      <td>368.000000</td>\n",
       "    </tr>\n",
       "  </tbody>\n",
       "</table>\n",
       "</div>"
      ],
      "text/plain": [
       "                                  age    income gender_filled  min_amount  \\\n",
       "person                                                                      \n",
       "0610b486422d4921ae7d2bf64640c50b   55  112000.0             F       21.51   \n",
       "78afa995795e4d85b5d9ceeca43f5fef   75  100000.0             F       17.78   \n",
       "e2127556f4f64592b11af22de27a7932   68   70000.0             M       17.88   \n",
       "\n",
       "                                  max_amount  mean_amount  count_time  \\\n",
       "person                                                                  \n",
       "0610b486422d4921ae7d2bf64640c50b       32.28    25.670000           3   \n",
       "78afa995795e4d85b5d9ceeca43f5fef       29.72    22.752857           7   \n",
       "e2127556f4f64592b11af22de27a7932       21.43    19.243333           3   \n",
       "\n",
       "                                  sum_time   mean_time  \n",
       "person                                                  \n",
       "0610b486422d4921ae7d2bf64640c50b       690  230.000000  \n",
       "78afa995795e4d85b5d9ceeca43f5fef      2160  308.571429  \n",
       "e2127556f4f64592b11af22de27a7932      1104  368.000000  "
      ]
     },
     "execution_count": 17,
     "metadata": {},
     "output_type": "execute_result"
    }
   ],
   "source": [
    "merged_df = (\n",
    "    pd.merge(\n",
    "        profile_df[[\"id\", \"age\", \"income\", \"gender_filled\"]],\n",
    "        transactions_grouped_df,\n",
    "        left_on=\"id\",\n",
    "        right_on=\"person\",\n",
    "        how=\"inner\"\n",
    "        )\n",
    "        .drop(columns=\"id\")\n",
    "        .set_index(\"person\")\n",
    ")\n",
    "\n",
    "merged_df.head(3)"
   ]
  },
  {
   "cell_type": "markdown",
   "metadata": {},
   "source": [
    "## Tratamiento de Outliers\n",
    "### 1. Detección"
   ]
  },
  {
   "cell_type": "code",
   "execution_count": 18,
   "metadata": {},
   "outputs": [],
   "source": [
    "def detect_outliers_iqr(data, column):\n",
    "    Q1 = data[column].quantile(0.25)\n",
    "    Q3 = data[column].quantile(0.75)\n",
    "    IQR = Q3 - Q1\n",
    "    \n",
    "    lower_bound = Q1 - 1.5 * IQR\n",
    "    upper_bound = Q3 + 1.5 * IQR\n",
    "    \n",
    "    return lower_bound, upper_bound\n",
    "\n",
    "\n",
    "def detect_outliers_zscore(data, column, threshold=3):\n",
    "    z_scores = zscore(data[column])\n",
    "    \n",
    "    lower_bound = np.min(data[column][z_scores < threshold])\n",
    "    upper_bound = np.max(data[column][z_scores > threshold])\n",
    "    \n",
    "    return lower_bound, upper_bound\n",
    "\n",
    "\n",
    "def detect_outliers_percentile(data, column, threshold=0.25):\n",
    "    lower_bound = data[column].quantile(threshold)\n",
    "    upper_bound = data[column].quantile(1 - threshold)\n",
    "    \n",
    "    return lower_bound, upper_bound\n",
    "\n",
    "\n",
    "def transform_outliers(data, column, lower_bound, upper_bound):\n",
    "    data.loc[data[column] < lower_bound, column] = lower_bound\n",
    "    data.loc[data[column] > upper_bound, column] = upper_bound\n",
    "    return data"
   ]
  },
  {
   "cell_type": "code",
   "execution_count": 19,
   "metadata": {},
   "outputs": [
    {
     "name": "stdout",
     "output_type": "stream",
     "text": [
      "Límite inferior: 6.0\n",
      "Límite superior: 102.0\n"
     ]
    }
   ],
   "source": [
    "lower_bound, upper_bound = detect_outliers_iqr(merged_df, \"age\")\n",
    "print(f\"Límite inferior: {lower_bound}\")\n",
    "print(f\"Límite superior: {upper_bound}\")"
   ]
  },
  {
   "cell_type": "code",
   "execution_count": 20,
   "metadata": {},
   "outputs": [
    {
     "name": "stdout",
     "output_type": "stream",
     "text": [
      "Límite inferior: 18\n",
      "Límite superior: 100\n"
     ]
    }
   ],
   "source": [
    "lower_bound, upper_bound = detect_outliers_zscore(merged_df, \"age\", threshold=2.5)\n",
    "print(f\"Límite inferior: {lower_bound}\")\n",
    "print(f\"Límite superior: {upper_bound}\")"
   ]
  },
  {
   "cell_type": "code",
   "execution_count": 21,
   "metadata": {},
   "outputs": [
    {
     "name": "stdout",
     "output_type": "stream",
     "text": [
      "Límite inferior: 34.0\n",
      "Límite superior: 72.0\n"
     ]
    }
   ],
   "source": [
    "lower_bound, upper_bound = detect_outliers_percentile(merged_df, \"age\", threshold=0.15)\n",
    "print(f\"Límite inferior: {lower_bound}\")\n",
    "print(f\"Límite superior: {upper_bound}\")"
   ]
  },
  {
   "cell_type": "code",
   "execution_count": 22,
   "metadata": {},
   "outputs": [
    {
     "data": {
      "text/html": [
       "<div>\n",
       "<style scoped>\n",
       "    .dataframe tbody tr th:only-of-type {\n",
       "        vertical-align: middle;\n",
       "    }\n",
       "\n",
       "    .dataframe tbody tr th {\n",
       "        vertical-align: top;\n",
       "    }\n",
       "\n",
       "    .dataframe thead th {\n",
       "        text-align: right;\n",
       "    }\n",
       "</style>\n",
       "<table border=\"1\" class=\"dataframe\">\n",
       "  <thead>\n",
       "    <tr style=\"text-align: right;\">\n",
       "      <th></th>\n",
       "      <th>age</th>\n",
       "      <th>income</th>\n",
       "      <th>gender_filled</th>\n",
       "      <th>min_amount</th>\n",
       "      <th>max_amount</th>\n",
       "      <th>mean_amount</th>\n",
       "      <th>count_time</th>\n",
       "      <th>sum_time</th>\n",
       "      <th>mean_time</th>\n",
       "    </tr>\n",
       "    <tr>\n",
       "      <th>person</th>\n",
       "      <th></th>\n",
       "      <th></th>\n",
       "      <th></th>\n",
       "      <th></th>\n",
       "      <th></th>\n",
       "      <th></th>\n",
       "      <th></th>\n",
       "      <th></th>\n",
       "      <th></th>\n",
       "    </tr>\n",
       "  </thead>\n",
       "  <tbody>\n",
       "    <tr>\n",
       "      <th>0610b486422d4921ae7d2bf64640c50b</th>\n",
       "      <td>55</td>\n",
       "      <td>112000.0</td>\n",
       "      <td>F</td>\n",
       "      <td>21.51</td>\n",
       "      <td>32.28</td>\n",
       "      <td>25.670000</td>\n",
       "      <td>3</td>\n",
       "      <td>690</td>\n",
       "      <td>230.000000</td>\n",
       "    </tr>\n",
       "    <tr>\n",
       "      <th>78afa995795e4d85b5d9ceeca43f5fef</th>\n",
       "      <td>72</td>\n",
       "      <td>100000.0</td>\n",
       "      <td>F</td>\n",
       "      <td>17.78</td>\n",
       "      <td>29.72</td>\n",
       "      <td>22.752857</td>\n",
       "      <td>7</td>\n",
       "      <td>2160</td>\n",
       "      <td>308.571429</td>\n",
       "    </tr>\n",
       "    <tr>\n",
       "      <th>e2127556f4f64592b11af22de27a7932</th>\n",
       "      <td>68</td>\n",
       "      <td>70000.0</td>\n",
       "      <td>M</td>\n",
       "      <td>17.88</td>\n",
       "      <td>21.43</td>\n",
       "      <td>19.243333</td>\n",
       "      <td>3</td>\n",
       "      <td>1104</td>\n",
       "      <td>368.000000</td>\n",
       "    </tr>\n",
       "  </tbody>\n",
       "</table>\n",
       "</div>"
      ],
      "text/plain": [
       "                                  age    income gender_filled  min_amount  \\\n",
       "person                                                                      \n",
       "0610b486422d4921ae7d2bf64640c50b   55  112000.0             F       21.51   \n",
       "78afa995795e4d85b5d9ceeca43f5fef   72  100000.0             F       17.78   \n",
       "e2127556f4f64592b11af22de27a7932   68   70000.0             M       17.88   \n",
       "\n",
       "                                  max_amount  mean_amount  count_time  \\\n",
       "person                                                                  \n",
       "0610b486422d4921ae7d2bf64640c50b       32.28    25.670000           3   \n",
       "78afa995795e4d85b5d9ceeca43f5fef       29.72    22.752857           7   \n",
       "e2127556f4f64592b11af22de27a7932       21.43    19.243333           3   \n",
       "\n",
       "                                  sum_time   mean_time  \n",
       "person                                                  \n",
       "0610b486422d4921ae7d2bf64640c50b       690  230.000000  \n",
       "78afa995795e4d85b5d9ceeca43f5fef      2160  308.571429  \n",
       "e2127556f4f64592b11af22de27a7932      1104  368.000000  "
      ]
     },
     "execution_count": 22,
     "metadata": {},
     "output_type": "execute_result"
    }
   ],
   "source": [
    "merged_df = transform_outliers(merged_df, \"age\", lower_bound, upper_bound)\n",
    "merged_df.head(3)"
   ]
  },
  {
   "cell_type": "markdown",
   "metadata": {},
   "source": [
    "## Dashboard"
   ]
  },
  {
   "cell_type": "code",
   "execution_count": 23,
   "metadata": {},
   "outputs": [],
   "source": [
    "\n",
    "app = dash.Dash(__name__)\n",
    "\n",
    "df = merged_df\n",
    "\n",
    "# Definir el diseño del dashboard\n",
    "app.layout = html.Div([\n",
    "    html.H1(\"Dashboard\"),\n",
    "    dcc.Dropdown(\n",
    "        id='dropdown-column',\n",
    "        options=[{'label': col, 'value': col} for col in df.columns],\n",
    "        value='age'  # Valor por defecto\n",
    "    ),\n",
    "    html.Div(id='output-chart')\n",
    "])\n",
    "\n",
    "# Definir la lógica de la aplicación Dash\n",
    "@app.callback(\n",
    "    Output('output-chart', 'children'),\n",
    "    [Input('dropdown-column', 'value')]\n",
    ")\n",
    "def update_chart(selected_column):\n",
    "    if selected_column in ['age', 'count_time']:\n",
    "        # Conteo agrupado\n",
    "        grouped_count = df.groupby(selected_column).size().reset_index(name='Count')\n",
    "        fig = px.bar(grouped_count, x=selected_column, y='Count', title=f'Conteo Agrupado por {selected_column}')\n",
    "    elif selected_column in ['income', 'min_amount', 'max_amount', 'mean_amount', 'sum_time', 'mean_time']:\n",
    "        # Histograma\n",
    "        fig = px.histogram(df, x=selected_column, title=f'Histograma de {selected_column}')\n",
    "    else:\n",
    "        return html.Div(\"Seleccione una columna válida para mostrar el gráfico\")\n",
    "    \n",
    "    return dcc.Graph(figure=fig)"
   ]
  },
  {
   "cell_type": "code",
   "execution_count": 24,
   "metadata": {},
   "outputs": [
    {
     "data": {
      "text/html": [
       "\n",
       "        <iframe\n",
       "            width=\"100%\"\n",
       "            height=\"650\"\n",
       "            src=\"http://0.0.0.0:8888/\"\n",
       "            frameborder=\"0\"\n",
       "            allowfullscreen\n",
       "            \n",
       "        ></iframe>\n",
       "        "
      ],
      "text/plain": [
       "<IPython.lib.display.IFrame at 0x7f85f33a1030>"
      ]
     },
     "metadata": {},
     "output_type": "display_data"
    }
   ],
   "source": [
    "app.run_server(mode=\"inline\", host=\"0.0.0.0\", port=8888, use_reloader=True)"
   ]
  },
  {
   "cell_type": "markdown",
   "metadata": {},
   "source": [
    "### Ejemplos del dashboard"
   ]
  },
  {
   "cell_type": "markdown",
   "metadata": {},
   "source": [
    "![age](../resouces/2-Starbucks/age.png)"
   ]
  },
  {
   "cell_type": "markdown",
   "metadata": {},
   "source": [
    "![income](../resouces/2-Starbucks/income.png)"
   ]
  },
  {
   "cell_type": "markdown",
   "metadata": {},
   "source": [
    "![mean-amount](../resouces/2-Starbucks/mean-amount.png)"
   ]
  },
  {
   "cell_type": "markdown",
   "metadata": {},
   "source": [
    "## Storytelling"
   ]
  },
  {
   "cell_type": "markdown",
   "metadata": {},
   "source": [
    "**Perfilando a nuestros clientes**\n",
    "\n",
    "Como parte del equipo de marketing de Starbucks, les hablaré sobre cómo hemos perfilado a nuestros clientes para mejorar su experiencia.\n",
    "\n",
    "1. **Edad:**\n",
    "   - La mayoría de nuestros clientes tienen entre 42 y 66 años.\n",
    "   - Edad promedio: alrededor de 55 años.\n",
    "   - Esto nos ayuda a visualizar a nuestro cliente típico y adaptar nuestras estrategias en consecuencia.\n",
    "\n",
    "2. **Ingresos:**\n",
    "   - Ingreso promedio: $63,000.\n",
    "   - La mayoría gana entre $49,000 y $79,000 al año.\n",
    "   - Esto nos da una idea de su capacidad de gasto y cómo podemos ajustar nuestras ofertas y segmentación de mercado.\n",
    "\n",
    "3. **Género:**\n",
    "   - Mayoría masculina (8,295).\n",
    "   - Considerable cantidad de clientes femeninas (5,988) y un grupo \"otros\" (204).\n",
    "   - Esto nos permite adaptar nuestras campañas publicitarias para incluir mensajes que resuenen con diferentes identidades de género.\n",
    "\n",
    "4. **Comportamiento de compra:**\n",
    "   - Monto promedio: $15.25.\n",
    "   - Gran variabilidad, con algunos clientes realizando compras significativamente más grandes.\n",
    "   - Esto nos da una comprensión más profunda de los hábitos de gasto y nos ayuda a ajustar nuestras estrategias de precios y promociones.\n",
    "\n",
    "Entendemos mejor quiénes son nuestros clientes y qué los impulsa. Estamos seguros de que podemos ofrecer experiencias aún más satisfactorias y fortalecer la lealtad de la marca en el proceso.\n",
    "\n",
    "Sin embargo, alcanzar un monto promedio de transacción de $21, que corresponde al percentil 75%, puede resultar desafiante. Actualmente, nuestro monto promedio (percentil 50%) es de $15.25. Esto requiere una estrategia cuidadosamente diseñada para aumentar el valor de compra por cliente, lo que podría implicar ajustes en nuestros productos, precios o promociones.\n"
   ]
  }
 ],
 "metadata": {
  "kernelspec": {
   "display_name": "Python 3",
   "language": "python",
   "name": "python3"
  },
  "language_info": {
   "codemirror_mode": {
    "name": "ipython",
    "version": 3
   },
   "file_extension": ".py",
   "mimetype": "text/x-python",
   "name": "python",
   "nbconvert_exporter": "python",
   "pygments_lexer": "ipython3",
   "version": "3.10.11"
  }
 },
 "nbformat": 4,
 "nbformat_minor": 2
}
